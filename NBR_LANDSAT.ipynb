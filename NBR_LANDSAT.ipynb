{
  "nbformat": 4,
  "nbformat_minor": 0,
  "metadata": {
    "colab": {
      "name": "NBR_LANDSAT.ipynb",
      "provenance": [],
      "authorship_tag": "ABX9TyNBRt2ICx0rSknkfBecxoqT",
      "include_colab_link": true
    },
    "kernelspec": {
      "name": "python3",
      "display_name": "Python 3"
    },
    "language_info": {
      "name": "python"
    }
  },
  "cells": [
    {
      "cell_type": "markdown",
      "metadata": {
        "id": "view-in-github",
        "colab_type": "text"
      },
      "source": [
        "<a href=\"https://colab.research.google.com/github/sethgis/dash_front_end/blob/main/NBR_LANDSAT.ipynb\" target=\"_parent\"><img src=\"https://colab.research.google.com/assets/colab-badge.svg\" alt=\"Open In Colab\"/></a>"
      ]
    },
    {
      "cell_type": "code",
      "metadata": {
        "id": "xZMAdk4dz7jb",
        "colab": {
          "base_uri": "https://localhost:8080/"
        },
        "outputId": "914addb9-df3d-442f-ee63-1cff1297dd97"
      },
      "source": [
        "# Installs geemap package\n",
        "import subprocess\n",
        " \n",
        "try:\n",
        "    import geemap\n",
        "    import geopandas as gpd\n",
        "    import numpy as np\n",
        "    import folium\n",
        "    import rasterio\n",
        "    import tensorflow\n",
        "except ImportError:\n",
        "    print('geemap package not installed. Installing ...')\n",
        "    subprocess.check_call([\"python\", '-m', 'pip', 'install', 'geemap'])\n",
        "    subprocess.check_call([\"python\", '-m', 'pip', 'install', 'geopandas'])\n",
        "    subprocess.check_call([\"python\", '-m', 'pip', 'install', 'folium'])\n",
        "    subprocess.check_call([\"python\", '-m', 'pip', 'install', \"rasterio\"])\n",
        "    subprocess.check_call([\"python\", '-m', 'pip', 'install', \"tensorflow\"])\n",
        "\n",
        "    \n",
        " \n",
        "# Checks whether this notebook is running on Google Colab\n",
        "try:\n",
        "    import google.colab\n",
        "    import geemap.eefolium as geemap\n",
        "except:\n",
        "    import geemap\n",
        " \n",
        "# Authenticates and initializes Earth Engine\n",
        "import ee\n",
        "import matplotlib.pyplot as plt\n",
        "import numpy as np\n",
        "from scipy.stats import norm, gamma, f, chi2\n",
        "import IPython.display as disp\n",
        "import geopandas as gpd\n",
        "from shapely.geometry import Point, Polygon\n",
        "from geemap import geojson_to_ee, ee_to_geojson\n",
        "from geopandas import GeoSeries\n",
        "import json\n",
        "import pandas as pd\n",
        "%matplotlib inline \n",
        "try:\n",
        "    ee.Initialize()\n",
        "except Exception as e:\n",
        "    ee.Authenticate()\n",
        "    ee.Initialize()"
      ],
      "execution_count": null,
      "outputs": [
        {
          "output_type": "stream",
          "name": "stdout",
          "text": [
            "geemap package not installed. Installing ...\n",
            "To authorize access needed by Earth Engine, open the following URL in a web browser and follow the instructions. If the web browser does not start automatically, please manually browse the URL below.\n",
            "\n",
            "    https://accounts.google.com/o/oauth2/auth?client_id=517222506229-vsmmajv00ul0bs7p89v5m89qs8eb9359.apps.googleusercontent.com&scope=https%3A%2F%2Fwww.googleapis.com%2Fauth%2Fearthengine+https%3A%2F%2Fwww.googleapis.com%2Fauth%2Fdevstorage.full_control&redirect_uri=urn%3Aietf%3Awg%3Aoauth%3A2.0%3Aoob&response_type=code&code_challenge=fWd3IZAnC5O51P9I5oLOWacXyFF20bbUruvld94K6sM&code_challenge_method=S256\n",
            "\n",
            "The authorization workflow will generate a code, which you should paste in the box below. \n",
            "Enter verification code: 4/1AX4XfWgiztFqnM2oa0AsdQ1GbCVbHcx2vN_mFp_PbG4VJGOeydks5KPhfXA\n",
            "\n",
            "Successfully saved authorization token.\n"
          ]
        }
      ]
    },
    {
      "cell_type": "code",
      "metadata": {
        "id": "h76TJYCs0b0w"
      },
      "source": [
        "AOI = ee.FeatureCollection('users/snyawacha/ngorongoro_forest_zone')\n",
        "# AOI.getInfo()"
      ],
      "execution_count": null,
      "outputs": []
    },
    {
      "cell_type": "code",
      "metadata": {
        "id": "Nio3KwR41Lw1"
      },
      "source": [
        "START_DATE = '2020-01-01'\n",
        "END_DATE = '2020-03-29'\n",
        "START_DATE2 = '2020-03-16'\n",
        "END_DATE2 = '2020-06-29'\n",
        "CLOUD_FILTER = 60\n",
        "CLD_PRB_THRESH = 40\n",
        "NIR_DRK_THRESH = 0.15\n",
        "CLD_PRJ_DIST = 2\n",
        "BUFFER = 100\n",
        "base_period = ['2021-06-01','2021-06-28'] # Image before fire occurence date \n",
        "\n",
        "\n",
        "comparissonPeriod = ['2021-07-01', '2021-07-30']"
      ],
      "execution_count": null,
      "outputs": []
    },
    {
      "cell_type": "code",
      "metadata": {
        "id": "HeshIJWw0OA2"
      },
      "source": [
        "Start_date = ['2021-06-01','2021-06-28']\n",
        "End_date =['2021-07-01','2021-07-30']"
      ],
      "execution_count": null,
      "outputs": []
    },
    {
      "cell_type": "code",
      "metadata": {
        "id": "1eOYbBGJ03hq"
      },
      "source": [
        "# Use Landsat 8 surface reflectance data for predictors.\n",
        "def Nbr_product(AOI,Start_date, End_date):\n",
        "  L8SR = ee.ImageCollection('LANDSAT/LC08/C01/T1_SR') \\\n",
        "      .filterBounds(ee.FeatureCollection(AOI)) \\\n",
        "      .filterMetadata('CLOUD_COVER', 'less_than', 60) \\\n",
        "      .sort(\"CLOUD_COVER\")\n",
        "\n",
        "  # Use these bands for prediction.\n",
        "  BANDS = ['B2', 'B3', 'B4', 'B5', 'B6', 'B7']\n",
        "\n",
        "  # Cloud masking function.\n",
        "  def maskL8sr(image):\n",
        "    cloudShadowBitMask = ee.Number(2).pow(3).int()\n",
        "    cloudsBitMask = ee.Number(2).pow(5).int()\n",
        "    qa = image.select('pixel_qa')\n",
        "    mask = qa.bitwiseAnd(cloudShadowBitMask).eq(0).And(\n",
        "      qa.bitwiseAnd(cloudsBitMask).eq(0))\n",
        "    return image.updateMask(mask).select(BANDS).divide(10000)\n",
        "\n",
        "  # Acquiring a cloud masked image of Landsat.\n",
        "  Analysis = L8SR.filterDate(Start_date[0], Start_date[1]).map(maskL8sr)\n",
        "  Reference = L8SR.filterDate(End_date[0], End_date[1]).map(maskL8sr)\n",
        "\n",
        "  # Self refernceing the NBR for comparability \n",
        "  def NBR(collection):\n",
        "      index = collection.normalizedDifference(['B5','B7'])\n",
        "      reference = index.subtract(index.focal_median(1,'square','pixels'))\n",
        "      #  return ((image.where(image.gt(0),0).where(image.lt(-1),-1)).multiply(-1)) ;\n",
        "      quality = reference.where(reference.gt(0),0).where(reference.lt(-1),-1).multiply(-1)\n",
        "      # quality = reference.qualityMosaic('nd')\n",
        "      return quality\n",
        "\n",
        "\n",
        "  # Quality mosaic of the resultant images including the Reference or Base image plus the Analysis image\n",
        "  BAND_BASE = Reference.map(NBR)\n",
        "  BAND_ANALYSIS = Analysis.map(NBR)\n",
        "  type(BAND_BASE)\n",
        "\n",
        "  QUALITY_ANALYSIS = BAND_ANALYSIS.qualityMosaic('nd')\n",
        "  QUALITY_BASE = BAND_BASE.qualityMosaic('nd')\n",
        "\n",
        "  # Defining the Kernel densities and the cleaning region for filtering \n",
        "  kernel_size = 0.5;\n",
        "  min_disturbances = 0.5;\n",
        "  kernel_clean_size = 0.5;\n",
        "  threshold_conservative = 0.1;\n",
        "\n",
        "  # Subtracting the quality mosaic images from each other\n",
        "  def subtract_(Q_band1, Q_band2):\n",
        "    rNBR_CHANGE = Q_band2.subtract(Q_band1)\n",
        "    # rNBR_capped = rNBR_CHANGE.where(rNBR_CHANGE.lt(0), 0)\n",
        "    return rNBR_CHANGE\n",
        "\n",
        "  # Calling the subtracted mosaic images\n",
        "  Difference_NBR = subtract_(QUALITY_BASE , QUALITY_ANALYSIS)\n",
        "\n",
        "  rNBR_capped = Difference_NBR.where(Difference_NBR.lt(0), 0);\n",
        "  rNBR_capped.getInfo()\n",
        "  NBR_difference_capped_1 = Difference_NBR.where(Difference_NBR.lt(threshold_conservative),0) and ((Difference_NBR.where(Difference_NBR.gte(threshold_conservative),1)))\n",
        "\n",
        "  # cleaning the final NBR output\n",
        "  NBR_difference_capped_1 = rNBR_capped.where(rNBR_capped.lt(threshold_conservative),0) and ((rNBR_capped.where(rNBR_capped.gte(threshold_conservative),1)));\n",
        "\n",
        "  # Compute standard deviation (SD) as texture of the NDVI.\n",
        "  NBR_difference_capped_2 = NBR_difference_capped_1.reduceNeighborhood(**{\n",
        "    'reducer': ee.Reducer.sum().unweighted(),\n",
        "    'kernel': ee.Kernel.circle(kernel_clean_size, 'meters'),})\n",
        "\n",
        "  # Capping the NBR values to capture changes\n",
        "  NBR_difference_capped_3 = rNBR_capped.where(NBR_difference_capped_2.gte(min_disturbances),1) and ((rNBR_capped.where(NBR_difference_capped_2.lt(min_disturbances),0))).unmask(-2)\n",
        "  NBR_difference_capped_4 = NBR_difference_capped_3.multiply(rNBR_capped);\n",
        "  NBR_difference_Export_cleaned = NBR_difference_capped_4.unmask(-2);\n",
        "\n",
        "  #Masking out the output to dileanate the changes from each other\n",
        "  masked_changes = NBR_difference_capped_4.updateMask(NBR_difference_capped_4.lte(0));\n",
        "  masked_changes2 = NBR_difference_capped_4.updateMask(NBR_difference_capped_4.gt(0));\n",
        "\n",
        "  # Clipping the changes to the region of interest\n",
        "  clipped_changes = masked_changes2.clip(AOI)\n",
        "\n",
        "  return clipped_changes\n",
        "\n",
        "\n",
        "\n"
      ],
      "execution_count": null,
      "outputs": []
    },
    {
      "cell_type": "code",
      "metadata": {
        "id": "NbXplFAq028K"
      },
      "source": [
        "test = Nbr_product(AOI,Start_date, End_date)"
      ],
      "execution_count": null,
      "outputs": []
    },
    {
      "cell_type": "code",
      "metadata": {
        "colab": {
          "base_uri": "https://localhost:8080/",
          "height": 1000
        },
        "id": "fVMqYkuv00bj",
        "outputId": "9b194ce9-7deb-4726-c836-df0a9586e5eb"
      },
      "source": [
        "Map = geemap.Map()\n",
        "Map.centerObject(AOI)\n",
        "Map.add_basemap('SATELLITE')\n",
        "Map.add_layer(test,{'palette': ['FF0000']},'FOREST DISTURBANCE')\n",
        "# Map.add_layer(AOI,{},'AOI')\n",
        "Map.addLayerControl()\n",
        "Map"
      ],
      "execution_count": null,
      "outputs": [
        {
          "output_type": "execute_result",
          "data": {
            "text/html": [
              "<div style=\"width:100%;\"><div style=\"position:relative;width:100%;height:0;padding-bottom:60%;\"><span style=\"color:#565656\">Make this Notebook Trusted to load map: File -> Trust Notebook</span><iframe src=\"about:blank\" style=\"position:absolute;width:100%;height:100%;left:0;top:0;border:none !important;\" data-html=%3C%21DOCTYPE%20html%3E%0A%3Chead%3E%20%20%20%20%0A%20%20%20%20%3Cmeta%20http-equiv%3D%22content-type%22%20content%3D%22text/html%3B%20charset%3DUTF-8%22%20/%3E%0A%20%20%20%20%0A%20%20%20%20%20%20%20%20%3Cscript%3E%0A%20%20%20%20%20%20%20%20%20%20%20%20L_NO_TOUCH%20%3D%20false%3B%0A%20%20%20%20%20%20%20%20%20%20%20%20L_DISABLE_3D%20%3D%20false%3B%0A%20%20%20%20%20%20%20%20%3C/script%3E%0A%20%20%20%20%0A%20%20%20%20%3Cstyle%3Ehtml%2C%20body%20%7Bwidth%3A%20100%25%3Bheight%3A%20100%25%3Bmargin%3A%200%3Bpadding%3A%200%3B%7D%3C/style%3E%0A%20%20%20%20%3Cstyle%3E%23map%20%7Bposition%3Aabsolute%3Btop%3A0%3Bbottom%3A0%3Bright%3A0%3Bleft%3A0%3B%7D%3C/style%3E%0A%20%20%20%20%3Cscript%20src%3D%22https%3A//cdn.jsdelivr.net/npm/leaflet%401.6.0/dist/leaflet.js%22%3E%3C/script%3E%0A%20%20%20%20%3Cscript%20src%3D%22https%3A//code.jquery.com/jquery-1.12.4.min.js%22%3E%3C/script%3E%0A%20%20%20%20%3Cscript%20src%3D%22https%3A//maxcdn.bootstrapcdn.com/bootstrap/3.2.0/js/bootstrap.min.js%22%3E%3C/script%3E%0A%20%20%20%20%3Cscript%20src%3D%22https%3A//cdnjs.cloudflare.com/ajax/libs/Leaflet.awesome-markers/2.0.2/leaflet.awesome-markers.js%22%3E%3C/script%3E%0A%20%20%20%20%3Clink%20rel%3D%22stylesheet%22%20href%3D%22https%3A//cdn.jsdelivr.net/npm/leaflet%401.6.0/dist/leaflet.css%22/%3E%0A%20%20%20%20%3Clink%20rel%3D%22stylesheet%22%20href%3D%22https%3A//maxcdn.bootstrapcdn.com/bootstrap/3.2.0/css/bootstrap.min.css%22/%3E%0A%20%20%20%20%3Clink%20rel%3D%22stylesheet%22%20href%3D%22https%3A//maxcdn.bootstrapcdn.com/bootstrap/3.2.0/css/bootstrap-theme.min.css%22/%3E%0A%20%20%20%20%3Clink%20rel%3D%22stylesheet%22%20href%3D%22https%3A//maxcdn.bootstrapcdn.com/font-awesome/4.6.3/css/font-awesome.min.css%22/%3E%0A%20%20%20%20%3Clink%20rel%3D%22stylesheet%22%20href%3D%22https%3A//cdnjs.cloudflare.com/ajax/libs/Leaflet.awesome-markers/2.0.2/leaflet.awesome-markers.css%22/%3E%0A%20%20%20%20%3Clink%20rel%3D%22stylesheet%22%20href%3D%22https%3A//cdn.jsdelivr.net/gh/python-visualization/folium/folium/templates/leaflet.awesome.rotate.min.css%22/%3E%0A%20%20%20%20%0A%20%20%20%20%20%20%20%20%20%20%20%20%3Cmeta%20name%3D%22viewport%22%20content%3D%22width%3Ddevice-width%2C%0A%20%20%20%20%20%20%20%20%20%20%20%20%20%20%20%20initial-scale%3D1.0%2C%20maximum-scale%3D1.0%2C%20user-scalable%3Dno%22%20/%3E%0A%20%20%20%20%20%20%20%20%20%20%20%20%3Cstyle%3E%0A%20%20%20%20%20%20%20%20%20%20%20%20%20%20%20%20%23map_cb65080146af4dd59fa4d11950365341%20%7B%0A%20%20%20%20%20%20%20%20%20%20%20%20%20%20%20%20%20%20%20%20position%3A%20relative%3B%0A%20%20%20%20%20%20%20%20%20%20%20%20%20%20%20%20%20%20%20%20width%3A%20100.0%25%3B%0A%20%20%20%20%20%20%20%20%20%20%20%20%20%20%20%20%20%20%20%20height%3A%20100.0%25%3B%0A%20%20%20%20%20%20%20%20%20%20%20%20%20%20%20%20%20%20%20%20left%3A%200.0%25%3B%0A%20%20%20%20%20%20%20%20%20%20%20%20%20%20%20%20%20%20%20%20top%3A%200.0%25%3B%0A%20%20%20%20%20%20%20%20%20%20%20%20%20%20%20%20%7D%0A%20%20%20%20%20%20%20%20%20%20%20%20%3C/style%3E%0A%20%20%20%20%20%20%20%20%0A%20%20%20%20%3Cscript%20src%3D%22https%3A//cdnjs.cloudflare.com/ajax/libs/leaflet.fullscreen/1.4.2/Control.FullScreen.min.js%22%3E%3C/script%3E%0A%20%20%20%20%3Clink%20rel%3D%22stylesheet%22%20href%3D%22https%3A//cdnjs.cloudflare.com/ajax/libs/leaflet.fullscreen/1.4.2/Control.FullScreen.min.css%22/%3E%0A%3C/head%3E%0A%3Cbody%3E%20%20%20%20%0A%20%20%20%20%0A%20%20%20%20%20%20%20%20%20%20%20%20%3Cdiv%20class%3D%22folium-map%22%20id%3D%22map_cb65080146af4dd59fa4d11950365341%22%20%3E%3C/div%3E%0A%20%20%20%20%20%20%20%20%0A%3C/body%3E%0A%3Cscript%3E%20%20%20%20%0A%20%20%20%20%0A%20%20%20%20%20%20%20%20%20%20%20%20var%20map_cb65080146af4dd59fa4d11950365341%20%3D%20L.map%28%0A%20%20%20%20%20%20%20%20%20%20%20%20%20%20%20%20%22map_cb65080146af4dd59fa4d11950365341%22%2C%0A%20%20%20%20%20%20%20%20%20%20%20%20%20%20%20%20%7B%0A%20%20%20%20%20%20%20%20%20%20%20%20%20%20%20%20%20%20%20%20center%3A%20%5B40.0%2C%20-100.0%5D%2C%0A%20%20%20%20%20%20%20%20%20%20%20%20%20%20%20%20%20%20%20%20crs%3A%20L.CRS.EPSG3857%2C%0A%20%20%20%20%20%20%20%20%20%20%20%20%20%20%20%20%20%20%20%20zoom%3A%204%2C%0A%20%20%20%20%20%20%20%20%20%20%20%20%20%20%20%20%20%20%20%20zoomControl%3A%20true%2C%0A%20%20%20%20%20%20%20%20%20%20%20%20%20%20%20%20%20%20%20%20preferCanvas%3A%20false%2C%0A%20%20%20%20%20%20%20%20%20%20%20%20%20%20%20%20%20%20%20%20eeInitialize%3A%20true%2C%0A%20%20%20%20%20%20%20%20%20%20%20%20%20%20%20%20%20%20%20%20addGoogleMap%3A%20true%2C%0A%20%20%20%20%20%20%20%20%20%20%20%20%20%20%20%20%20%20%20%20pluginLatlngpopup%3A%20true%2C%0A%20%20%20%20%20%20%20%20%20%20%20%20%20%20%20%20%20%20%20%20pluginFullscreen%3A%20true%2C%0A%20%20%20%20%20%20%20%20%20%20%20%20%20%20%20%20%20%20%20%20pluginDraw%3A%20false%2C%0A%20%20%20%20%20%20%20%20%20%20%20%20%20%20%20%20%20%20%20%20DrawExport%3A%20true%2C%0A%20%20%20%20%20%20%20%20%20%20%20%20%20%20%20%20%20%20%20%20pluginMinimap%3A%20false%2C%0A%20%20%20%20%20%20%20%20%20%20%20%20%20%20%20%20%20%20%20%20pluginLayercontrol%3A%20false%2C%0A%20%20%20%20%20%20%20%20%20%20%20%20%20%20%20%20%7D%0A%20%20%20%20%20%20%20%20%20%20%20%20%29%3B%0A%0A%20%20%20%20%20%20%20%20%20%20%20%20%0A%0A%20%20%20%20%20%20%20%20%0A%20%20%20%20%0A%20%20%20%20%20%20%20%20%20%20%20%20var%20tile_layer_0cb79ec7153940b7a9d27f00b53b7145%20%3D%20L.tileLayer%28%0A%20%20%20%20%20%20%20%20%20%20%20%20%20%20%20%20%22https%3A//%7Bs%7D.tile.openstreetmap.org/%7Bz%7D/%7Bx%7D/%7By%7D.png%22%2C%0A%20%20%20%20%20%20%20%20%20%20%20%20%20%20%20%20%7B%22attribution%22%3A%20%22Data%20by%20%5Cu0026copy%3B%20%5Cu003ca%20href%3D%5C%22http%3A//openstreetmap.org%5C%22%5Cu003eOpenStreetMap%5Cu003c/a%5Cu003e%2C%20under%20%5Cu003ca%20href%3D%5C%22http%3A//www.openstreetmap.org/copyright%5C%22%5Cu003eODbL%5Cu003c/a%5Cu003e.%22%2C%20%22detectRetina%22%3A%20false%2C%20%22maxNativeZoom%22%3A%2018%2C%20%22maxZoom%22%3A%2018%2C%20%22minZoom%22%3A%200%2C%20%22noWrap%22%3A%20false%2C%20%22opacity%22%3A%201%2C%20%22subdomains%22%3A%20%22abc%22%2C%20%22tms%22%3A%20false%7D%0A%20%20%20%20%20%20%20%20%20%20%20%20%29.addTo%28map_cb65080146af4dd59fa4d11950365341%29%3B%0A%20%20%20%20%20%20%20%20%0A%20%20%20%20%0A%20%20%20%20%20%20%20%20%20%20%20%20var%20tile_layer_e4de1f3ce8904ec1932285413e8b4f5c%20%3D%20L.tileLayer%28%0A%20%20%20%20%20%20%20%20%20%20%20%20%20%20%20%20%22https%3A//mt1.google.com/vt/lyrs%3Dm%5Cu0026x%3D%7Bx%7D%5Cu0026y%3D%7By%7D%5Cu0026z%3D%7Bz%7D%22%2C%0A%20%20%20%20%20%20%20%20%20%20%20%20%20%20%20%20%7B%22attribution%22%3A%20%22Google%22%2C%20%22detectRetina%22%3A%20false%2C%20%22maxNativeZoom%22%3A%2018%2C%20%22maxZoom%22%3A%2018%2C%20%22minZoom%22%3A%200%2C%20%22noWrap%22%3A%20false%2C%20%22opacity%22%3A%201%2C%20%22subdomains%22%3A%20%22abc%22%2C%20%22tms%22%3A%20false%7D%0A%20%20%20%20%20%20%20%20%20%20%20%20%29.addTo%28map_cb65080146af4dd59fa4d11950365341%29%3B%0A%20%20%20%20%20%20%20%20%0A%20%20%20%20%0A%20%20%20%20%20%20%20%20%20%20%20%20%20%20%20%20var%20lat_lng_popup_ad1bf4d9675541d9abd4c82c640cb040%20%3D%20L.popup%28%29%3B%0A%20%20%20%20%20%20%20%20%20%20%20%20%20%20%20%20function%20latLngPop%28e%29%20%7B%0A%20%20%20%20%20%20%20%20%20%20%20%20%20%20%20%20%20%20%20%20lat_lng_popup_ad1bf4d9675541d9abd4c82c640cb040%0A%20%20%20%20%20%20%20%20%20%20%20%20%20%20%20%20%20%20%20%20%20%20%20%20.setLatLng%28e.latlng%29%0A%20%20%20%20%20%20%20%20%20%20%20%20%20%20%20%20%20%20%20%20%20%20%20%20.setContent%28%22Latitude%3A%20%22%20%2B%20e.latlng.lat.toFixed%284%29%20%2B%0A%20%20%20%20%20%20%20%20%20%20%20%20%20%20%20%20%20%20%20%20%20%20%20%20%20%20%20%20%20%20%20%20%20%20%20%20%22%3Cbr%3ELongitude%3A%20%22%20%2B%20e.latlng.lng.toFixed%284%29%29%0A%20%20%20%20%20%20%20%20%20%20%20%20%20%20%20%20%20%20%20%20%20%20%20%20.openOn%28map_cb65080146af4dd59fa4d11950365341%29%3B%0A%20%20%20%20%20%20%20%20%20%20%20%20%20%20%20%20%20%20%20%20%7D%0A%20%20%20%20%20%20%20%20%20%20%20%20%20%20%20%20map_cb65080146af4dd59fa4d11950365341.on%28%27click%27%2C%20latLngPop%29%3B%0A%20%20%20%20%20%20%20%20%20%20%20%20%0A%20%20%20%20%0A%20%20%20%20%20%20%20%20%20%20%20%20L.control.fullscreen%28%0A%20%20%20%20%20%20%20%20%20%20%20%20%20%20%20%20%7B%22forceSeparateButton%22%3A%20false%2C%20%22position%22%3A%20%22topleft%22%2C%20%22title%22%3A%20%22Full%20Screen%22%2C%20%22titleCancel%22%3A%20%22Exit%20Full%20Screen%22%7D%0A%20%20%20%20%20%20%20%20%20%20%20%20%29.addTo%28map_cb65080146af4dd59fa4d11950365341%29%3B%0A%20%20%20%20%20%20%20%20%0A%20%20%20%20%0A%20%20%20%20%20%20%20%20%20%20%20%20map_cb65080146af4dd59fa4d11950365341.fitBounds%28%0A%20%20%20%20%20%20%20%20%20%20%20%20%20%20%20%20%5B%5B40%2C%20-100%5D%2C%20%5B40%2C%20-100%5D%5D%2C%0A%20%20%20%20%20%20%20%20%20%20%20%20%20%20%20%20%7B%22maxZoom%22%3A%204%7D%0A%20%20%20%20%20%20%20%20%20%20%20%20%29%3B%0A%20%20%20%20%20%20%20%20%0A%20%20%20%20%0A%20%20%20%20%20%20%20%20%20%20%20%20map_cb65080146af4dd59fa4d11950365341.fitBounds%28%0A%20%20%20%20%20%20%20%20%20%20%20%20%20%20%20%20%5B%5B-3.126306873604864%2C%2036.74249597488899%5D%2C%20%5B-3.126306873604864%2C%2036.74249597488899%5D%5D%2C%0A%20%20%20%20%20%20%20%20%20%20%20%20%20%20%20%20%7B%22maxZoom%22%3A%2010%7D%0A%20%20%20%20%20%20%20%20%20%20%20%20%29%3B%0A%20%20%20%20%20%20%20%20%0A%20%20%20%20%0A%20%20%20%20%20%20%20%20%20%20%20%20var%20tile_layer_dd70cc4231c049a0922c7447ab3265c0%20%3D%20L.tileLayer%28%0A%20%20%20%20%20%20%20%20%20%20%20%20%20%20%20%20%22https%3A//mt1.google.com/vt/lyrs%3Ds%5Cu0026x%3D%7Bx%7D%5Cu0026y%3D%7By%7D%5Cu0026z%3D%7Bz%7D%22%2C%0A%20%20%20%20%20%20%20%20%20%20%20%20%20%20%20%20%7B%22attribution%22%3A%20%22Google%22%2C%20%22detectRetina%22%3A%20false%2C%20%22maxNativeZoom%22%3A%2018%2C%20%22maxZoom%22%3A%2018%2C%20%22minZoom%22%3A%200%2C%20%22noWrap%22%3A%20false%2C%20%22opacity%22%3A%201%2C%20%22subdomains%22%3A%20%22abc%22%2C%20%22tms%22%3A%20false%7D%0A%20%20%20%20%20%20%20%20%20%20%20%20%29.addTo%28map_cb65080146af4dd59fa4d11950365341%29%3B%0A%20%20%20%20%20%20%20%20%0A%20%20%20%20%0A%20%20%20%20%20%20%20%20%20%20%20%20var%20tile_layer_9aff0dc00bc84a33a64a9868cdeb8c87%20%3D%20L.tileLayer%28%0A%20%20%20%20%20%20%20%20%20%20%20%20%20%20%20%20%22https%3A//earthengine.googleapis.com/v1alpha/projects/earthengine-legacy/maps/ac888cf1409e17d78cdb561d3a5975dc-66bededf7dee4767168586aa205dc494/tiles/%7Bz%7D/%7Bx%7D/%7By%7D%22%2C%0A%20%20%20%20%20%20%20%20%20%20%20%20%20%20%20%20%7B%22attribution%22%3A%20%22Google%20Earth%20Engine%22%2C%20%22detectRetina%22%3A%20false%2C%20%22maxNativeZoom%22%3A%2018%2C%20%22maxZoom%22%3A%2018%2C%20%22minZoom%22%3A%200%2C%20%22noWrap%22%3A%20false%2C%20%22opacity%22%3A%201.0%2C%20%22subdomains%22%3A%20%22abc%22%2C%20%22tms%22%3A%20false%7D%0A%20%20%20%20%20%20%20%20%20%20%20%20%29.addTo%28map_cb65080146af4dd59fa4d11950365341%29%3B%0A%20%20%20%20%20%20%20%20%0A%20%20%20%20%0A%20%20%20%20%20%20%20%20%20%20%20%20var%20layer_control_a7b9344f9d0b43a3800ad47cf95e11d9%20%3D%20%7B%0A%20%20%20%20%20%20%20%20%20%20%20%20%20%20%20%20base_layers%20%3A%20%7B%0A%20%20%20%20%20%20%20%20%20%20%20%20%20%20%20%20%20%20%20%20%22openstreetmap%22%20%3A%20tile_layer_0cb79ec7153940b7a9d27f00b53b7145%2C%0A%20%20%20%20%20%20%20%20%20%20%20%20%20%20%20%20%7D%2C%0A%20%20%20%20%20%20%20%20%20%20%20%20%20%20%20%20overlays%20%3A%20%20%7B%0A%20%20%20%20%20%20%20%20%20%20%20%20%20%20%20%20%20%20%20%20%22Google%20Maps%22%20%3A%20tile_layer_e4de1f3ce8904ec1932285413e8b4f5c%2C%0A%20%20%20%20%20%20%20%20%20%20%20%20%20%20%20%20%20%20%20%20%22Google%20Satellite%22%20%3A%20tile_layer_dd70cc4231c049a0922c7447ab3265c0%2C%0A%20%20%20%20%20%20%20%20%20%20%20%20%20%20%20%20%20%20%20%20%22FOREST%20DISTURBANCE%22%20%3A%20tile_layer_9aff0dc00bc84a33a64a9868cdeb8c87%2C%0A%20%20%20%20%20%20%20%20%20%20%20%20%20%20%20%20%7D%2C%0A%20%20%20%20%20%20%20%20%20%20%20%20%7D%3B%0A%20%20%20%20%20%20%20%20%20%20%20%20L.control.layers%28%0A%20%20%20%20%20%20%20%20%20%20%20%20%20%20%20%20layer_control_a7b9344f9d0b43a3800ad47cf95e11d9.base_layers%2C%0A%20%20%20%20%20%20%20%20%20%20%20%20%20%20%20%20layer_control_a7b9344f9d0b43a3800ad47cf95e11d9.overlays%2C%0A%20%20%20%20%20%20%20%20%20%20%20%20%20%20%20%20%7B%22autoZIndex%22%3A%20true%2C%20%22collapsed%22%3A%20true%2C%20%22position%22%3A%20%22topright%22%7D%0A%20%20%20%20%20%20%20%20%20%20%20%20%29.addTo%28map_cb65080146af4dd59fa4d11950365341%29%3B%0A%20%20%20%20%20%20%20%20%0A%3C/script%3E onload=\"this.contentDocument.open();this.contentDocument.write(    decodeURIComponent(this.getAttribute('data-html')));this.contentDocument.close();\" allowfullscreen webkitallowfullscreen mozallowfullscreen></iframe></div></div>"
            ],
            "text/plain": [
              "<geemap.eefolium.Map at 0x7fc977e47850>"
            ]
          },
          "metadata": {},
          "execution_count": 50
        }
      ]
    },
    {
      "cell_type": "code",
      "metadata": {
        "colab": {
          "base_uri": "https://localhost:8080/",
          "height": 36
        },
        "id": "nSDOIblInroZ",
        "outputId": "1d81e360-18e1-4626-9dc9-994215356105"
      },
      "source": [
        "def URL_gen(Image,AOI):\n",
        "\n",
        "    urls = Image.getDownloadUrl({\n",
        "\t\t\t\t'scale': 30, \t\t\t\n",
        "\t\t\t\t'crs': 'EPSG:4326', \n",
        "\t\t\t\t'region': AOI.geometry(),\n",
        "        'maxPixels': 1e19\n",
        "\t\t\t}) \n",
        "    return urls\n",
        "\n",
        "\n",
        "IGA_url = URL_gen(test, AOI)\n",
        "IGA_url"
      ],
      "execution_count": null,
      "outputs": [
        {
          "output_type": "execute_result",
          "data": {
            "application/vnd.google.colaboratory.intrinsic+json": {
              "type": "string"
            },
            "text/plain": [
              "'https://earthengine.googleapis.com/v1alpha/projects/earthengine-legacy/thumbnails/6aae6ba7b48c3b1cc4edaec91f095a34-3a6f7ebb25e5303659dae5e15a87e879:getPixels'"
            ]
          },
          "metadata": {},
          "execution_count": 23
        }
      ]
    },
    {
      "cell_type": "code",
      "metadata": {
        "id": "JNu4SFufnyqt"
      },
      "source": [
        ""
      ],
      "execution_count": null,
      "outputs": []
    }
  ]
}