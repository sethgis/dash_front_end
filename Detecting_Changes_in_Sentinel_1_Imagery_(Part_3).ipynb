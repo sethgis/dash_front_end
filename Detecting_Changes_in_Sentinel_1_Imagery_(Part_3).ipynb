{
  "nbformat": 4,
  "nbformat_minor": 0,
  "metadata": {
    "colab": {
      "name": "Copy of Detecting Changes in Sentinel-1 Imagery (Part 3)",
      "provenance": [],
      "collapsed_sections": [],
      "include_colab_link": true
    },
    "kernelspec": {
      "name": "python3",
      "display_name": "Detecting Changes in Sentinel-1 Imagery (Part 3)"
    }
  },
  "cells": [
    {
      "cell_type": "markdown",
      "metadata": {
        "id": "view-in-github",
        "colab_type": "text"
      },
      "source": [
        "<a href=\"https://colab.research.google.com/github/sethgis/dash_front_end/blob/main/Detecting_Changes_in_Sentinel_1_Imagery_(Part_3).ipynb\" target=\"_parent\"><img src=\"https://colab.research.google.com/assets/colab-badge.svg\" alt=\"Open In Colab\"/></a>"
      ]
    },
    {
      "cell_type": "code",
      "metadata": {
        "id": "8kdsGkYJXXKc"
      },
      "source": [
        "#@title Copyright 2020 The Earth Engine Community Authors { display-mode: \"form\" }\n",
        "#\n",
        "# Licensed under the Apache License, Version 2.0 (the \"License\");\n",
        "# you may not use this file except in compliance with the License.\n",
        "# You may obtain a copy of the License at\n",
        "#\n",
        "# https://www.apache.org/licenses/LICENSE-2.0\n",
        "#\n",
        "# Unless required by applicable law or agreed to in writing, software\n",
        "# distributed under the License is distributed on an \"AS IS\" BASIS,\n",
        "# WITHOUT WARRANTIES OR CONDITIONS OF ANY KIND, either express or implied.\n",
        "# See the License for the specific language governing permissions and\n",
        "# limitations under the License."
      ],
      "execution_count": null,
      "outputs": []
    },
    {
      "cell_type": "markdown",
      "metadata": {
        "id": "l18M9_r5XmAQ"
      },
      "source": [
        "# Detecting Changes in Sentinel-1 Imagery (Part 3)\n",
        "\n",
        "Author: mortcanty\n",
        "\n",
        "\n"
      ]
    },
    {
      "cell_type": "markdown",
      "metadata": {
        "id": "U7i55vr_aKCB"
      },
      "source": [
        "### Run me first\n",
        "\n",
        "Run the following cell to initialize the API. The output will contain instructions on how to grant this notebook access to Earth Engine using your account."
      ]
    },
    {
      "cell_type": "code",
      "metadata": {
        "id": "XeFsiSp2aDL6",
        "colab": {
          "base_uri": "https://localhost:8080/"
        },
        "outputId": "6991958c-27f0-4ac2-bb88-de14fe18aff6"
      },
      "source": [
        "import ee\n",
        "# Trigger the authentication flow.\n",
        "ee.Authenticate()\n",
        "\n",
        "# Initialize the library.\n",
        "ee.Initialize()"
      ],
      "execution_count": null,
      "outputs": [
        {
          "output_type": "stream",
          "text": [
            "To authorize access needed by Earth Engine, open the following URL in a web browser and follow the instructions. If the web browser does not start automatically, please manually browse the URL below.\n",
            "\n",
            "    https://accounts.google.com/o/oauth2/auth?client_id=517222506229-vsmmajv00ul0bs7p89v5m89qs8eb9359.apps.googleusercontent.com&scope=https%3A%2F%2Fwww.googleapis.com%2Fauth%2Fearthengine+https%3A%2F%2Fwww.googleapis.com%2Fauth%2Fdevstorage.full_control&redirect_uri=urn%3Aietf%3Awg%3Aoauth%3A2.0%3Aoob&response_type=code&code_challenge=lsa7aqnC40phF2n19sUm5om5n6wpOa3poejqKsP_hdg&code_challenge_method=S256\n",
            "\n",
            "The authorization workflow will generate a code, which you should paste in the box below. \n",
            "Enter verification code: 4/1AY0e-g5z5wAmjf5SRxED9sawfHIFzBfqPK1ppkPxXlRovaJ979TRKhmx_qg\n",
            "\n",
            "Successfully saved authorization token.\n"
          ],
          "name": "stdout"
        }
      ]
    },
    {
      "cell_type": "markdown",
      "metadata": {
        "id": "VOf_UnIcZKBJ"
      },
      "source": [
        "### Datasets and Python modules\n",
        "One [dataset](https://developers.google.com/earth-engine/datasets/catalog/COPERNICUS_S1_GRD) will be used in the tutorial:\n",
        "\n",
        "- COPERNICUS/S1_GRD_FLOAT\n",
        "    - Sentinel-1 ground range detected images\n",
        "\n",
        "The following cell imports some python modules which we will be using as we go along and enables inline graphics."
      ]
    },
    {
      "cell_type": "code",
      "metadata": {
        "id": "YmusFZcZHEjE"
      },
      "source": [
        "import matplotlib.pyplot as plt\n",
        "import numpy as np\n",
        "from scipy.stats import norm, gamma, f, chi2\n",
        "import IPython.display as disp\n",
        "%matplotlib inline"
      ],
      "execution_count": null,
      "outputs": []
    },
    {
      "cell_type": "markdown",
      "metadata": {
        "id": "UZEVxUZ2mTSe"
      },
      "source": [
        "This cell carries over the chi square cumulative distribution function and the determinant of a Sentinel-1 image from [Part 2](https://developers.google.com/earth-engine/tutorials/community/detecting-changes-in-sentinel-1-imagery-pt-2)."
      ]
    },
    {
      "cell_type": "code",
      "metadata": {
        "id": "li189P8wmOTS"
      },
      "source": [
        "def chi2cdf(chi2, df):\n",
        "    \"\"\"Calculates Chi square cumulative distribution function for\n",
        "       df degrees of freedom using the built-in incomplete gamma\n",
        "       function gammainc().\n",
        "    \"\"\"\n",
        "    return ee.Image(chi2.divide(2)).gammainc(ee.Number(df).divide(2))\n",
        "\n",
        "def det(im):\n",
        "    \"\"\"Calculates determinant of 2x2 diagonal covariance matrix.\"\"\"\n",
        "    return im.expression('b(0)*b(1)')"
      ],
      "execution_count": null,
      "outputs": []
    },
    {
      "cell_type": "markdown",
      "metadata": {
        "id": "eelxHh2qc6xg"
      },
      "source": [
        "And to make use of interactive graphics, we import the _folium_ package:"
      ]
    },
    {
      "cell_type": "code",
      "metadata": {
        "id": "kEiSY5zdoFPe"
      },
      "source": [
        "import folium\n",
        "\n",
        "def add_ee_layer(self, ee_image_object, vis_params, name):\n",
        "    \"\"\"Adds Earth Engine layers to a folium map.\"\"\"\n",
        "    map_id_dict = ee.Image(ee_image_object).getMapId(vis_params)\n",
        "    folium.raster_layers.TileLayer(\n",
        "        tiles = map_id_dict['tile_fetcher'].url_format,\n",
        "        attr = 'Map Data &copy; <a href=\"https://earthengine.google.com/\">Google Earth Engine</a>',\n",
        "        name = name,\n",
        "        overlay = True,\n",
        "        control = True).add_to(self)\n",
        "\n",
        "# Add EE drawing method to folium.\n",
        "folium.Map.add_ee_layer = add_ee_layer"
      ],
      "execution_count": null,
      "outputs": []
    },
    {
      "cell_type": "markdown",
      "metadata": {
        "id": "DXo28Rx8HTEd"
      },
      "source": [
        "## Part 3. Multitemporal change detection\n"
      ]
    },
    {
      "cell_type": "markdown",
      "metadata": {
        "id": "d43UObDY-hjL"
      },
      "source": [
        "Continuing from [Part 2](https://developers.google.com/earth-engine/tutorials/community/detecting-changes-in-sentinel-1-imagery-pt-2), in which we discussed bitemporal change detection with Sentinel-1 images, we turn our attention to the multitemporal case. To get started, we obviously need ...\n",
        "\n",
        "### A time series\n",
        "\n",
        "Here is a fairly interesting one: a region in South Yorkshire, England where, in November 2019, extensive flooding occurred along the River Don just north of the city of Doncaster."
      ]
    },
    {
      "cell_type": "code",
      "metadata": {
        "id": "Hww9JAK0JgFm"
      },
      "source": [
        "geoJSON = {\n",
        "  \"type\": \"FeatureCollection\",\n",
        "  \"features\": [\n",
        "    {\n",
        "      \"type\": \"Feature\",\n",
        "      \"properties\": {},\n",
        "      \"geometry\": {\n",
        "        \"type\": \"Polygon\",\n",
        "        \"coordinates\": [\n",
        "          [\n",
        "            [\n",
        "              38.13079833984375,\n",
        "              0.07003782435466245\n",
        "            ],\n",
        "            [\n",
        "              38.14109802246094,\n",
        "              0.05287169659789889\n",
        "            ],\n",
        "            [\n",
        "              38.18229675292969,\n",
        "              0.021972655711432625\n",
        "            ],\n",
        "            [\n",
        "              38.21250915527344,\n",
        "              0.026779173829714734\n",
        "            ],\n",
        "            [\n",
        "              38.24066162109375,\n",
        "              0\n",
        "            ],\n",
        "            [\n",
        "              38.283233642578125,\n",
        "              -0.017166137438499224\n",
        "            ],\n",
        "            [\n",
        "              38.37318420410156,\n",
        "              -0.07209775929336613\n",
        "            ],\n",
        "            [\n",
        "              38.38966369628906,\n",
        "              -0.05905150321753712\n",
        "            ],\n",
        "            [\n",
        "              38.37867736816406,\n",
        "              -0.028152464687505648\n",
        "            ],\n",
        "            [\n",
        "              38.31207275390625,\n",
        "              0.0782775635396999\n",
        "            ],\n",
        "            [\n",
        "              38.244781494140625,\n",
        "              0.18745388921607434\n",
        "            ],\n",
        "            [\n",
        "              38.13079833984375,\n",
        "              0.07003782435466245\n",
        "            ]\n",
        "          ]\n",
        "        ]\n",
        "      }\n",
        "    }\n",
        "  ]\n",
        "}\n",
        "\n",
        "coords = geoJSON['features'][0]['geometry']['coordinates']\n",
        "aoi = ee.Geometry.Polygon(coords)\n",
        "\n",
        "          "
      ],
      "execution_count": null,
      "outputs": []
    },
    {
      "cell_type": "markdown",
      "metadata": {
        "id": "IqvC_m12kZ6X"
      },
      "source": [
        "The image collection below covers the months of September, 2019 through January, 2020 at 6-day intervals:"
      ]
    },
    {
      "cell_type": "code",
      "metadata": {
        "id": "W317cgEc_uhH",
        "colab": {
          "base_uri": "https://localhost:8080/"
        },
        "outputId": "ac774003-49a4-47f5-caf8-a22b9d8ed6d7"
      },
      "source": [
        "im_coll = (ee.ImageCollection('COPERNICUS/S1_GRD_FLOAT')\n",
        "           .filterBounds(aoi)\n",
        "           .filterDate(ee.Date('2019-09-01'),ee.Date('2020-01-31'))\n",
        "           .filter(ee.Filter.eq('orbitProperties_pass', 'DESCENDING'))\n",
        "           .filter(ee.Filter.eq('relativeOrbitNumber_start', 154))\n",
        "           .map(lambda img: img.set('date', ee.Date(img.date()).format('YYYYMMdd')))\n",
        "           .sort('date'))\n",
        "\n",
        "img2 = ee.Image(ee.ImageCollection('COPERNICUS/S1_GRD_FLOAT') \n",
        "                        .filterBounds(aoi) \n",
        "                        .filterDate(ee.Date('2020-03-01'), ee.Date('2020-03-31')) \n",
        "                        .filter(ee.Filter.eq('orbitProperties_pass', 'DESCENDING'))\n",
        "                        .map(lambda img: img.set('date', ee.Date(img.date()).format('YYYYMMdd')))\n",
        "                        .sort('date'))\n",
        "                        # .first() \n",
        "                        # .clip(aoi))\n",
        "img3 = ee.Image(ee.ImageCollection('COPERNICUS/S1_GRD_FLOAT') \n",
        "                        .filterBounds(aoi) \n",
        "                        .filterDate(ee.Date('2019-08-01'), ee.Date('2019-08-25')) \n",
        "                        .filter(ee.Filter.eq('orbitProperties_pass', 'DESCENDING'))\n",
        "                        .map(lambda img: img.set('date', ee.Date(img.date()).format('YYYYMMdd')))\n",
        "                        .sort('date'))\n",
        "                        # .first() \n",
        "                        # .clip(aoi))\n",
        " \n",
        "timestamplist = (im_coll.aggregate_array('date')\n",
        "                 .map(lambda d: ee.String('T').cat(ee.String(d)))\n",
        "                 .getInfo())\n",
        "timestamplist\n",
        "\n"
      ],
      "execution_count": null,
      "outputs": [
        {
          "output_type": "execute_result",
          "data": {
            "text/plain": [
              "[]"
            ]
          },
          "metadata": {
            "tags": []
          },
          "execution_count": 28
        }
      ]
    },
    {
      "cell_type": "markdown",
      "metadata": {
        "id": "oUiTi-eynGPi"
      },
      "source": [
        "It will turn out to be convenient to work with a list rather than a collection, so we'll convert the collection to a list and, while we're at it, clip the images to our AOI:"
      ]
    },
    {
      "cell_type": "code",
      "metadata": {
        "id": "jOCbUmW-UHIK",
        "colab": {
          "base_uri": "https://localhost:8080/",
          "height": 442
        },
        "outputId": "0d7db0d5-16b1-4f9f-e075-a52437f72c55"
      },
      "source": [
        "def clip_img(im_coll):\n",
        "    \"\"\"Clips a list of images.\"\"\"\n",
        "    return ee.Image(im_coll).clip(aoi)\n",
        "\n",
        "im_list = im_coll.toList(im_coll.size())\n",
        "im_list = ee.List(im_list.map(clip_img))\n",
        "\n",
        "im_list.length().getInfo()"
      ],
      "execution_count": null,
      "outputs": [
        {
          "output_type": "error",
          "ename": "EEException",
          "evalue": "ignored",
          "traceback": [
            "\u001b[0;31m---------------------------------------------------------------------------\u001b[0m",
            "\u001b[0;31mHttpError\u001b[0m                                 Traceback (most recent call last)",
            "\u001b[0;32m/usr/local/lib/python3.7/dist-packages/ee/data.py\u001b[0m in \u001b[0;36m_execute_cloud_call\u001b[0;34m(call, num_retries)\u001b[0m\n\u001b[1;32m    333\u001b[0m   \u001b[0;32mtry\u001b[0m\u001b[0;34m:\u001b[0m\u001b[0;34m\u001b[0m\u001b[0;34m\u001b[0m\u001b[0m\n\u001b[0;32m--> 334\u001b[0;31m     \u001b[0;32mreturn\u001b[0m \u001b[0mcall\u001b[0m\u001b[0;34m.\u001b[0m\u001b[0mexecute\u001b[0m\u001b[0;34m(\u001b[0m\u001b[0mnum_retries\u001b[0m\u001b[0;34m=\u001b[0m\u001b[0mnum_retries\u001b[0m\u001b[0;34m)\u001b[0m\u001b[0;34m\u001b[0m\u001b[0;34m\u001b[0m\u001b[0m\n\u001b[0m\u001b[1;32m    335\u001b[0m   \u001b[0;32mexcept\u001b[0m \u001b[0mgoogleapiclient\u001b[0m\u001b[0;34m.\u001b[0m\u001b[0merrors\u001b[0m\u001b[0;34m.\u001b[0m\u001b[0mHttpError\u001b[0m \u001b[0;32mas\u001b[0m \u001b[0me\u001b[0m\u001b[0;34m:\u001b[0m\u001b[0;34m\u001b[0m\u001b[0;34m\u001b[0m\u001b[0m\n",
            "\u001b[0;32m/usr/local/lib/python3.7/dist-packages/googleapiclient/_helpers.py\u001b[0m in \u001b[0;36mpositional_wrapper\u001b[0;34m(*args, **kwargs)\u001b[0m\n\u001b[1;32m    133\u001b[0m                     \u001b[0mlogger\u001b[0m\u001b[0;34m.\u001b[0m\u001b[0mwarning\u001b[0m\u001b[0;34m(\u001b[0m\u001b[0mmessage\u001b[0m\u001b[0;34m)\u001b[0m\u001b[0;34m\u001b[0m\u001b[0;34m\u001b[0m\u001b[0m\n\u001b[0;32m--> 134\u001b[0;31m             \u001b[0;32mreturn\u001b[0m \u001b[0mwrapped\u001b[0m\u001b[0;34m(\u001b[0m\u001b[0;34m*\u001b[0m\u001b[0margs\u001b[0m\u001b[0;34m,\u001b[0m \u001b[0;34m**\u001b[0m\u001b[0mkwargs\u001b[0m\u001b[0;34m)\u001b[0m\u001b[0;34m\u001b[0m\u001b[0;34m\u001b[0m\u001b[0m\n\u001b[0m\u001b[1;32m    135\u001b[0m \u001b[0;34m\u001b[0m\u001b[0m\n",
            "\u001b[0;32m/usr/local/lib/python3.7/dist-packages/googleapiclient/http.py\u001b[0m in \u001b[0;36mexecute\u001b[0;34m(self, http, num_retries)\u001b[0m\n\u001b[1;32m    914\u001b[0m         \u001b[0;32mif\u001b[0m \u001b[0mresp\u001b[0m\u001b[0;34m.\u001b[0m\u001b[0mstatus\u001b[0m \u001b[0;34m>=\u001b[0m \u001b[0;36m300\u001b[0m\u001b[0;34m:\u001b[0m\u001b[0;34m\u001b[0m\u001b[0;34m\u001b[0m\u001b[0m\n\u001b[0;32m--> 915\u001b[0;31m             \u001b[0;32mraise\u001b[0m \u001b[0mHttpError\u001b[0m\u001b[0;34m(\u001b[0m\u001b[0mresp\u001b[0m\u001b[0;34m,\u001b[0m \u001b[0mcontent\u001b[0m\u001b[0;34m,\u001b[0m \u001b[0muri\u001b[0m\u001b[0;34m=\u001b[0m\u001b[0mself\u001b[0m\u001b[0;34m.\u001b[0m\u001b[0muri\u001b[0m\u001b[0;34m)\u001b[0m\u001b[0;34m\u001b[0m\u001b[0;34m\u001b[0m\u001b[0m\n\u001b[0m\u001b[1;32m    916\u001b[0m         \u001b[0;32mreturn\u001b[0m \u001b[0mself\u001b[0m\u001b[0;34m.\u001b[0m\u001b[0mpostproc\u001b[0m\u001b[0;34m(\u001b[0m\u001b[0mresp\u001b[0m\u001b[0;34m,\u001b[0m \u001b[0mcontent\u001b[0m\u001b[0;34m)\u001b[0m\u001b[0;34m\u001b[0m\u001b[0;34m\u001b[0m\u001b[0m\n",
            "\u001b[0;31mHttpError\u001b[0m: <HttpError 400 when requesting https://earthengine.googleapis.com/v1alpha/projects/earthengine-legacy/value:compute?prettyPrint=false&alt=json returned \"Collection.toList: The value of 'count' must be positive. Got: 0.\". Details: \"Collection.toList: The value of 'count' must be positive. Got: 0.\">",
            "\nDuring handling of the above exception, another exception occurred:\n",
            "\u001b[0;31mEEException\u001b[0m                               Traceback (most recent call last)",
            "\u001b[0;32m<ipython-input-32-d7eb9e8ace2f>\u001b[0m in \u001b[0;36m<module>\u001b[0;34m()\u001b[0m\n\u001b[1;32m      6\u001b[0m \u001b[0mim_list\u001b[0m \u001b[0;34m=\u001b[0m \u001b[0mee\u001b[0m\u001b[0;34m.\u001b[0m\u001b[0mList\u001b[0m\u001b[0;34m(\u001b[0m\u001b[0mim_list\u001b[0m\u001b[0;34m.\u001b[0m\u001b[0mmap\u001b[0m\u001b[0;34m(\u001b[0m\u001b[0mclip_img\u001b[0m\u001b[0;34m)\u001b[0m\u001b[0;34m)\u001b[0m\u001b[0;34m\u001b[0m\u001b[0;34m\u001b[0m\u001b[0m\n\u001b[1;32m      7\u001b[0m \u001b[0;34m\u001b[0m\u001b[0m\n\u001b[0;32m----> 8\u001b[0;31m \u001b[0mim_list\u001b[0m\u001b[0;34m.\u001b[0m\u001b[0mlength\u001b[0m\u001b[0;34m(\u001b[0m\u001b[0;34m)\u001b[0m\u001b[0;34m.\u001b[0m\u001b[0mgetInfo\u001b[0m\u001b[0;34m(\u001b[0m\u001b[0;34m)\u001b[0m\u001b[0;34m\u001b[0m\u001b[0;34m\u001b[0m\u001b[0m\n\u001b[0m",
            "\u001b[0;32m/usr/local/lib/python3.7/dist-packages/ee/computedobject.py\u001b[0m in \u001b[0;36mgetInfo\u001b[0;34m(self)\u001b[0m\n\u001b[1;32m     96\u001b[0m       \u001b[0mThe\u001b[0m \u001b[0mobject\u001b[0m \u001b[0mcan\u001b[0m \u001b[0mevaluate\u001b[0m \u001b[0mto\u001b[0m \u001b[0manything\u001b[0m\u001b[0;34m.\u001b[0m\u001b[0;34m\u001b[0m\u001b[0;34m\u001b[0m\u001b[0m\n\u001b[1;32m     97\u001b[0m     \"\"\"\n\u001b[0;32m---> 98\u001b[0;31m     \u001b[0;32mreturn\u001b[0m \u001b[0mdata\u001b[0m\u001b[0;34m.\u001b[0m\u001b[0mcomputeValue\u001b[0m\u001b[0;34m(\u001b[0m\u001b[0mself\u001b[0m\u001b[0;34m)\u001b[0m\u001b[0;34m\u001b[0m\u001b[0;34m\u001b[0m\u001b[0m\n\u001b[0m\u001b[1;32m     99\u001b[0m \u001b[0;34m\u001b[0m\u001b[0m\n\u001b[1;32m    100\u001b[0m   \u001b[0;32mdef\u001b[0m \u001b[0mencode\u001b[0m\u001b[0;34m(\u001b[0m\u001b[0mself\u001b[0m\u001b[0;34m,\u001b[0m \u001b[0mencoder\u001b[0m\u001b[0;34m)\u001b[0m\u001b[0;34m:\u001b[0m\u001b[0;34m\u001b[0m\u001b[0;34m\u001b[0m\u001b[0m\n",
            "\u001b[0;32m/usr/local/lib/python3.7/dist-packages/ee/data.py\u001b[0m in \u001b[0;36mcomputeValue\u001b[0;34m(obj)\u001b[0m\n\u001b[1;32m    676\u001b[0m           \u001b[0mbody\u001b[0m\u001b[0;34m=\u001b[0m\u001b[0;34m{\u001b[0m\u001b[0;34m'expression'\u001b[0m\u001b[0;34m:\u001b[0m \u001b[0mserializer\u001b[0m\u001b[0;34m.\u001b[0m\u001b[0mencode\u001b[0m\u001b[0;34m(\u001b[0m\u001b[0mobj\u001b[0m\u001b[0;34m,\u001b[0m \u001b[0mfor_cloud_api\u001b[0m\u001b[0;34m=\u001b[0m\u001b[0;32mTrue\u001b[0m\u001b[0;34m)\u001b[0m\u001b[0;34m}\u001b[0m\u001b[0;34m,\u001b[0m\u001b[0;34m\u001b[0m\u001b[0;34m\u001b[0m\u001b[0m\n\u001b[1;32m    677\u001b[0m           \u001b[0mproject\u001b[0m\u001b[0;34m=\u001b[0m\u001b[0m_get_projects_path\u001b[0m\u001b[0;34m(\u001b[0m\u001b[0;34m)\u001b[0m\u001b[0;34m,\u001b[0m\u001b[0;34m\u001b[0m\u001b[0;34m\u001b[0m\u001b[0m\n\u001b[0;32m--> 678\u001b[0;31m           prettyPrint=False))['result']\n\u001b[0m\u001b[1;32m    679\u001b[0m \u001b[0;34m\u001b[0m\u001b[0m\n\u001b[1;32m    680\u001b[0m \u001b[0;34m\u001b[0m\u001b[0m\n",
            "\u001b[0;32m/usr/local/lib/python3.7/dist-packages/ee/data.py\u001b[0m in \u001b[0;36m_execute_cloud_call\u001b[0;34m(call, num_retries)\u001b[0m\n\u001b[1;32m    334\u001b[0m     \u001b[0;32mreturn\u001b[0m \u001b[0mcall\u001b[0m\u001b[0;34m.\u001b[0m\u001b[0mexecute\u001b[0m\u001b[0;34m(\u001b[0m\u001b[0mnum_retries\u001b[0m\u001b[0;34m=\u001b[0m\u001b[0mnum_retries\u001b[0m\u001b[0;34m)\u001b[0m\u001b[0;34m\u001b[0m\u001b[0;34m\u001b[0m\u001b[0m\n\u001b[1;32m    335\u001b[0m   \u001b[0;32mexcept\u001b[0m \u001b[0mgoogleapiclient\u001b[0m\u001b[0;34m.\u001b[0m\u001b[0merrors\u001b[0m\u001b[0;34m.\u001b[0m\u001b[0mHttpError\u001b[0m \u001b[0;32mas\u001b[0m \u001b[0me\u001b[0m\u001b[0;34m:\u001b[0m\u001b[0;34m\u001b[0m\u001b[0;34m\u001b[0m\u001b[0m\n\u001b[0;32m--> 336\u001b[0;31m     \u001b[0;32mraise\u001b[0m \u001b[0m_translate_cloud_exception\u001b[0m\u001b[0;34m(\u001b[0m\u001b[0me\u001b[0m\u001b[0;34m)\u001b[0m\u001b[0;34m\u001b[0m\u001b[0;34m\u001b[0m\u001b[0m\n\u001b[0m\u001b[1;32m    337\u001b[0m \u001b[0;34m\u001b[0m\u001b[0m\n\u001b[1;32m    338\u001b[0m \u001b[0;34m\u001b[0m\u001b[0m\n",
            "\u001b[0;31mEEException\u001b[0m: Collection.toList: The value of 'count' must be positive. Got: 0."
          ]
        }
      ]
    },
    {
      "cell_type": "markdown",
      "metadata": {
        "id": "9-dEBL3Gnbnn"
      },
      "source": [
        "Here is an RGB composite of the VV bands for three images in early November, after conversion to decibels. Note that some changes, especially those due to flooding, already show up in this representation as colored pixels."
      ]
    },
    {
      "cell_type": "code",
      "metadata": {
        "id": "QwJv_Ib8MFKH",
        "colab": {
          "base_uri": "https://localhost:8080/",
          "height": 763
        },
        "outputId": "9086de47-ebd1-4e36-d8e4-98ae0e5c3fef"
      },
      "source": [
        "def selectvv(current):\n",
        "    return ee.Image(current).select('VV')\n",
        "\n",
        "vv_list = im_list.map(selectvv)\n",
        "\n",
        "location = aoi.centroid().coordinates().getInfo()[::-1]\n",
        "mp = folium.Map(location=location, zoom_start=11)\n",
        "rgb_images = (ee.Image.rgb(vv_list.get(10), vv_list.get(11), vv_list.get(12))\n",
        "              .log10().multiply(10))\n",
        "mp.add_ee_layer(rgb_images, {'min': -20,'max': 0}, 'rgb composite')\n",
        "mp.add_child(folium.LayerControl())"
      ],
      "execution_count": null,
      "outputs": [
        {
          "output_type": "execute_result",
          "data": {
            "text/html": [
              "<div style=\"width:100%;\"><div style=\"position:relative;width:100%;height:0;padding-bottom:60%;\"><span style=\"color:#565656\">Make this Notebook Trusted to load map: File -> Trust Notebook</span><iframe src=\"about:blank\" style=\"position:absolute;width:100%;height:100%;left:0;top:0;border:none !important;\" data-html=%3C%21DOCTYPE%20html%3E%0A%3Chead%3E%20%20%20%20%0A%20%20%20%20%3Cmeta%20http-equiv%3D%22content-type%22%20content%3D%22text/html%3B%20charset%3DUTF-8%22%20/%3E%0A%20%20%20%20%3Cscript%3EL_PREFER_CANVAS%3Dfalse%3B%20L_NO_TOUCH%3Dfalse%3B%20L_DISABLE_3D%3Dfalse%3B%3C/script%3E%0A%20%20%20%20%3Cscript%20src%3D%22https%3A//cdn.jsdelivr.net/npm/leaflet%401.4.0/dist/leaflet.js%22%3E%3C/script%3E%0A%20%20%20%20%3Cscript%20src%3D%22https%3A//code.jquery.com/jquery-1.12.4.min.js%22%3E%3C/script%3E%0A%20%20%20%20%3Cscript%20src%3D%22https%3A//maxcdn.bootstrapcdn.com/bootstrap/3.2.0/js/bootstrap.min.js%22%3E%3C/script%3E%0A%20%20%20%20%3Cscript%20src%3D%22https%3A//cdnjs.cloudflare.com/ajax/libs/Leaflet.awesome-markers/2.0.2/leaflet.awesome-markers.js%22%3E%3C/script%3E%0A%20%20%20%20%3Clink%20rel%3D%22stylesheet%22%20href%3D%22https%3A//cdn.jsdelivr.net/npm/leaflet%401.4.0/dist/leaflet.css%22/%3E%0A%20%20%20%20%3Clink%20rel%3D%22stylesheet%22%20href%3D%22https%3A//maxcdn.bootstrapcdn.com/bootstrap/3.2.0/css/bootstrap.min.css%22/%3E%0A%20%20%20%20%3Clink%20rel%3D%22stylesheet%22%20href%3D%22https%3A//maxcdn.bootstrapcdn.com/bootstrap/3.2.0/css/bootstrap-theme.min.css%22/%3E%0A%20%20%20%20%3Clink%20rel%3D%22stylesheet%22%20href%3D%22https%3A//maxcdn.bootstrapcdn.com/font-awesome/4.6.3/css/font-awesome.min.css%22/%3E%0A%20%20%20%20%3Clink%20rel%3D%22stylesheet%22%20href%3D%22https%3A//cdnjs.cloudflare.com/ajax/libs/Leaflet.awesome-markers/2.0.2/leaflet.awesome-markers.css%22/%3E%0A%20%20%20%20%3Clink%20rel%3D%22stylesheet%22%20href%3D%22https%3A//rawcdn.githack.com/python-visualization/folium/master/folium/templates/leaflet.awesome.rotate.css%22/%3E%0A%20%20%20%20%3Cstyle%3Ehtml%2C%20body%20%7Bwidth%3A%20100%25%3Bheight%3A%20100%25%3Bmargin%3A%200%3Bpadding%3A%200%3B%7D%3C/style%3E%0A%20%20%20%20%3Cstyle%3E%23map%20%7Bposition%3Aabsolute%3Btop%3A0%3Bbottom%3A0%3Bright%3A0%3Bleft%3A0%3B%7D%3C/style%3E%0A%20%20%20%20%0A%20%20%20%20%3Cmeta%20name%3D%22viewport%22%20content%3D%22width%3Ddevice-width%2C%0A%20%20%20%20%20%20%20%20initial-scale%3D1.0%2C%20maximum-scale%3D1.0%2C%20user-scalable%3Dno%22%20/%3E%0A%20%20%20%20%3Cstyle%3E%23map_0fa20a41fc2a45fca6f948593a7fa439%20%7B%0A%20%20%20%20%20%20%20%20position%3A%20relative%3B%0A%20%20%20%20%20%20%20%20width%3A%20100.0%25%3B%0A%20%20%20%20%20%20%20%20height%3A%20100.0%25%3B%0A%20%20%20%20%20%20%20%20left%3A%200.0%25%3B%0A%20%20%20%20%20%20%20%20top%3A%200.0%25%3B%0A%20%20%20%20%20%20%20%20%7D%0A%20%20%20%20%3C/style%3E%0A%3C/head%3E%0A%3Cbody%3E%20%20%20%20%0A%20%20%20%20%0A%20%20%20%20%3Cdiv%20class%3D%22folium-map%22%20id%3D%22map_0fa20a41fc2a45fca6f948593a7fa439%22%20%3E%3C/div%3E%0A%3C/body%3E%0A%3Cscript%3E%20%20%20%20%0A%20%20%20%20%0A%20%20%20%20%0A%20%20%20%20%20%20%20%20var%20bounds%20%3D%20null%3B%0A%20%20%20%20%0A%0A%20%20%20%20var%20map_0fa20a41fc2a45fca6f948593a7fa439%20%3D%20L.map%28%0A%20%20%20%20%20%20%20%20%27map_0fa20a41fc2a45fca6f948593a7fa439%27%2C%20%7B%0A%20%20%20%20%20%20%20%20center%3A%20%5B53.58821484420569%2C%20-1.0708236694338455%5D%2C%0A%20%20%20%20%20%20%20%20zoom%3A%2011%2C%0A%20%20%20%20%20%20%20%20maxBounds%3A%20bounds%2C%0A%20%20%20%20%20%20%20%20layers%3A%20%5B%5D%2C%0A%20%20%20%20%20%20%20%20worldCopyJump%3A%20false%2C%0A%20%20%20%20%20%20%20%20crs%3A%20L.CRS.EPSG3857%2C%0A%20%20%20%20%20%20%20%20zoomControl%3A%20true%2C%0A%20%20%20%20%20%20%20%20%7D%29%3B%0A%0A%0A%20%20%20%20%0A%20%20%20%20var%20tile_layer_fe14e111f24a4810b617ddf399347168%20%3D%20L.tileLayer%28%0A%20%20%20%20%20%20%20%20%27https%3A//%7Bs%7D.tile.openstreetmap.org/%7Bz%7D/%7Bx%7D/%7By%7D.png%27%2C%0A%20%20%20%20%20%20%20%20%7B%0A%20%20%20%20%20%20%20%20%22attribution%22%3A%20null%2C%0A%20%20%20%20%20%20%20%20%22detectRetina%22%3A%20false%2C%0A%20%20%20%20%20%20%20%20%22maxNativeZoom%22%3A%2018%2C%0A%20%20%20%20%20%20%20%20%22maxZoom%22%3A%2018%2C%0A%20%20%20%20%20%20%20%20%22minZoom%22%3A%200%2C%0A%20%20%20%20%20%20%20%20%22noWrap%22%3A%20false%2C%0A%20%20%20%20%20%20%20%20%22opacity%22%3A%201%2C%0A%20%20%20%20%20%20%20%20%22subdomains%22%3A%20%22abc%22%2C%0A%20%20%20%20%20%20%20%20%22tms%22%3A%20false%0A%7D%29.addTo%28map_0fa20a41fc2a45fca6f948593a7fa439%29%3B%0A%20%20%20%20var%20tile_layer_f8f1b87a15ec476d9454340adc372b66%20%3D%20L.tileLayer%28%0A%20%20%20%20%20%20%20%20%27https%3A//earthengine.googleapis.com/v1alpha/projects/earthengine-legacy/maps/290b5d243eaa56dad6d217b0decb64e5-d39d738de5c2c5847b2e5af78c7260a2/tiles/%7Bz%7D/%7Bx%7D/%7By%7D%27%2C%0A%20%20%20%20%20%20%20%20%7B%0A%20%20%20%20%20%20%20%20%22attribution%22%3A%20%22Map%20Data%20%26copy%3B%20%3Ca%20href%3D%5C%22https%3A//earthengine.google.com/%5C%22%3EGoogle%20Earth%20Engine%3C/a%3E%22%2C%0A%20%20%20%20%20%20%20%20%22detectRetina%22%3A%20false%2C%0A%20%20%20%20%20%20%20%20%22maxNativeZoom%22%3A%2018%2C%0A%20%20%20%20%20%20%20%20%22maxZoom%22%3A%2018%2C%0A%20%20%20%20%20%20%20%20%22minZoom%22%3A%200%2C%0A%20%20%20%20%20%20%20%20%22noWrap%22%3A%20false%2C%0A%20%20%20%20%20%20%20%20%22opacity%22%3A%201%2C%0A%20%20%20%20%20%20%20%20%22subdomains%22%3A%20%22abc%22%2C%0A%20%20%20%20%20%20%20%20%22tms%22%3A%20false%0A%7D%29.addTo%28map_0fa20a41fc2a45fca6f948593a7fa439%29%3B%0A%20%20%20%20%0A%20%20%20%20%20%20%20%20%20%20%20%20var%20layer_control_7fc6409ff55745f1b360d0e2904ec911%20%3D%20%7B%0A%20%20%20%20%20%20%20%20%20%20%20%20%20%20%20%20base_layers%20%3A%20%7B%20%22openstreetmap%22%20%3A%20tile_layer_fe14e111f24a4810b617ddf399347168%2C%20%7D%2C%0A%20%20%20%20%20%20%20%20%20%20%20%20%20%20%20%20overlays%20%3A%20%7B%20%22rgb%20composite%22%20%3A%20tile_layer_f8f1b87a15ec476d9454340adc372b66%2C%20%7D%0A%20%20%20%20%20%20%20%20%20%20%20%20%20%20%20%20%7D%3B%0A%20%20%20%20%20%20%20%20%20%20%20%20L.control.layers%28%0A%20%20%20%20%20%20%20%20%20%20%20%20%20%20%20%20layer_control_7fc6409ff55745f1b360d0e2904ec911.base_layers%2C%0A%20%20%20%20%20%20%20%20%20%20%20%20%20%20%20%20layer_control_7fc6409ff55745f1b360d0e2904ec911.overlays%2C%0A%20%20%20%20%20%20%20%20%20%20%20%20%20%20%20%20%7Bposition%3A%20%27topright%27%2C%0A%20%20%20%20%20%20%20%20%20%20%20%20%20%20%20%20%20collapsed%3A%20true%2C%0A%20%20%20%20%20%20%20%20%20%20%20%20%20%20%20%20%20autoZIndex%3A%20true%0A%20%20%20%20%20%20%20%20%20%20%20%20%20%20%20%20%7D%29.addTo%28map_0fa20a41fc2a45fca6f948593a7fa439%29%3B%0A%20%20%20%20%20%20%20%20%20%20%20%20%0A%20%20%20%20%20%20%20%20%0A%3C/script%3E onload=\"this.contentDocument.open();this.contentDocument.write(    decodeURIComponent(this.getAttribute('data-html')));this.contentDocument.close();\" allowfullscreen webkitallowfullscreen mozallowfullscreen></iframe></div></div>"
            ],
            "text/plain": [
              "<folium.folium.Map at 0x7fd2847ae550>"
            ]
          },
          "metadata": {
            "tags": []
          },
          "execution_count": 9
        }
      ]
    },
    {
      "cell_type": "markdown",
      "metadata": {
        "id": "JnsgS-VVs6rS"
      },
      "source": [
        "Now we have a series of 26 SAR images and, for whatever reason, would like to know where and when changes have taken place. A first reaction might be:\n",
        "\n",
        "*What's the problem? Just apply the bitemporal method we developed in Part 2 to each of the 25 time intervals.*\n",
        "\n",
        "Well, one problem is the rate of false positives. If the bitemporal tests are statistically independent, then the probability of **not** getting a false positive over a series of length $k$ is the product of not getting one in each of the $k-1$ intervals, i.e., $(1-\\alpha)^{k-1}$ and the overall first kind error probability $\\alpha_T$ is its complement:\n",
        "\n",
        "$$\n",
        "\\alpha_T = 1-(1-\\alpha)^{k-1}. \\tag{3.1}\n",
        "$$\n",
        "\n",
        "For our case, even with a small value of $\\alpha=0.01$, this gives a whopping 22.2% false positive rate:"
      ]
    },
    {
      "cell_type": "code",
      "metadata": {
        "id": "kkDk-YKthoA2",
        "colab": {
          "base_uri": "https://localhost:8080/"
        },
        "outputId": "8f70c642-bb38-4750-cc4c-7f064a895cad"
      },
      "source": [
        "alpha = 0.01\n",
        "1-(1-alpha)**25"
      ],
      "execution_count": null,
      "outputs": [
        {
          "output_type": "execute_result",
          "data": {
            "text/plain": [
              "0.22217864060085335"
            ]
          },
          "metadata": {
            "tags": []
          },
          "execution_count": 10
        }
      ]
    },
    {
      "cell_type": "markdown",
      "metadata": {
        "id": "-8_wvF6rby08"
      },
      "source": [
        "Actually things are a bit worse. The bitemporal tests are manifestly not independent because consecutive tests have one image in common. The best one can say in this situation is\n",
        "\n",
        "$$\n",
        "\\alpha_T \\le (k-1)\\alpha, \\tag{3.2}\n",
        "$$\n",
        "\n",
        "or $\\alpha_T \\le 25\\%$ for $k=26$ and $\\alpha=0.01$ . If we wish to set a false positive rate of at most, say, 1% for the entire series, then each bitemporal test must have a significance level of $\\alpha=0.0004$ and a correspondingly large false negative rate $\\beta$. In other words  many significant changes may be missed.\n",
        "\n",
        "How to proceed? Perhaps by being a bit less ambitious at first and asking the simpler question: _Were there any changes at all over the interval?_ If the answer is affirmative, we can worry about how many there were and when they occurred later. Let's formulate this question as ..."
      ]
    },
    {
      "cell_type": "markdown",
      "metadata": {
        "id": "aGqBb29T2bWW"
      },
      "source": [
        "### An omnibus test for change\n",
        "\n",
        "We'll start again with the easier  single polarization case. For the series of _VV_ intensity images acquired at times $t_1, t_2,\\dots t_k$, our null hypothesis is that, at a given pixel position,  there has been no change in the signal strengths $a_i=\\langle|S^{a_i}_{vv}|^2\\rangle$ over the entire period, i.e.,\n",
        "\n",
        "$$\n",
        "H_0:\\quad a_1 = a_2 = \\dots = a_k = a.\n",
        "$$\n",
        "\n",
        "The alternative hypothesis is that there was at least one change (and possibly many) over the interval. For the more mathematically inclined this can be written succinctly as\n",
        "\n",
        "$$\n",
        "H_1:\\quad \\exists\\ i,j :\\ a_i \\ne a_j,\n",
        "$$\n",
        "\n",
        "which says: there exist indices $i, j$ for which $a_i$ is not equal to $a_j$.\n",
        "\n",
        "Again, the likelihood functions are products of gamma distributions:\n",
        "\n",
        "$$\n",
        "L_1(a_1,\\dots,a_k) =\\prod_{i=1}^k p(s_i\\mid a_i) = {1\\over\\Gamma(m)^k}\\left[\\prod_i{a_i\\over m}\\right]^{-m}\\left[\\prod_i s_i\\right]^{m-1}\\exp(-m\\sum_i{s_i\\over a_i}) \\tag{3.3}\n",
        "$$\n",
        "\n",
        "$$\n",
        "L_0(a)  = \\prod_{i=1}^k p(s_i\\mid a) = {1\\over\\Gamma(m)^k} \\left[{a\\over m}\\right]^{-mk}\\left[\\prod_i s_i\\right]^{m-1}\\exp(-{m\\over a}\\sum_i s_i) \\tag{3.4}\n",
        "$$\n",
        "\n",
        "and $L_1$ is maximized for $\\hat a_i = s_i,\\ i=1\\dots k,$ while $L_0$ is maximized for $\\hat a = {1\\over k}\\sum_i s_i$. So with a bit of simple algebra our likelihood ratio test statistic is\n",
        "\n",
        "$$\n",
        "Q_k = {L_0(\\hat a)\\over L_1(\\hat a_1,\\dots,\\hat a_k)} = \\left[k^k{\\prod_i s_i\\over (\\sum_i s_i)^k}\\right]^m \\tag{3.5}\n",
        "$$\n",
        "\n",
        "and is called an _omnibus test statistic_. Note that, for $k=2$, we get the bitemporal LRT given by  [Eq. (2.10)](https://developers.google.com/earth-engine/tutorials/community/detecting-changes-in-sentinel-1-imagery-pt-2#the_likelihood_ratio_test).\n",
        "\n",
        "We can't expect to find an analytical expression for the probability distribution of this LRT statistic, so we will again invoke Wilks' Theorem and work with\n",
        "\n",
        "$$\n",
        "-2 \\log{Q_k} = \\big[k\\log{k}+\\sum_i\\log{s_i}-k\\log{\\sum_i s_i}\\big](-2m) \\tag{3.6}\n",
        "$$\n",
        "\n",
        "According to Wilks, it should be approximately chi square distributed with $k-1$ degrees of freedom under $H_0$. (Why?)"
      ]
    },
    {
      "cell_type": "markdown",
      "metadata": {
        "id": "SmEjLX1tGs1K"
      },
      "source": [
        "The input cell below evaluates the test statistic Eq. (3.6) for a list of single polarization images. We prefer from now on to use as default the equivalent number of looks 4.4 that we discussed at the end of [Part 1](https://developers.google.com/earth-engine/tutorials/community/detecting-changes-in-sentinel-1-imagery-pt-1#equivalent_number_of_looks) rather than the actual number of looks $m=5$, in the hope of getting a better agreement."
      ]
    },
    {
      "cell_type": "code",
      "metadata": {
        "id": "1z2EGvCDD1ec"
      },
      "source": [
        "def omnibus(im_list, m = 4.4):\n",
        "    \"\"\"Calculates the omnibus test statistic, monovariate case.\"\"\"\n",
        "    def log(current):\n",
        "        return ee.Image(current).log()\n",
        "\n",
        "    im_list = ee.List(im_list)\n",
        "    k = im_list.length()\n",
        "    klogk = k.multiply(k.log())\n",
        "    klogk = ee.Image.constant(klogk)\n",
        "    sumlogs = ee.ImageCollection(im_list.map(log)).reduce(ee.Reducer.sum())\n",
        "    logsum = ee.ImageCollection(im_list).reduce(ee.Reducer.sum()).log()\n",
        "    return klogk.add(sumlogs).subtract(logsum.multiply(k)).multiply(-2*m)"
      ],
      "execution_count": null,
      "outputs": []
    },
    {
      "cell_type": "markdown",
      "metadata": {
        "id": "oJmqoSgrJZDn"
      },
      "source": [
        "Let's see if this test statistic does indeed follow the chi square distribution. First we define a small polygon _aoi\\_sub_ over the Thorne Moors (on the eastern side of the AOI) for which we hope there are few significant changes."
      ]
    },
    {
      "cell_type": "code",
      "metadata": {
        "id": "KXBkOhWQJd0_",
        "colab": {
          "base_uri": "https://localhost:8080/",
          "height": 763
        },
        "outputId": "3921b941-6059-4aed-9f50-6701a5da284c"
      },
      "source": [
        "geoJSON = {\n",
        "  \"type\": \"FeatureCollection\",\n",
        "  \"features\": [\n",
        "    {\n",
        "      \"type\": \"Feature\",\n",
        "      \"properties\": {},\n",
        "      \"geometry\": {\n",
        "        \"type\": \"Polygon\",\n",
        "        \"coordinates\": [\n",
        "          [\n",
        "            [\n",
        "              -0.9207916259765625,\n",
        "              53.63649628489509\n",
        "            ],\n",
        "            [\n",
        "              -0.9225082397460938,\n",
        "              53.62550271303527\n",
        "            ],\n",
        "            [\n",
        "              -0.8892059326171875,\n",
        "              53.61022911107819\n",
        "            ],\n",
        "            [\n",
        "              -0.8737564086914062,\n",
        "              53.627538775780984\n",
        "            ],\n",
        "            [\n",
        "              -0.9207916259765625,\n",
        "              53.63649628489509\n",
        "            ]\n",
        "          ]\n",
        "        ]\n",
        "      }\n",
        "    }\n",
        "  ]\n",
        "}\n",
        "coords = geoJSON['features'][0]['geometry']['coordinates']\n",
        "aoi_sub = ee.Geometry.Polygon(coords)\n",
        "\n",
        "location = aoi.centroid().coordinates().getInfo()[::-1]\n",
        "mp = folium.Map(location=location, zoom_start=11)\n",
        "mp.add_ee_layer(rgb_images.clip(aoi_sub), {'min': -20, 'max': 0}, 'aoi_sub rgb composite')\n",
        "mp.add_child(folium.LayerControl())"
      ],
      "execution_count": null,
      "outputs": [
        {
          "output_type": "execute_result",
          "data": {
            "text/html": [
              "<div style=\"width:100%;\"><div style=\"position:relative;width:100%;height:0;padding-bottom:60%;\"><span style=\"color:#565656\">Make this Notebook Trusted to load map: File -> Trust Notebook</span><iframe src=\"about:blank\" style=\"position:absolute;width:100%;height:100%;left:0;top:0;border:none !important;\" data-html=%3C%21DOCTYPE%20html%3E%0A%3Chead%3E%20%20%20%20%0A%20%20%20%20%3Cmeta%20http-equiv%3D%22content-type%22%20content%3D%22text/html%3B%20charset%3DUTF-8%22%20/%3E%0A%20%20%20%20%3Cscript%3EL_PREFER_CANVAS%3Dfalse%3B%20L_NO_TOUCH%3Dfalse%3B%20L_DISABLE_3D%3Dfalse%3B%3C/script%3E%0A%20%20%20%20%3Cscript%20src%3D%22https%3A//cdn.jsdelivr.net/npm/leaflet%401.4.0/dist/leaflet.js%22%3E%3C/script%3E%0A%20%20%20%20%3Cscript%20src%3D%22https%3A//code.jquery.com/jquery-1.12.4.min.js%22%3E%3C/script%3E%0A%20%20%20%20%3Cscript%20src%3D%22https%3A//maxcdn.bootstrapcdn.com/bootstrap/3.2.0/js/bootstrap.min.js%22%3E%3C/script%3E%0A%20%20%20%20%3Cscript%20src%3D%22https%3A//cdnjs.cloudflare.com/ajax/libs/Leaflet.awesome-markers/2.0.2/leaflet.awesome-markers.js%22%3E%3C/script%3E%0A%20%20%20%20%3Clink%20rel%3D%22stylesheet%22%20href%3D%22https%3A//cdn.jsdelivr.net/npm/leaflet%401.4.0/dist/leaflet.css%22/%3E%0A%20%20%20%20%3Clink%20rel%3D%22stylesheet%22%20href%3D%22https%3A//maxcdn.bootstrapcdn.com/bootstrap/3.2.0/css/bootstrap.min.css%22/%3E%0A%20%20%20%20%3Clink%20rel%3D%22stylesheet%22%20href%3D%22https%3A//maxcdn.bootstrapcdn.com/bootstrap/3.2.0/css/bootstrap-theme.min.css%22/%3E%0A%20%20%20%20%3Clink%20rel%3D%22stylesheet%22%20href%3D%22https%3A//maxcdn.bootstrapcdn.com/font-awesome/4.6.3/css/font-awesome.min.css%22/%3E%0A%20%20%20%20%3Clink%20rel%3D%22stylesheet%22%20href%3D%22https%3A//cdnjs.cloudflare.com/ajax/libs/Leaflet.awesome-markers/2.0.2/leaflet.awesome-markers.css%22/%3E%0A%20%20%20%20%3Clink%20rel%3D%22stylesheet%22%20href%3D%22https%3A//rawcdn.githack.com/python-visualization/folium/master/folium/templates/leaflet.awesome.rotate.css%22/%3E%0A%20%20%20%20%3Cstyle%3Ehtml%2C%20body%20%7Bwidth%3A%20100%25%3Bheight%3A%20100%25%3Bmargin%3A%200%3Bpadding%3A%200%3B%7D%3C/style%3E%0A%20%20%20%20%3Cstyle%3E%23map%20%7Bposition%3Aabsolute%3Btop%3A0%3Bbottom%3A0%3Bright%3A0%3Bleft%3A0%3B%7D%3C/style%3E%0A%20%20%20%20%0A%20%20%20%20%3Cmeta%20name%3D%22viewport%22%20content%3D%22width%3Ddevice-width%2C%0A%20%20%20%20%20%20%20%20initial-scale%3D1.0%2C%20maximum-scale%3D1.0%2C%20user-scalable%3Dno%22%20/%3E%0A%20%20%20%20%3Cstyle%3E%23map_93dcfc2ddb994b06929c4bfcffc7a3b0%20%7B%0A%20%20%20%20%20%20%20%20position%3A%20relative%3B%0A%20%20%20%20%20%20%20%20width%3A%20100.0%25%3B%0A%20%20%20%20%20%20%20%20height%3A%20100.0%25%3B%0A%20%20%20%20%20%20%20%20left%3A%200.0%25%3B%0A%20%20%20%20%20%20%20%20top%3A%200.0%25%3B%0A%20%20%20%20%20%20%20%20%7D%0A%20%20%20%20%3C/style%3E%0A%3C/head%3E%0A%3Cbody%3E%20%20%20%20%0A%20%20%20%20%0A%20%20%20%20%3Cdiv%20class%3D%22folium-map%22%20id%3D%22map_93dcfc2ddb994b06929c4bfcffc7a3b0%22%20%3E%3C/div%3E%0A%3C/body%3E%0A%3Cscript%3E%20%20%20%20%0A%20%20%20%20%0A%20%20%20%20%0A%20%20%20%20%20%20%20%20var%20bounds%20%3D%20null%3B%0A%20%20%20%20%0A%0A%20%20%20%20var%20map_93dcfc2ddb994b06929c4bfcffc7a3b0%20%3D%20L.map%28%0A%20%20%20%20%20%20%20%20%27map_93dcfc2ddb994b06929c4bfcffc7a3b0%27%2C%20%7B%0A%20%20%20%20%20%20%20%20center%3A%20%5B53.58821484420569%2C%20-1.0708236694338455%5D%2C%0A%20%20%20%20%20%20%20%20zoom%3A%2011%2C%0A%20%20%20%20%20%20%20%20maxBounds%3A%20bounds%2C%0A%20%20%20%20%20%20%20%20layers%3A%20%5B%5D%2C%0A%20%20%20%20%20%20%20%20worldCopyJump%3A%20false%2C%0A%20%20%20%20%20%20%20%20crs%3A%20L.CRS.EPSG3857%2C%0A%20%20%20%20%20%20%20%20zoomControl%3A%20true%2C%0A%20%20%20%20%20%20%20%20%7D%29%3B%0A%0A%0A%20%20%20%20%0A%20%20%20%20var%20tile_layer_5c024e103cac436badac13664ceffa90%20%3D%20L.tileLayer%28%0A%20%20%20%20%20%20%20%20%27https%3A//%7Bs%7D.tile.openstreetmap.org/%7Bz%7D/%7Bx%7D/%7By%7D.png%27%2C%0A%20%20%20%20%20%20%20%20%7B%0A%20%20%20%20%20%20%20%20%22attribution%22%3A%20null%2C%0A%20%20%20%20%20%20%20%20%22detectRetina%22%3A%20false%2C%0A%20%20%20%20%20%20%20%20%22maxNativeZoom%22%3A%2018%2C%0A%20%20%20%20%20%20%20%20%22maxZoom%22%3A%2018%2C%0A%20%20%20%20%20%20%20%20%22minZoom%22%3A%200%2C%0A%20%20%20%20%20%20%20%20%22noWrap%22%3A%20false%2C%0A%20%20%20%20%20%20%20%20%22opacity%22%3A%201%2C%0A%20%20%20%20%20%20%20%20%22subdomains%22%3A%20%22abc%22%2C%0A%20%20%20%20%20%20%20%20%22tms%22%3A%20false%0A%7D%29.addTo%28map_93dcfc2ddb994b06929c4bfcffc7a3b0%29%3B%0A%20%20%20%20var%20tile_layer_efbb7cb7b82644fba629e399989e23b3%20%3D%20L.tileLayer%28%0A%20%20%20%20%20%20%20%20%27https%3A//earthengine.googleapis.com/v1alpha/projects/earthengine-legacy/maps/a3904c2409edc9311e1e3477589dc832-3ed29249c5bd0ea92b140e510660b4f1/tiles/%7Bz%7D/%7Bx%7D/%7By%7D%27%2C%0A%20%20%20%20%20%20%20%20%7B%0A%20%20%20%20%20%20%20%20%22attribution%22%3A%20%22Map%20Data%20%26copy%3B%20%3Ca%20href%3D%5C%22https%3A//earthengine.google.com/%5C%22%3EGoogle%20Earth%20Engine%3C/a%3E%22%2C%0A%20%20%20%20%20%20%20%20%22detectRetina%22%3A%20false%2C%0A%20%20%20%20%20%20%20%20%22maxNativeZoom%22%3A%2018%2C%0A%20%20%20%20%20%20%20%20%22maxZoom%22%3A%2018%2C%0A%20%20%20%20%20%20%20%20%22minZoom%22%3A%200%2C%0A%20%20%20%20%20%20%20%20%22noWrap%22%3A%20false%2C%0A%20%20%20%20%20%20%20%20%22opacity%22%3A%201%2C%0A%20%20%20%20%20%20%20%20%22subdomains%22%3A%20%22abc%22%2C%0A%20%20%20%20%20%20%20%20%22tms%22%3A%20false%0A%7D%29.addTo%28map_93dcfc2ddb994b06929c4bfcffc7a3b0%29%3B%0A%20%20%20%20%0A%20%20%20%20%20%20%20%20%20%20%20%20var%20layer_control_b46e1d47a56645ae8350fc0bb1dc34ea%20%3D%20%7B%0A%20%20%20%20%20%20%20%20%20%20%20%20%20%20%20%20base_layers%20%3A%20%7B%20%22openstreetmap%22%20%3A%20tile_layer_5c024e103cac436badac13664ceffa90%2C%20%7D%2C%0A%20%20%20%20%20%20%20%20%20%20%20%20%20%20%20%20overlays%20%3A%20%7B%20%22aoi_sub%20rgb%20composite%22%20%3A%20tile_layer_efbb7cb7b82644fba629e399989e23b3%2C%20%7D%0A%20%20%20%20%20%20%20%20%20%20%20%20%20%20%20%20%7D%3B%0A%20%20%20%20%20%20%20%20%20%20%20%20L.control.layers%28%0A%20%20%20%20%20%20%20%20%20%20%20%20%20%20%20%20layer_control_b46e1d47a56645ae8350fc0bb1dc34ea.base_layers%2C%0A%20%20%20%20%20%20%20%20%20%20%20%20%20%20%20%20layer_control_b46e1d47a56645ae8350fc0bb1dc34ea.overlays%2C%0A%20%20%20%20%20%20%20%20%20%20%20%20%20%20%20%20%7Bposition%3A%20%27topright%27%2C%0A%20%20%20%20%20%20%20%20%20%20%20%20%20%20%20%20%20collapsed%3A%20true%2C%0A%20%20%20%20%20%20%20%20%20%20%20%20%20%20%20%20%20autoZIndex%3A%20true%0A%20%20%20%20%20%20%20%20%20%20%20%20%20%20%20%20%7D%29.addTo%28map_93dcfc2ddb994b06929c4bfcffc7a3b0%29%3B%0A%20%20%20%20%20%20%20%20%20%20%20%20%0A%20%20%20%20%20%20%20%20%0A%3C/script%3E onload=\"this.contentDocument.open();this.contentDocument.write(    decodeURIComponent(this.getAttribute('data-html')));this.contentDocument.close();\" allowfullscreen webkitallowfullscreen mozallowfullscreen></iframe></div></div>"
            ],
            "text/plain": [
              "<folium.folium.Map at 0x7fd28478b310>"
            ]
          },
          "metadata": {
            "tags": []
          },
          "execution_count": 12
        }
      ]
    },
    {
      "cell_type": "markdown",
      "metadata": {
        "id": "2LZnZc2AIne2"
      },
      "source": [
        "Here is a comparison for pixels in _aoi\\_sub_ with the chi square distribution with $k-1$ degrees of freedom. We choose the first 10 images in the series ($k=10$) because we expect fewer changes in September/October than over the complete sequence $k=24$, which extends into January."
      ]
    },
    {
      "cell_type": "code",
      "metadata": {
        "id": "his4vdFXt8l2",
        "colab": {
          "base_uri": "https://localhost:8080/",
          "height": 265
        },
        "outputId": "7c2f6bc6-d12c-4839-a939-1136764907e1"
      },
      "source": [
        "k = 10\n",
        "hist = (omnibus(vv_list.slice(0,k))\n",
        "        .reduceRegion(ee.Reducer.fixedHistogram(0, 40, 200), geometry=aoi_sub, scale=10)\n",
        "        .get('constant')\n",
        "        .getInfo())\n",
        "\n",
        "a = np.array(hist)\n",
        "x = a[:,0]\n",
        "y = a[:,1]/np.sum(a[:,1])\n",
        "plt.plot(x, y, '.', label='data')\n",
        "plt.plot(x, chi2.pdf(x, k-1)/5, '-r', label='chi square')\n",
        "plt.legend()\n",
        "plt.grid()\n",
        "plt.show()"
      ],
      "execution_count": null,
      "outputs": [
        {
          "output_type": "display_data",
          "data": {
            "image/png": "[encoded data removed]",
            "text/plain": [
              "<Figure size 432x288 with 1 Axes>"
            ]
          },
          "metadata": {
            "tags": [],
            "needs_background": "light"
          }
        }
      ]
    },
    {
      "cell_type": "markdown",
      "metadata": {
        "id": "jgZuh94UsEZf"
      },
      "source": [
        "It appears that Wilks' Theorem is again a fairly good approximation. So why not generate a change map for the full series? The good news is that we now have the overall false positive probability $\\alpha$ under control. Here we set it to $\\alpha=0.01$."
      ]
    },
    {
      "cell_type": "code",
      "metadata": {
        "id": "CL4N3GednWs9",
        "colab": {
          "base_uri": "https://localhost:8080/",
          "height": 763
        },
        "outputId": "c042410b-aa80-4967-8dd2-83c6ee992ba3"
      },
      "source": [
        "# The change map for alpha = 0.01.\n",
        "k = 26; alpha = 0.01\n",
        "p_value = ee.Image.constant(1).subtract(chi2cdf(omnibus(vv_list), k-1))\n",
        "c_map = p_value.multiply(0).where(p_value.lt(alpha), 1)\n",
        "# Make the no-change pixels transparent.\n",
        "c_map = c_map.updateMask(c_map.gt(0))\n",
        "# Overlay onto the folium map.\n",
        "location = aoi.centroid().coordinates().getInfo()[::-1]\n",
        "mp = folium.Map(location=location, zoom_start=11)\n",
        "mp.add_ee_layer(c_map, {'min': 0,'max': 1, 'palette': ['black', 'red']}, 'change map')\n",
        "mp.add_child(folium.LayerControl())"
      ],
      "execution_count": null,
      "outputs": [
        {
          "output_type": "execute_result",
          "data": {
            "text/html": [
              "<div style=\"width:100%;\"><div style=\"position:relative;width:100%;height:0;padding-bottom:60%;\"><span style=\"color:#565656\">Make this Notebook Trusted to load map: File -> Trust Notebook</span><iframe src=\"about:blank\" style=\"position:absolute;width:100%;height:100%;left:0;top:0;border:none !important;\" data-html=%3C%21DOCTYPE%20html%3E%0A%3Chead%3E%20%20%20%20%0A%20%20%20%20%3Cmeta%20http-equiv%3D%22content-type%22%20content%3D%22text/html%3B%20charset%3DUTF-8%22%20/%3E%0A%20%20%20%20%3Cscript%3EL_PREFER_CANVAS%3Dfalse%3B%20L_NO_TOUCH%3Dfalse%3B%20L_DISABLE_3D%3Dfalse%3B%3C/script%3E%0A%20%20%20%20%3Cscript%20src%3D%22https%3A//cdn.jsdelivr.net/npm/leaflet%401.4.0/dist/leaflet.js%22%3E%3C/script%3E%0A%20%20%20%20%3Cscript%20src%3D%22https%3A//code.jquery.com/jquery-1.12.4.min.js%22%3E%3C/script%3E%0A%20%20%20%20%3Cscript%20src%3D%22https%3A//maxcdn.bootstrapcdn.com/bootstrap/3.2.0/js/bootstrap.min.js%22%3E%3C/script%3E%0A%20%20%20%20%3Cscript%20src%3D%22https%3A//cdnjs.cloudflare.com/ajax/libs/Leaflet.awesome-markers/2.0.2/leaflet.awesome-markers.js%22%3E%3C/script%3E%0A%20%20%20%20%3Clink%20rel%3D%22stylesheet%22%20href%3D%22https%3A//cdn.jsdelivr.net/npm/leaflet%401.4.0/dist/leaflet.css%22/%3E%0A%20%20%20%20%3Clink%20rel%3D%22stylesheet%22%20href%3D%22https%3A//maxcdn.bootstrapcdn.com/bootstrap/3.2.0/css/bootstrap.min.css%22/%3E%0A%20%20%20%20%3Clink%20rel%3D%22stylesheet%22%20href%3D%22https%3A//maxcdn.bootstrapcdn.com/bootstrap/3.2.0/css/bootstrap-theme.min.css%22/%3E%0A%20%20%20%20%3Clink%20rel%3D%22stylesheet%22%20href%3D%22https%3A//maxcdn.bootstrapcdn.com/font-awesome/4.6.3/css/font-awesome.min.css%22/%3E%0A%20%20%20%20%3Clink%20rel%3D%22stylesheet%22%20href%3D%22https%3A//cdnjs.cloudflare.com/ajax/libs/Leaflet.awesome-markers/2.0.2/leaflet.awesome-markers.css%22/%3E%0A%20%20%20%20%3Clink%20rel%3D%22stylesheet%22%20href%3D%22https%3A//rawcdn.githack.com/python-visualization/folium/master/folium/templates/leaflet.awesome.rotate.css%22/%3E%0A%20%20%20%20%3Cstyle%3Ehtml%2C%20body%20%7Bwidth%3A%20100%25%3Bheight%3A%20100%25%3Bmargin%3A%200%3Bpadding%3A%200%3B%7D%3C/style%3E%0A%20%20%20%20%3Cstyle%3E%23map%20%7Bposition%3Aabsolute%3Btop%3A0%3Bbottom%3A0%3Bright%3A0%3Bleft%3A0%3B%7D%3C/style%3E%0A%20%20%20%20%0A%20%20%20%20%3Cmeta%20name%3D%22viewport%22%20content%3D%22width%3Ddevice-width%2C%0A%20%20%20%20%20%20%20%20initial-scale%3D1.0%2C%20maximum-scale%3D1.0%2C%20user-scalable%3Dno%22%20/%3E%0A%20%20%20%20%3Cstyle%3E%23map_76d377bc0df745539e42c47af0abf2dc%20%7B%0A%20%20%20%20%20%20%20%20position%3A%20relative%3B%0A%20%20%20%20%20%20%20%20width%3A%20100.0%25%3B%0A%20%20%20%20%20%20%20%20height%3A%20100.0%25%3B%0A%20%20%20%20%20%20%20%20left%3A%200.0%25%3B%0A%20%20%20%20%20%20%20%20top%3A%200.0%25%3B%0A%20%20%20%20%20%20%20%20%7D%0A%20%20%20%20%3C/style%3E%0A%3C/head%3E%0A%3Cbody%3E%20%20%20%20%0A%20%20%20%20%0A%20%20%20%20%3Cdiv%20class%3D%22folium-map%22%20id%3D%22map_76d377bc0df745539e42c47af0abf2dc%22%20%3E%3C/div%3E%0A%3C/body%3E%0A%3Cscript%3E%20%20%20%20%0A%20%20%20%20%0A%20%20%20%20%0A%20%20%20%20%20%20%20%20var%20bounds%20%3D%20null%3B%0A%20%20%20%20%0A%0A%20%20%20%20var%20map_76d377bc0df745539e42c47af0abf2dc%20%3D%20L.map%28%0A%20%20%20%20%20%20%20%20%27map_76d377bc0df745539e42c47af0abf2dc%27%2C%20%7B%0A%20%20%20%20%20%20%20%20center%3A%20%5B53.58821484420569%2C%20-1.0708236694338455%5D%2C%0A%20%20%20%20%20%20%20%20zoom%3A%2011%2C%0A%20%20%20%20%20%20%20%20maxBounds%3A%20bounds%2C%0A%20%20%20%20%20%20%20%20layers%3A%20%5B%5D%2C%0A%20%20%20%20%20%20%20%20worldCopyJump%3A%20false%2C%0A%20%20%20%20%20%20%20%20crs%3A%20L.CRS.EPSG3857%2C%0A%20%20%20%20%20%20%20%20zoomControl%3A%20true%2C%0A%20%20%20%20%20%20%20%20%7D%29%3B%0A%0A%0A%20%20%20%20%0A%20%20%20%20var%20tile_layer_aab8c76137764aa4bd493caa53fa6d89%20%3D%20L.tileLayer%28%0A%20%20%20%20%20%20%20%20%27https%3A//%7Bs%7D.tile.openstreetmap.org/%7Bz%7D/%7Bx%7D/%7By%7D.png%27%2C%0A%20%20%20%20%20%20%20%20%7B%0A%20%20%20%20%20%20%20%20%22attribution%22%3A%20null%2C%0A%20%20%20%20%20%20%20%20%22detectRetina%22%3A%20false%2C%0A%20%20%20%20%20%20%20%20%22maxNativeZoom%22%3A%2018%2C%0A%20%20%20%20%20%20%20%20%22maxZoom%22%3A%2018%2C%0A%20%20%20%20%20%20%20%20%22minZoom%22%3A%200%2C%0A%20%20%20%20%20%20%20%20%22noWrap%22%3A%20false%2C%0A%20%20%20%20%20%20%20%20%22opacity%22%3A%201%2C%0A%20%20%20%20%20%20%20%20%22subdomains%22%3A%20%22abc%22%2C%0A%20%20%20%20%20%20%20%20%22tms%22%3A%20false%0A%7D%29.addTo%28map_76d377bc0df745539e42c47af0abf2dc%29%3B%0A%20%20%20%20var%20tile_layer_21ad6d89fbb24b538c1f9d493ac5307b%20%3D%20L.tileLayer%28%0A%20%20%20%20%20%20%20%20%27https%3A//earthengine.googleapis.com/v1alpha/projects/earthengine-legacy/maps/28d27e2a526e212201ec592b7a7ccc39-7b656d15629f9ec83eb60431203b60e1/tiles/%7Bz%7D/%7Bx%7D/%7By%7D%27%2C%0A%20%20%20%20%20%20%20%20%7B%0A%20%20%20%20%20%20%20%20%22attribution%22%3A%20%22Map%20Data%20%26copy%3B%20%3Ca%20href%3D%5C%22https%3A//earthengine.google.com/%5C%22%3EGoogle%20Earth%20Engine%3C/a%3E%22%2C%0A%20%20%20%20%20%20%20%20%22detectRetina%22%3A%20false%2C%0A%20%20%20%20%20%20%20%20%22maxNativeZoom%22%3A%2018%2C%0A%20%20%20%20%20%20%20%20%22maxZoom%22%3A%2018%2C%0A%20%20%20%20%20%20%20%20%22minZoom%22%3A%200%2C%0A%20%20%20%20%20%20%20%20%22noWrap%22%3A%20false%2C%0A%20%20%20%20%20%20%20%20%22opacity%22%3A%201%2C%0A%20%20%20%20%20%20%20%20%22subdomains%22%3A%20%22abc%22%2C%0A%20%20%20%20%20%20%20%20%22tms%22%3A%20false%0A%7D%29.addTo%28map_76d377bc0df745539e42c47af0abf2dc%29%3B%0A%20%20%20%20%0A%20%20%20%20%20%20%20%20%20%20%20%20var%20layer_control_019b8874518843c9b1d504ff7564ebea%20%3D%20%7B%0A%20%20%20%20%20%20%20%20%20%20%20%20%20%20%20%20base_layers%20%3A%20%7B%20%22openstreetmap%22%20%3A%20tile_layer_aab8c76137764aa4bd493caa53fa6d89%2C%20%7D%2C%0A%20%20%20%20%20%20%20%20%20%20%20%20%20%20%20%20overlays%20%3A%20%7B%20%22change%20map%22%20%3A%20tile_layer_21ad6d89fbb24b538c1f9d493ac5307b%2C%20%7D%0A%20%20%20%20%20%20%20%20%20%20%20%20%20%20%20%20%7D%3B%0A%20%20%20%20%20%20%20%20%20%20%20%20L.control.layers%28%0A%20%20%20%20%20%20%20%20%20%20%20%20%20%20%20%20layer_control_019b8874518843c9b1d504ff7564ebea.base_layers%2C%0A%20%20%20%20%20%20%20%20%20%20%20%20%20%20%20%20layer_control_019b8874518843c9b1d504ff7564ebea.overlays%2C%0A%20%20%20%20%20%20%20%20%20%20%20%20%20%20%20%20%7Bposition%3A%20%27topright%27%2C%0A%20%20%20%20%20%20%20%20%20%20%20%20%20%20%20%20%20collapsed%3A%20true%2C%0A%20%20%20%20%20%20%20%20%20%20%20%20%20%20%20%20%20autoZIndex%3A%20true%0A%20%20%20%20%20%20%20%20%20%20%20%20%20%20%20%20%7D%29.addTo%28map_76d377bc0df745539e42c47af0abf2dc%29%3B%0A%20%20%20%20%20%20%20%20%20%20%20%20%0A%20%20%20%20%20%20%20%20%0A%3C/script%3E onload=\"this.contentDocument.open();this.contentDocument.write(    decodeURIComponent(this.getAttribute('data-html')));this.contentDocument.close();\" allowfullscreen webkitallowfullscreen mozallowfullscreen></iframe></div></div>"
            ],
            "text/plain": [
              "<folium.folium.Map at 0x7fd284226590>"
            ]
          },
          "metadata": {
            "tags": []
          },
          "execution_count": 14
        }
      ]
    },
    {
      "cell_type": "markdown",
      "metadata": {
        "id": "0OFU7fgvtzCm"
      },
      "source": [
        "So plenty of changes, but hard to interpret considering the time span. Although we can see _where_ changes took place, we know neither _when_ they occurred nor their _multiplicity_. Also there is a matter that we have glossed over up until now, and that is ...\n",
        "\n",
        "### A question of scale\n",
        "\n",
        "The number of looks plays an important role in all of the formulae that we have discussed so far, and for the Sentinel-1 ground range detected imagery we first used $m=5$ and now the ENL $=4.4$.  When we display a change map interactively, the  [zoom factor determines the image pyramid level](https://developers.google.com/earth-engine/guides/scale) at which the GEE servers perform the required calculations and pass the result to the folium map client. If the calculations are not at the nominal scale of 10m then the number of looks is effectively larger than the ENL due to the averaging involved in constructing higher pyramid levels. The effect can be seen in the  output cell above: the number of change pixels seems to decrease when we zoom out. There is no problem when we export our results to GEE assets, to Google Drive or to Cloud storage, since we can simply choose the correct nominal scale for export.\n",
        "\n",
        "In order to see the changes correctly at all zoom levels, we can force GEE to work at the nominal scale by reprojecting before displaying on the map ([use with caution](https://developers.google.com/earth-engine/guides/projections#reprojecting)):"
      ]
    },
    {
      "cell_type": "code",
      "metadata": {
        "id": "shwzGq2tWMva"
      },
      "source": [
        "c_map_10m = c_map.reproject(c_map.projection().crs(), scale=10)\n",
        "mp = folium.Map(location=location, zoom_start=11)\n",
        "mp.add_ee_layer(c_map, {'min': 0, 'max': 1, 'palette': ['black', 'red']}, 'Change map')\n",
        "mp.add_ee_layer(c_map_10m, {'min': 0, 'max': 1, 'palette': ['black', 'blue']}, 'Change map (10m)')\n",
        "\n",
        "mp.add_child(folium.LayerControl())"
      ],
      "execution_count": null,
      "outputs": []
    },
    {
      "cell_type": "markdown",
      "metadata": {
        "id": "wTkiTAIWLxpU"
      },
      "source": [
        "You will notice in the output cell above that the calculation at nominal scale (the blue pixels) now takes considerably longer to complete. Also some red pixels are not completely covered by blue ones. Those changes are a spurious result of the falsified number of looks. Nevertheless for quick previewing purposes we might prefer to do without the reprojection."
      ]
    },
    {
      "cell_type": "markdown",
      "metadata": {
        "id": "p9mlvH7oUtJe"
      },
      "source": [
        "### A sequential omnibus test\n",
        "\n",
        "Recalling the last remark at the end of [Part 2](https://developers.google.com/earth-engine/tutorials/community/detecting-changes-in-sentinel-1-imagery-pt-2#oh_and_one_more_thing_), let's now guess the omnibus LRT for the dual polarization case. From Eq. (3.5), replacing $s_i \\to|c_i|$,  $\\ \\sum s_i \\to |\\sum c_i|\\ $ and $k^k \\to k^{2k}$, we get\n",
        "\n",
        "$$\n",
        "Q_k =  \\left[k^{2k}{\\prod_i |c_i|\\over |\\sum_i c_i|^k}\\right]^m. \\tag{3.7}\n",
        "$$\n",
        "\n",
        "This is in fact a special case of a more general omnibus test statistic\n",
        "\n",
        "$$\n",
        "Q_k =  \\left[k^{pk}{\\prod_i |c_i|\\over |\\sum_i c_i|^k}\\right]^m\n",
        "$$\n",
        "\n",
        "which holds for $p\\times p$ polarimetric covariance matrix images, for example for the full dual pol matrix   [Eq. (1.5)](https://developers.google.com/earth-engine/tutorials/community/detecting-changes-in-sentinel-1-imagery-pt-1#single_look_complex_slc_sar_measurements) or for full $3\\times 3$ quad pol matrices ($p=3$), but also for diagonal $2\\times 2$ and $3\\times 3$ matrices.\n",
        "\n",
        "Which brings us to the **heart of this Tutorial**. We will now decompose Eq. (3.7) into a product of independent likelihood ratio tests which will enable us to determine when changes occurred at each pixel location. Then we'll code a complete multitemporal change detection algorithm on the GEE Python API."
      ]
    },
    {
      "cell_type": "markdown",
      "metadata": {
        "id": "tePZxpVI0Tkg"
      },
      "source": [
        "#### Single polarization\n",
        "\n",
        "Rather than make a formal derivation, we will illustrate the decomposition on a series of $k=5$ single polarization (VV) measurements. The omnibus test Eq. (3.5) for any change over the series from $t_1$ to $t_5$ is\n",
        "\n",
        "$$\n",
        "Q_5 = \\left[ 5^5 {s_1s_2s_3s_4s_5\\over (s_1+s_2+s_3+s_4+s_5)^5}\\right]^m.\n",
        "$$\n",
        "\n",
        "If we accept the null hypothesis $a_1=a_2=a_3=a_4=a_5$ we're done and can move on to the next pixel (figuratively of course, since this stuff is all done in parallel). But suppose we have rejected the null hypothesis, i.e., there was a least one significant change. In order to find it (or them), we begin by testing the first of the four intervals. That's just the bitemporal test from Part 2, but let's call it $R_2$ rather than $Q_2$,\n",
        "\n",
        "$$\n",
        "R_2 = \\left[ 2^2 {s_1s_2\\over (s_1+s_2)^2}\\right]^m.\n",
        "$$\n",
        "\n",
        "Suppose we conclude no change, that is, $a_1=a_2$. Now we don't do just another bitemporal test on the second interval. Instead we test the hypothesis\n",
        "\n",
        "$$\n",
        "\\begin{align*}\n",
        "H_0:\\ & a_1=a_2= a_3\\ (=a)\\cr\n",
        "{\\rm against}\\quad H_1:\\  &a_1=a_2\\ (=a) \\ne a_3.\n",
        "\\end{align*}\n",
        "$$\n",
        "\n",
        "So the alternative hypothesis is: _There was no change in the first interval **and** there was a change in the second interval_. The LRT is easy to derive, but let's go through it anyway.\n",
        "\n",
        "$$\n",
        "\\begin{align*}\n",
        "        {\\rm From\\ Eq.}\\ (3.4):\\  &L_0(a)  = {1\\over\\Gamma(m)^3} \\left[{a\\over m}\\right]^{-3m}\\left[s_1s_2s_3\\right]^{m-1}\\exp(-{m\\over a}(s_1+s_2+s_3)  \\cr\n",
        "        &\\hat a = {1\\over 3}(s_1+s_2+s_3) \\cr\n",
        "=>\\           &L_0(\\hat a) = {1\\over\\Gamma(m)^3} \\left[{s_1+s_2+s_3\\over 3m}\\right]^{-3m}\\left[s_1s_2s_3\\right]^{m-1} \\exp(-3m) \\cr\n",
        "{\\rm From\\ Eq.}\\ (3.3):\\ &L_1(a_1,a_2,a_3) = {1\\over\\Gamma(m)^3}\\left[a_1a_2a_3\\over m\\right]^{-m}[s_1s_2s_3]^{m-1}\\exp(-m(s_1/a_1+s_2/a_2+s_3/a_3)\\cr\n",
        "&\\hat a_1 = \\hat a_2 = {1\\over 2}(s_1+s_2),\\quad \\hat a_3 = s_3 \\cr\n",
        "=>\\ &L_1(\\hat a_1,\\hat a_2, \\hat a_3) = {1\\over\\Gamma(m)^3}\\left[(s_1+s_2)^2s_3\\over 2^2m \\right]^{-m}[s_1s_2s_3]^{m-1}\\exp(-3m)\n",
        "\\end{align*}\n",
        "$$\n",
        "\n",
        "And, taking the ratio $L_0/L_1$of the maximum likelihoods,\n",
        "\n",
        "$$\n",
        "R_3 = \\left[{3^3\\over 2^2}{(s_1+s_2)^2s_3\\over (s_1+s_2+s_3)^3}\\right]^m.\n",
        "$$\n",
        "\n",
        "Not too hard to guess that, if we accept $H_0$ again, we go on to test\n",
        "\n",
        "$$\n",
        "\\begin{align*}\n",
        "H_0:\\ a_1=a_2=a_3=a_4\\ (=a)\\cr\n",
        "{\\rm against}\\quad H_1:\\ a_1=a_2=a_3\\ (=a) \\ne a_4.\n",
        "\\end{align*}\n",
        "$$\n",
        "\n",
        "with LRT statistic\n",
        "\n",
        "$$\n",
        "R_4 = \\left[{4^4\\over 3^3}{(s_1+s_2+s_3)^3s_4\\over (s_1+s_2+s_3+s_4)^4}\\right]^m,\n",
        "$$\n",
        "\n",
        "and so on to $R_5$ and the end of the time series.\n",
        "\n",
        "Now for the cool part (try it out yourself):\n",
        "\n",
        "$$\n",
        "R_2\\times R_3\\times R_4 \\times R_5 = Q_5.\n",
        "$$"
      ]
    },
    {
      "cell_type": "markdown",
      "metadata": {
        "id": "twkipaPuT1qP"
      },
      "source": [
        "So, generalizing to a series of length $k$:\n",
        "\n",
        "**The omnibus test statistic $Q_k$ may be factored into the product of  LRT's $R_j$ which test for homogeneity in the measured reflectance signal up to and including time $t_j$, assuming homogeneity up to time $t_{j-1}$:**\n",
        "\n",
        "$$\n",
        "Q_k = \\prod_{j=2}^k R_j, \\quad R_j = \\left[{j^j\\over (j-1)^{j-1}}{(s_1+\\dots +s_{j-1})^{j-1}s_j\\over (s_1+\\dots +s_j)^j}\\right]^m,\\quad j = 2\\dots k.  \\tag{3.8}\n",
        "$$\n",
        "\n",
        "Moreover the test statistics $R_j$ are stochastically independent under $H_0$.\n",
        "This can be shown analytically, see [Conradsen et al. (2016)](https://ieeexplore.ieee.org/document/7398022) or P. 405 in my [textbook](https://www.taylorfrancis.com/books/9780429464348), but we'll show it here empirically by sampling the test statistics $R_j$ in the region _aoi\\_sub_ and examining the correlation matrix."
      ]
    },
    {
      "cell_type": "code",
      "metadata": {
        "id": "0GSB1pSnNee6",
        "colab": {
          "base_uri": "https://localhost:8080/"
        },
        "outputId": "850e4f70-909d-4155-a744-33962ef053c6"
      },
      "source": [
        "def sample_vv_imgs(j):\n",
        "    \"\"\"Samples the test statistics Rj in the region aoi_sub.\"\"\"\n",
        "    j = ee.Number(j)\n",
        "    # Get the factors in the expression for Rj.\n",
        "    sj = vv_list.get(j.subtract(1))\n",
        "    jfact = j.pow(j).divide(j.subtract(1).pow(j.subtract(1)))\n",
        "    sumj = ee.ImageCollection(vv_list.slice(0, j)).reduce(ee.Reducer.sum())\n",
        "    sumjm1 = ee.ImageCollection(vv_list.slice(0, j.subtract(1))).reduce(ee.Reducer.sum())\n",
        "    # Put them together.\n",
        "    Rj = sumjm1.pow(j.subtract(1)).multiply(sj).multiply(jfact).divide(sumj.pow(j)).pow(5)\n",
        "    # Sample Rj.\n",
        "    sample = (Rj.sample(region=aoi_sub, scale=10, numPixels=1000, seed=123)\n",
        "              .aggregate_array('VV_sum'))\n",
        "    return sample\n",
        "\n",
        "# Sample the first few list indices.\n",
        "samples = ee.List.sequence(2, 8).map(sample_vv_imgs)\n",
        "\n",
        "# Calculate and display the correlation matrix.\n",
        "np.set_printoptions(precision=2, suppress=True)\n",
        "print(np.corrcoef(samples.getInfo()))"
      ],
      "execution_count": null,
      "outputs": [
        {
          "output_type": "stream",
          "text": [
            "[[ 1.    0.   -0.01 -0.04  0.03  0.06  0.02]\n",
            " [ 0.    1.    0.04 -0.01 -0.02  0.02  0.02]\n",
            " [-0.01  0.04  1.   -0.04  0.02 -0.02  0.04]\n",
            " [-0.04 -0.01 -0.04  1.   -0.04  0.01  0.03]\n",
            " [ 0.03 -0.02  0.02 -0.04  1.    0.08 -0.01]\n",
            " [ 0.06  0.02 -0.02  0.01  0.08  1.    0.  ]\n",
            " [ 0.02  0.02  0.04  0.03 -0.01  0.    1.  ]]\n"
          ],
          "name": "stdout"
        }
      ]
    },
    {
      "cell_type": "markdown",
      "metadata": {
        "id": "P1wKex1oFrqU"
      },
      "source": [
        "The off-diagonal elements are mostly small. The not-so-small values can be attributed to sampling error or to the presence of some change pixels in the samples."
      ]
    },
    {
      "cell_type": "markdown",
      "metadata": {
        "id": "CFzoRyIOU5Rx"
      },
      "source": [
        "#### Dual polarization and an algorithm\n",
        "\n",
        "With our substitution trick, we can now write down the sequential test for the dual polarization (bivariate) image time series. From Eq. (3.8) we get\n",
        "\n",
        "$$\n",
        "Q_k = \\prod_{j=2}^k R_j , \\quad R_j = \\left[{j^{2j}\\over (j-1)^{2(j-1)}}{|c_1+\\dots +c_{j-1}|^{j-1}|c_j|\\over |c_1+\\dots +c_j|^j}\\right]^m,\\quad j = 2\\dots k. \\tag{3.9}\n",
        "$$\n",
        "\n",
        "And of course we have again to use Wilks' Theorem to get the _P_ values, so we work with\n",
        "\n",
        "$$\n",
        "-2\\log{R_j} = -2m\\Big[2(j\\log{j}-(j-1)\\log(j-1)+(j-1)\\log\\Big|\\sum_{i=1}^{j-1}c_i \\Big|+\\log|c_j|-j\\log\\Big|\\sum_{i=1}^j c_i\\Big|\\ \\Big] \\tag{3.10a}\n",
        "$$\n",
        "\n",
        "and\n",
        "\n",
        "$$\n",
        "-2\\log Q_k = \\sum_{j=2}^k -2\\log R_j. \\tag{3.10b}\n",
        "$$\n",
        "\n",
        "The statistic $-2\\log R_j$ is approximately chi square distributed with two degrees of freedom. Similarly $-2\\log Q_k$ is approximately chi square distributed with $2(k-1)$ degrees of freedom. Readers should satisfy themselves that these numbers are indeed the correct, taking into account that each measurement $c_i$ has two free parameters $|S^a_{vv}|^2$ and $|S^b_{vh}|^2$, see [Eq. (2.13)](https://developers.google.com/earth-engine/tutorials/community/detecting-changes-in-sentinel-1-imagery-pt-2#bivariate_change_detection).\n",
        "\n",
        "Now for the algorithm:\n",
        "\n",
        "**The sequential omnibus change detection algorithm**\n",
        "\n",
        "With a time series of $k$ SAR images $(c_1,c_2,\\dots,c_k)$,\n",
        "\n",
        "1. Set $\\ell = k$.\n",
        "2. Set $s = (c_{k-\\ell+1}, \\dots c_k)$.\n",
        "3. Perform the omnibus test $Q_\\ell$ for any changes change over $s$.\n",
        "4. If no significant changes are found, stop.\n",
        "5. Successively test series $s$ with $R_2, R_3, \\dots$ until the first significant change is met for $R_j$.\n",
        "6. Set $\\ell = k-j+1$ and go to 2.\n",
        "\n",
        "|Table 3.1 |       |       |       |       |       |        |\n",
        "|----------|-------|-------|-------|-------|-------|--------|\n",
        "|  $\\ell$  | $c_1$ | $c_2$ | $c_3$ | $c_4$ | $c_5$ |        |\n",
        "| 5        |       | $R^5_2$ | $R^5_3$ | $R^5_4$ | $R^5_5$ | $Q_5$  |\n",
        "| 4        |       |       | $R^4_2$ | $R^4_3$ | $R^4_4$ | $Q_4$  |\n",
        "| 3        |       |       |       | $R^3_2$ | $R^3_3$ | $Q_3$  |\n",
        "| 2        |       |       |       |       | $R^2_2$ | $Q_2$  |\n",
        "\n",
        "\n",
        "Thus if a change is found, the series is truncated up to the point of change and the testing procedure is repeated for the rest of the series. Take for example a series of $k=5$ images. (See Table 3.1 where, to avoid ambiguity, we add superscript $\\ell$ to each $R_j$ test). Suppose there is one change in the second interval only. Then the test sequence is (the asterisk means $H_0$ is rejected)\n",
        "\n",
        "$$\n",
        "Q^*_5 \\to R^5_2 \\to R^{5*}_3 \\to Q_3.\n",
        "$$\n",
        "\n",
        "If there are changes in the second and last intervals,\n",
        "\n",
        "$$\n",
        "Q^*_5 \\to R^5_2 \\to R^{5*}_3 \\to Q^*_3 \\to R^3_2 \\to R^{3*}_3,\n",
        "$$\n",
        "\n",
        "and if there are significant changes in all four intervals,\n",
        "\n",
        "$$\n",
        "Q^*_5 \\to R^{5*}_2 \\to Q^*_4 \\to R^{4*}_2 \\to Q^*_3 \\to R^{3*}_2 \\to Q^*_2.\n",
        "$$\n",
        "\n",
        "The approach taken in the coding of this algorithm is to pre-calculate  _P_ values for all of the $Q_\\ell / R_j$ tests and then, in a second pass, to filter them to determine the points of change.\n",
        "\n"
      ]
    },
    {
      "cell_type": "markdown",
      "metadata": {
        "id": "D0fpZbEfthH3"
      },
      "source": [
        "#### Pre-calculating the _P_ value array\n",
        "\n",
        "The following code cell performs map operations on the indices $\\ell$ and $j$, returning an array of _P_ values for all possible LRT statistics. For example again for $k=5$, the code calculates the _P_ values for each $R_j$ entry in Table 3.1 as a list of lists. Before calculating each row, the time series $c_1, c_2,c_3,c_4, c_5$ is sliced from $k-\\ell+1$ to $k$. The last entry in each row is simply the product of the other entries,  $Q_\\ell =\\prod_{j=2}^\\ell R_j.$\n",
        "\n",
        "The program actually operates on the logarithms of the test statistics, Equations (3.10).\n"
      ]
    },
    {
      "cell_type": "code",
      "metadata": {
        "id": "4DDfm-FxtylT"
      },
      "source": [
        "def log_det_sum(im_list, j):\n",
        "    \"\"\"Returns log of determinant of the sum of the first j images in im_list.\"\"\"\n",
        "    im_ist = ee.List(im_list)\n",
        "    sumj = ee.ImageCollection(im_list.slice(0, j)).reduce(ee.Reducer.sum())\n",
        "    return ee.Image(det(sumj)).log()\n",
        "\n",
        "def log_det(im_list, j):\n",
        "    \"\"\"Returns log of the determinant of the jth image in im_list.\"\"\"\n",
        "    im = ee.Image(ee.List(im_list).get(j.subtract(1)))\n",
        "    return ee.Image(det(im)).log()\n",
        "\n",
        "def pval(im_list, j, m=4.4):\n",
        "    \"\"\"Calculates -2logRj for im_list and returns P value and -2logRj.\"\"\"\n",
        "    im_list = ee.List(im_list)\n",
        "    j = ee.Number(j)\n",
        "    m2logRj = (log_det_sum(im_list, j.subtract(1))\n",
        "               .multiply(j.subtract(1))\n",
        "               .add(log_det(im_list, j))\n",
        "               .add(ee.Number(2).multiply(j).multiply(j.log()))\n",
        "               .subtract(ee.Number(2).multiply(j.subtract(1))\n",
        "               .multiply(j.subtract(1).log()))\n",
        "               .subtract(log_det_sum(im_list,j).multiply(j))\n",
        "               .multiply(-2).multiply(m))\n",
        "    pv = ee.Image.constant(1).subtract(chi2cdf(m2logRj, 2))\n",
        "    return (pv, m2logRj)\n",
        "\n",
        "def p_values(im_list):\n",
        "    \"\"\"Pre-calculates the P-value array for a list of images.\"\"\"\n",
        "    im_list = ee.List(im_list)\n",
        "    k = im_list.length()\n",
        "\n",
        "    def ells_map(ell):\n",
        "        \"\"\"Arranges calculation of pval for combinations of k and j.\"\"\"\n",
        "        ell = ee.Number(ell)\n",
        "        # Slice the series from k-l+1 to k (image indices start from 0).\n",
        "        im_list_ell = im_list.slice(k.subtract(ell), k)\n",
        "\n",
        "        def js_map(j):\n",
        "            \"\"\"Applies pval calculation for combinations of k and j.\"\"\"\n",
        "            j = ee.Number(j)\n",
        "            pv1, m2logRj1 = pval(im_list_ell, j)\n",
        "            return ee.Feature(None, {'pv': pv1, 'm2logRj': m2logRj1})\n",
        "\n",
        "        # Map over j=2,3,...,l.\n",
        "        js = ee.List.sequence(2, ell)\n",
        "        pv_m2logRj = ee.FeatureCollection(js.map(js_map))\n",
        "\n",
        "        # Calculate m2logQl from collection of m2logRj images.\n",
        "        m2logQl = ee.ImageCollection(pv_m2logRj.aggregate_array('m2logRj')).sum()\n",
        "        pvQl = ee.Image.constant(1).subtract(chi2cdf(m2logQl, ell.subtract(1).multiply(2)))\n",
        "        pvs = ee.List(pv_m2logRj.aggregate_array('pv')).add(pvQl)\n",
        "        return pvs\n",
        "\n",
        "    # Map over l = k to 2.\n",
        "    ells = ee.List.sequence(k, 2, -1)\n",
        "    pv_arr = ells.map(ells_map)\n",
        "\n",
        "    # Return the P value array ell = k,...,2, j = 2,...,l.\n",
        "    return pv_arr"
      ],
      "execution_count": null,
      "outputs": []
    },
    {
      "cell_type": "markdown",
      "metadata": {
        "id": "Mx3XiJAEIpu7"
      },
      "source": [
        "#### Filtering the _P_ values\n",
        "\n",
        "|Table 3.2 |       |       |       |       |       |        |\n",
        "|----------|-------|-------|-------|-------|-------|--------|\n",
        "|$i\\ $ / $j$|      |     1 |     2 |     3 |     4 |        |\n",
        "| 1        |       | $P_2$ | $P_3$ | $P_4$ | $P_5$ | $P_{Q5}$  |\n",
        "| 2        |       |       | $P_2$ | $P_3$ | $P_4$ | $P_{Q4}$  |\n",
        "| 3        |       |       |       | $P_2$ | $P_3$ | $P_{Q3}$  |\n",
        "| 4        |       |       |       |       | $P_2$ | $P_{Q2}$  |\n",
        "\n",
        "The pre-calculated _P_ values in _pv\\_arr_ (shown schematically in Table 3.2 for $k=5$) are then scanned in nested iterations over indices $i$ and $j$ to determine the following thematic change maps:\n",
        "\n",
        "- cmap: the interval of the most recent change, one band, byte values $\\in [0,k-1]$,\n",
        "- smap: the interval of the first change, one band, byte values $\\in [0,k-1]$,\n",
        "- fmap: the number of changes, one band, byte values $\\in [0,k-1]$,\n",
        "- bmap: the changes in each interval, $\\ k-1$ bands, byte values $\\in [0,1]$).\n",
        "\n",
        "A boolean variable _median_ is included in the code. Its purpose is to reduce the salt-and-pepper effect in no-change regions, which is at least partly a consequence of the uniform distribution of the _P_ values under $H_0$ (see the section [A note on P values](https://developers.google.com/earth-engine/tutorials/community/detecting-changes-in-sentinel-1-imagery-pt-2#a_note_on_p_values) in Part 2). If _median_ is _True_, the _P_ values for each $Q_\\ell$ statistic are passed through a $5\\times 5$ median filter before being compared with the significance threshold. This is not statistically kosher but probably justifiable if one is only interested in large homogeneous changes, for example flood inundations or deforestation.\n",
        "\n",
        "Here is the code:"
      ]
    },
    {
      "cell_type": "code",
      "metadata": {
        "id": "D1KBQwPWLYEI"
      },
      "source": [
        "def filter_j(current, prev):\n",
        "    \"\"\"Calculates change maps; iterates over j indices of pv_arr.\"\"\"\n",
        "    pv = ee.Image(current)\n",
        "    prev = ee.Dictionary(prev)\n",
        "    pvQ = ee.Image(prev.get('pvQ'))\n",
        "    i = ee.Number(prev.get('i'))\n",
        "    cmap = ee.Image(prev.get('cmap'))\n",
        "    smap = ee.Image(prev.get('smap'))\n",
        "    fmap = ee.Image(prev.get('fmap'))\n",
        "    bmap = ee.Image(prev.get('bmap'))\n",
        "    alpha = ee.Image(prev.get('alpha'))\n",
        "    j = ee.Number(prev.get('j'))\n",
        "    cmapj = cmap.multiply(0).add(i.add(j).subtract(1))\n",
        "    # Check      Rj?            Ql?                  Row i?\n",
        "    tst = pv.lt(alpha).And(pvQ.lt(alpha)).And(cmap.eq(i.subtract(1)))\n",
        "    # Then update cmap...\n",
        "    cmap = cmap.where(tst, cmapj)\n",
        "    # ...and fmap...\n",
        "    fmap = fmap.where(tst, fmap.add(1))\n",
        "    # ...and smap only if in first row.\n",
        "    smap = ee.Algorithms.If(i.eq(1), smap.where(tst, cmapj), smap)\n",
        "    # Create bmap band and add it to bmap image.\n",
        "    idx = i.add(j).subtract(2)\n",
        "    tmp = bmap.select(idx)\n",
        "    bname = bmap.bandNames().get(idx)\n",
        "    tmp = tmp.where(tst, 1)\n",
        "    tmp = tmp.rename([bname])\n",
        "    bmap = bmap.addBands(tmp, [bname], True)\n",
        "    return ee.Dictionary({'i': i, 'j': j.add(1), 'alpha': alpha, 'pvQ': pvQ,\n",
        "                          'cmap': cmap, 'smap': smap, 'fmap': fmap, 'bmap':bmap})\n",
        "\n",
        "def filter_i(current, prev):\n",
        "    \"\"\"Arranges calculation of change maps; iterates over row-indices of pv_arr.\"\"\"\n",
        "    current = ee.List(current)\n",
        "    pvs = current.slice(0, -1 )\n",
        "    pvQ = ee.Image(current.get(-1))\n",
        "    prev = ee.Dictionary(prev)\n",
        "    i = ee.Number(prev.get('i'))\n",
        "    alpha = ee.Image(prev.get('alpha'))\n",
        "    median = prev.get('median')\n",
        "    # Filter Ql p value if desired.\n",
        "    pvQ = ee.Algorithms.If(median, pvQ.focal_median(2.5), pvQ)\n",
        "    cmap = prev.get('cmap')\n",
        "    smap = prev.get('smap')\n",
        "    fmap = prev.get('fmap')\n",
        "    bmap = prev.get('bmap')\n",
        "    first = ee.Dictionary({'i': i, 'j': 1, 'alpha': alpha ,'pvQ': pvQ,\n",
        "                           'cmap': cmap, 'smap': smap, 'fmap': fmap, 'bmap': bmap})\n",
        "    result = ee.Dictionary(ee.List(pvs).iterate(filter_j, first))\n",
        "    return ee.Dictionary({'i': i.add(1), 'alpha': alpha, 'median': median,\n",
        "                          'cmap': result.get('cmap'), 'smap': result.get('smap'),\n",
        "                          'fmap': result.get('fmap'), 'bmap': result.get('bmap')})"
      ],
      "execution_count": null,
      "outputs": []
    },
    {
      "cell_type": "markdown",
      "metadata": {
        "id": "pjTNE7fC5YGl"
      },
      "source": [
        "The following function ties the two steps together:"
      ]
    },
    {
      "cell_type": "code",
      "metadata": {
        "id": "Iuzc7fZ-0s1P"
      },
      "source": [
        "def change_maps(im_list, median=False, alpha=0.01):\n",
        "    \"\"\"Calculates thematic change maps.\"\"\"\n",
        "    k = im_list.length()\n",
        "    # Pre-calculate the P value array.\n",
        "    pv_arr = ee.List(p_values(im_list))\n",
        "    # Filter P values for change maps.\n",
        "    cmap = ee.Image(im_list.get(0)).select(0).multiply(0)\n",
        "    bmap = ee.Image.constant(ee.List.repeat(0, k.subtract(1))).add(cmap)\n",
        "    alpha = ee.Image.constant(alpha)\n",
        "    first = ee.Dictionary({'i': 1, 'alpha': alpha, 'median': median,\n",
        "                           'cmap': cmap, 'smap': cmap, 'fmap': cmap, 'bmap': bmap})\n",
        "    return ee.Dictionary(pv_arr.iterate(filter_i, first))"
      ],
      "execution_count": null,
      "outputs": []
    },
    {
      "cell_type": "markdown",
      "metadata": {
        "id": "xz2FqH45CVpe"
      },
      "source": [
        "And now we run the algorithm and display the color-coded change maps: _cmap_, _smap_ (blue early, red late) and _fmap_ (blue few, red many):"
      ]
    },
    {
      "cell_type": "code",
      "metadata": {
        "id": "T4dvtMlna_8R",
        "colab": {
          "base_uri": "https://localhost:8080/",
          "height": 763
        },
        "outputId": "85bbab9a-5418-4602-fdc3-1c140430a8e4"
      },
      "source": [
        "result = change_maps(im_list, median=True, alpha=0.05)\n",
        "\n",
        "# Extract the change maps and display.\n",
        "cmap = ee.Image(result.get('cmap'))\n",
        "smap = ee.Image(result.get('smap'))\n",
        "fmap = ee.Image(result.get('fmap'))\n",
        "location = aoi.centroid().coordinates().getInfo()[::-1]\n",
        "palette = ['black', 'blue', 'cyan', 'yellow', 'red']\n",
        "mp = folium.Map(location=location, zoom_start=11)\n",
        "mp.add_ee_layer(cmap, {'min': 0, 'max': 25, 'palette': palette}, 'cmap')\n",
        "mp.add_ee_layer(smap, {'min': 0, 'max': 25, 'palette': palette}, 'smap')\n",
        "mp.add_ee_layer(fmap, {'min': 0, 'max': 25, 'palette': palette}, 'fmap')\n",
        "mp.add_child(folium.LayerControl())"
      ],
      "execution_count": null,
      "outputs": [
        {
          "output_type": "execute_result",
          "data": {
            "text/html": [
              "<div style=\"width:100%;\"><div style=\"position:relative;width:100%;height:0;padding-bottom:60%;\"><span style=\"color:#565656\">Make this Notebook Trusted to load map: File -> Trust Notebook</span><iframe src=\"about:blank\" style=\"position:absolute;width:100%;height:100%;left:0;top:0;border:none !important;\" data-html=%3C%21DOCTYPE%20html%3E%0A%3Chead%3E%20%20%20%20%0A%20%20%20%20%3Cmeta%20http-equiv%3D%22content-type%22%20content%3D%22text/html%3B%20charset%3DUTF-8%22%20/%3E%0A%20%20%20%20%3Cscript%3EL_PREFER_CANVAS%3Dfalse%3B%20L_NO_TOUCH%3Dfalse%3B%20L_DISABLE_3D%3Dfalse%3B%3C/script%3E%0A%20%20%20%20%3Cscript%20src%3D%22https%3A//cdn.jsdelivr.net/npm/leaflet%401.4.0/dist/leaflet.js%22%3E%3C/script%3E%0A%20%20%20%20%3Cscript%20src%3D%22https%3A//code.jquery.com/jquery-1.12.4.min.js%22%3E%3C/script%3E%0A%20%20%20%20%3Cscript%20src%3D%22https%3A//maxcdn.bootstrapcdn.com/bootstrap/3.2.0/js/bootstrap.min.js%22%3E%3C/script%3E%0A%20%20%20%20%3Cscript%20src%3D%22https%3A//cdnjs.cloudflare.com/ajax/libs/Leaflet.awesome-markers/2.0.2/leaflet.awesome-markers.js%22%3E%3C/script%3E%0A%20%20%20%20%3Clink%20rel%3D%22stylesheet%22%20href%3D%22https%3A//cdn.jsdelivr.net/npm/leaflet%401.4.0/dist/leaflet.css%22/%3E%0A%20%20%20%20%3Clink%20rel%3D%22stylesheet%22%20href%3D%22https%3A//maxcdn.bootstrapcdn.com/bootstrap/3.2.0/css/bootstrap.min.css%22/%3E%0A%20%20%20%20%3Clink%20rel%3D%22stylesheet%22%20href%3D%22https%3A//maxcdn.bootstrapcdn.com/bootstrap/3.2.0/css/bootstrap-theme.min.css%22/%3E%0A%20%20%20%20%3Clink%20rel%3D%22stylesheet%22%20href%3D%22https%3A//maxcdn.bootstrapcdn.com/font-awesome/4.6.3/css/font-awesome.min.css%22/%3E%0A%20%20%20%20%3Clink%20rel%3D%22stylesheet%22%20href%3D%22https%3A//cdnjs.cloudflare.com/ajax/libs/Leaflet.awesome-markers/2.0.2/leaflet.awesome-markers.css%22/%3E%0A%20%20%20%20%3Clink%20rel%3D%22stylesheet%22%20href%3D%22https%3A//rawcdn.githack.com/python-visualization/folium/master/folium/templates/leaflet.awesome.rotate.css%22/%3E%0A%20%20%20%20%3Cstyle%3Ehtml%2C%20body%20%7Bwidth%3A%20100%25%3Bheight%3A%20100%25%3Bmargin%3A%200%3Bpadding%3A%200%3B%7D%3C/style%3E%0A%20%20%20%20%3Cstyle%3E%23map%20%7Bposition%3Aabsolute%3Btop%3A0%3Bbottom%3A0%3Bright%3A0%3Bleft%3A0%3B%7D%3C/style%3E%0A%20%20%20%20%0A%20%20%20%20%3Cmeta%20name%3D%22viewport%22%20content%3D%22width%3Ddevice-width%2C%0A%20%20%20%20%20%20%20%20initial-scale%3D1.0%2C%20maximum-scale%3D1.0%2C%20user-scalable%3Dno%22%20/%3E%0A%20%20%20%20%3Cstyle%3E%23map_bdf1803e906c4d2c8345d3025efc7ee8%20%7B%0A%20%20%20%20%20%20%20%20position%3A%20relative%3B%0A%20%20%20%20%20%20%20%20width%3A%20100.0%25%3B%0A%20%20%20%20%20%20%20%20height%3A%20100.0%25%3B%0A%20%20%20%20%20%20%20%20left%3A%200.0%25%3B%0A%20%20%20%20%20%20%20%20top%3A%200.0%25%3B%0A%20%20%20%20%20%20%20%20%7D%0A%20%20%20%20%3C/style%3E%0A%3C/head%3E%0A%3Cbody%3E%20%20%20%20%0A%20%20%20%20%0A%20%20%20%20%3Cdiv%20class%3D%22folium-map%22%20id%3D%22map_bdf1803e906c4d2c8345d3025efc7ee8%22%20%3E%3C/div%3E%0A%3C/body%3E%0A%3Cscript%3E%20%20%20%20%0A%20%20%20%20%0A%20%20%20%20%0A%20%20%20%20%20%20%20%20var%20bounds%20%3D%20null%3B%0A%20%20%20%20%0A%0A%20%20%20%20var%20map_bdf1803e906c4d2c8345d3025efc7ee8%20%3D%20L.map%28%0A%20%20%20%20%20%20%20%20%27map_bdf1803e906c4d2c8345d3025efc7ee8%27%2C%20%7B%0A%20%20%20%20%20%20%20%20center%3A%20%5B53.58821484420569%2C%20-1.0708236694338455%5D%2C%0A%20%20%20%20%20%20%20%20zoom%3A%2011%2C%0A%20%20%20%20%20%20%20%20maxBounds%3A%20bounds%2C%0A%20%20%20%20%20%20%20%20layers%3A%20%5B%5D%2C%0A%20%20%20%20%20%20%20%20worldCopyJump%3A%20false%2C%0A%20%20%20%20%20%20%20%20crs%3A%20L.CRS.EPSG3857%2C%0A%20%20%20%20%20%20%20%20zoomControl%3A%20true%2C%0A%20%20%20%20%20%20%20%20%7D%29%3B%0A%0A%0A%20%20%20%20%0A%20%20%20%20var%20tile_layer_cd8f73540a984eafb91ac02d9a3df10c%20%3D%20L.tileLayer%28%0A%20%20%20%20%20%20%20%20%27https%3A//%7Bs%7D.tile.openstreetmap.org/%7Bz%7D/%7Bx%7D/%7By%7D.png%27%2C%0A%20%20%20%20%20%20%20%20%7B%0A%20%20%20%20%20%20%20%20%22attribution%22%3A%20null%2C%0A%20%20%20%20%20%20%20%20%22detectRetina%22%3A%20false%2C%0A%20%20%20%20%20%20%20%20%22maxNativeZoom%22%3A%2018%2C%0A%20%20%20%20%20%20%20%20%22maxZoom%22%3A%2018%2C%0A%20%20%20%20%20%20%20%20%22minZoom%22%3A%200%2C%0A%20%20%20%20%20%20%20%20%22noWrap%22%3A%20false%2C%0A%20%20%20%20%20%20%20%20%22opacity%22%3A%201%2C%0A%20%20%20%20%20%20%20%20%22subdomains%22%3A%20%22abc%22%2C%0A%20%20%20%20%20%20%20%20%22tms%22%3A%20false%0A%7D%29.addTo%28map_bdf1803e906c4d2c8345d3025efc7ee8%29%3B%0A%20%20%20%20var%20tile_layer_9fcca3ef732b49559fb4c0a3dce8d47b%20%3D%20L.tileLayer%28%0A%20%20%20%20%20%20%20%20%27https%3A//earthengine.googleapis.com/v1alpha/projects/earthengine-legacy/maps/976914ff8b825a1c479d8accfe37e1d9-f38830ff5bf80fa934d94d9f39478c11/tiles/%7Bz%7D/%7Bx%7D/%7By%7D%27%2C%0A%20%20%20%20%20%20%20%20%7B%0A%20%20%20%20%20%20%20%20%22attribution%22%3A%20%22Map%20Data%20%26copy%3B%20%3Ca%20href%3D%5C%22https%3A//earthengine.google.com/%5C%22%3EGoogle%20Earth%20Engine%3C/a%3E%22%2C%0A%20%20%20%20%20%20%20%20%22detectRetina%22%3A%20false%2C%0A%20%20%20%20%20%20%20%20%22maxNativeZoom%22%3A%2018%2C%0A%20%20%20%20%20%20%20%20%22maxZoom%22%3A%2018%2C%0A%20%20%20%20%20%20%20%20%22minZoom%22%3A%200%2C%0A%20%20%20%20%20%20%20%20%22noWrap%22%3A%20false%2C%0A%20%20%20%20%20%20%20%20%22opacity%22%3A%201%2C%0A%20%20%20%20%20%20%20%20%22subdomains%22%3A%20%22abc%22%2C%0A%20%20%20%20%20%20%20%20%22tms%22%3A%20false%0A%7D%29.addTo%28map_bdf1803e906c4d2c8345d3025efc7ee8%29%3B%0A%20%20%20%20var%20tile_layer_51bf160a57bf41b79ee356c65bdb5411%20%3D%20L.tileLayer%28%0A%20%20%20%20%20%20%20%20%27https%3A//earthengine.googleapis.com/v1alpha/projects/earthengine-legacy/maps/3d43bee9fdcea5148a6598cb0b835ff3-fc7f348f2464a3e3d6db46700d7339cb/tiles/%7Bz%7D/%7Bx%7D/%7By%7D%27%2C%0A%20%20%20%20%20%20%20%20%7B%0A%20%20%20%20%20%20%20%20%22attribution%22%3A%20%22Map%20Data%20%26copy%3B%20%3Ca%20href%3D%5C%22https%3A//earthengine.google.com/%5C%22%3EGoogle%20Earth%20Engine%3C/a%3E%22%2C%0A%20%20%20%20%20%20%20%20%22detectRetina%22%3A%20false%2C%0A%20%20%20%20%20%20%20%20%22maxNativeZoom%22%3A%2018%2C%0A%20%20%20%20%20%20%20%20%22maxZoom%22%3A%2018%2C%0A%20%20%20%20%20%20%20%20%22minZoom%22%3A%200%2C%0A%20%20%20%20%20%20%20%20%22noWrap%22%3A%20false%2C%0A%20%20%20%20%20%20%20%20%22opacity%22%3A%201%2C%0A%20%20%20%20%20%20%20%20%22subdomains%22%3A%20%22abc%22%2C%0A%20%20%20%20%20%20%20%20%22tms%22%3A%20false%0A%7D%29.addTo%28map_bdf1803e906c4d2c8345d3025efc7ee8%29%3B%0A%20%20%20%20var%20tile_layer_fcf0cfa8490a43f392b2a5e7a7d0500e%20%3D%20L.tileLayer%28%0A%20%20%20%20%20%20%20%20%27https%3A//earthengine.googleapis.com/v1alpha/projects/earthengine-legacy/maps/0590337a3c420bee98818c206b03ff6e-50db218374e44a29bd1c8afd3e203ce8/tiles/%7Bz%7D/%7Bx%7D/%7By%7D%27%2C%0A%20%20%20%20%20%20%20%20%7B%0A%20%20%20%20%20%20%20%20%22attribution%22%3A%20%22Map%20Data%20%26copy%3B%20%3Ca%20href%3D%5C%22https%3A//earthengine.google.com/%5C%22%3EGoogle%20Earth%20Engine%3C/a%3E%22%2C%0A%20%20%20%20%20%20%20%20%22detectRetina%22%3A%20false%2C%0A%20%20%20%20%20%20%20%20%22maxNativeZoom%22%3A%2018%2C%0A%20%20%20%20%20%20%20%20%22maxZoom%22%3A%2018%2C%0A%20%20%20%20%20%20%20%20%22minZoom%22%3A%200%2C%0A%20%20%20%20%20%20%20%20%22noWrap%22%3A%20false%2C%0A%20%20%20%20%20%20%20%20%22opacity%22%3A%201%2C%0A%20%20%20%20%20%20%20%20%22subdomains%22%3A%20%22abc%22%2C%0A%20%20%20%20%20%20%20%20%22tms%22%3A%20false%0A%7D%29.addTo%28map_bdf1803e906c4d2c8345d3025efc7ee8%29%3B%0A%20%20%20%20%0A%20%20%20%20%20%20%20%20%20%20%20%20var%20layer_control_dc0b1b2a651f422296df07b4d3eaae98%20%3D%20%7B%0A%20%20%20%20%20%20%20%20%20%20%20%20%20%20%20%20base_layers%20%3A%20%7B%20%22openstreetmap%22%20%3A%20tile_layer_cd8f73540a984eafb91ac02d9a3df10c%2C%20%7D%2C%0A%20%20%20%20%20%20%20%20%20%20%20%20%20%20%20%20overlays%20%3A%20%7B%20%22cmap%22%20%3A%20tile_layer_9fcca3ef732b49559fb4c0a3dce8d47b%2C%22smap%22%20%3A%20tile_layer_51bf160a57bf41b79ee356c65bdb5411%2C%22fmap%22%20%3A%20tile_layer_fcf0cfa8490a43f392b2a5e7a7d0500e%2C%20%7D%0A%20%20%20%20%20%20%20%20%20%20%20%20%20%20%20%20%7D%3B%0A%20%20%20%20%20%20%20%20%20%20%20%20L.control.layers%28%0A%20%20%20%20%20%20%20%20%20%20%20%20%20%20%20%20layer_control_dc0b1b2a651f422296df07b4d3eaae98.base_layers%2C%0A%20%20%20%20%20%20%20%20%20%20%20%20%20%20%20%20layer_control_dc0b1b2a651f422296df07b4d3eaae98.overlays%2C%0A%20%20%20%20%20%20%20%20%20%20%20%20%20%20%20%20%7Bposition%3A%20%27topright%27%2C%0A%20%20%20%20%20%20%20%20%20%20%20%20%20%20%20%20%20collapsed%3A%20true%2C%0A%20%20%20%20%20%20%20%20%20%20%20%20%20%20%20%20%20autoZIndex%3A%20true%0A%20%20%20%20%20%20%20%20%20%20%20%20%20%20%20%20%7D%29.addTo%28map_bdf1803e906c4d2c8345d3025efc7ee8%29%3B%0A%20%20%20%20%20%20%20%20%20%20%20%20%0A%20%20%20%20%20%20%20%20%0A%3C/script%3E onload=\"this.contentDocument.open();this.contentDocument.write(    decodeURIComponent(this.getAttribute('data-html')));this.contentDocument.close();\" allowfullscreen webkitallowfullscreen mozallowfullscreen></iframe></div></div>"
            ],
            "text/plain": [
              "<folium.folium.Map at 0x7fd2841846d0>"
            ]
          },
          "metadata": {
            "tags": []
          },
          "execution_count": 20
        }
      ]
    },
    {
      "cell_type": "markdown",
      "metadata": {
        "id": "3Lq1VHnoI23L"
      },
      "source": [
        "#### Post-processing: The Loewner order\n",
        "\n",
        "The above change maps are still difficult to interpret. But what about _bmap_, the map of changes detected in each interval? Before we look at them it makes sense to include the direction of change, i.e., the [Loewner order](https://ieeexplore.ieee.org/document/8736751), see [Part 2](https://developers.google.com/earth-engine/tutorials/community/detecting-changes-in-sentinel-1-imagery-pt-2#change_direction_the_loewner_order). In the event of significant change at time $j$, we can simply determine the positive or negative definiteness (or indefiniteness) of the difference between consecutive covariance matrix pixels\n",
        "\n",
        "$$\n",
        "c_j-c_{j-1},\\quad j = 2,\\dots,k,\n",
        "$$\n",
        "\n",
        "to get the change direction. But we can do better. Instead of subtracting the value for the preceding image, $c_{j-1}$, we can subtract the average over all values up to and including time $j-1$ for which no change has been signalled. For example for $k=5$, suppose there are significant changes in the first and fourth (last) interval. Then to get their directions we examine the differences\n",
        "\n",
        "$$\n",
        "c_2-c_1\\quad{\\rm and}\\quad c_5 - (c_2+c_3+c_4)/3.\n",
        "$$\n",
        "\n",
        "The running averages can be conveniently determined with the so-called _provisional means algorithm_. The average $\\bar c_i$ of the first $i$ images is calculated recursively as\n",
        "\n",
        "$$\n",
        "\\begin{align*}\n",
        "\\bar c_i &= \\bar c_{i-1} + (c_i - \\bar c_{i-1})/i \\cr\n",
        "\\bar c_1 &= c_1.\n",
        "\\end{align*}\n",
        "$$\n",
        "\n",
        "The function _dmap\\_iter_ below is iterated over the bands of _bmap_, replacing the values for changed pixels with\n",
        "\n",
        "- 1 for positive definite differences,\n",
        "- 2 for negative definite differences,\n",
        "- 3 for indefinite differences."
      ]
    },
    {
      "cell_type": "code",
      "metadata": {
        "id": "aG9UoPHH29tk"
      },
      "source": [
        "def dmap_iter(current, prev):\n",
        "    \"\"\"Reclassifies values in directional change maps.\"\"\"\n",
        "    prev = ee.Dictionary(prev)\n",
        "    j = ee.Number(prev.get('j'))\n",
        "    image = ee.Image(current)\n",
        "    avimg = ee.Image(prev.get('avimg'))\n",
        "    diff = image.subtract(avimg)\n",
        "    # Get positive/negative definiteness.\n",
        "    posd = ee.Image(diff.select(0).gt(0).And(det(diff).gt(0)))\n",
        "    negd = ee.Image(diff.select(0).lt(0).And(det(diff).gt(0)))\n",
        "    bmap = ee.Image(prev.get('bmap'))\n",
        "    bmapj = bmap.select(j)\n",
        "    dmap = ee.Image.constant(ee.List.sequence(1, 3))\n",
        "    bmapj = bmapj.where(bmapj, dmap.select(2))\n",
        "    bmapj = bmapj.where(bmapj.And(posd), dmap.select(0))\n",
        "    bmapj = bmapj.where(bmapj.And(negd), dmap.select(1))\n",
        "    bmap = bmap.addBands(bmapj, overwrite=True)\n",
        "    # Update avimg with provisional means.\n",
        "    i = ee.Image(prev.get('i')).add(1)\n",
        "    avimg = avimg.add(image.subtract(avimg).divide(i))\n",
        "    # Reset avimg to current image and set i=1 if change occurred.\n",
        "    avimg = avimg.where(bmapj, image)\n",
        "    i = i.where(bmapj, 1)\n",
        "    return ee.Dictionary({'avimg': avimg, 'bmap': bmap, 'j': j.add(1), 'i': i})"
      ],
      "execution_count": null,
      "outputs": []
    },
    {
      "cell_type": "markdown",
      "metadata": {
        "id": "s7h1GuQ79-jH"
      },
      "source": [
        "We only have to modify the _change\\_maps_ function to include the change direction in the _bmap_ image:"
      ]
    },
    {
      "cell_type": "code",
      "metadata": {
        "id": "CF3-_d6M5JGf"
      },
      "source": [
        "def change_maps(im_list, median=False, alpha=0.01):\n",
        "    \"\"\"Calculates thematic change maps.\"\"\"\n",
        "    k = im_list.length()\n",
        "    # Pre-calculate the P value array.\n",
        "    pv_arr = ee.List(p_values(im_list))\n",
        "    # Filter P values for change maps.\n",
        "    cmap = ee.Image(im_list.get(0)).select(0).multiply(0)\n",
        "    bmap = ee.Image.constant(ee.List.repeat(0,k.subtract(1))).add(cmap)\n",
        "    alpha = ee.Image.constant(alpha)\n",
        "    first = ee.Dictionary({'i': 1, 'alpha': alpha, 'median': median,\n",
        "                           'cmap': cmap, 'smap': cmap, 'fmap': cmap, 'bmap': bmap})\n",
        "    result = ee.Dictionary(pv_arr.iterate(filter_i, first))\n",
        "    # Post-process bmap for change direction.\n",
        "    bmap =  ee.Image(result.get('bmap'))\n",
        "    avimg = ee.Image(im_list.get(0))\n",
        "    j = ee.Number(0)\n",
        "    i = ee.Image.constant(1)\n",
        "    first = ee.Dictionary({'avimg': avimg, 'bmap': bmap, 'j': j, 'i': i})\n",
        "    dmap = ee.Dictionary(im_list.slice(1).iterate(dmap_iter, first)).get('bmap')\n",
        "    return ee.Dictionary(result.set('bmap', dmap))"
      ],
      "execution_count": null,
      "outputs": []
    },
    {
      "cell_type": "markdown",
      "metadata": {
        "id": "ZL3TPfxXdFaQ"
      },
      "source": [
        "Because of the long delays when the zoom level is changed, it is a lot more convenient to export the change maps to GEE Assets and then examine them, either here in Colab or in the Code Editor. This also means the maps will be shown at the correct scale, irrespective of the zoom level. Here I export all of the change maps as a single image."
      ]
    },
    {
      "cell_type": "code",
      "metadata": {
        "id": "wsSpbk74RViE"
      },
      "source": [
        "# Run the algorithm with median filter and at 1% significance.\n",
        "result = ee.Dictionary(change_maps(im_list, median=True, alpha=0.01))\n",
        "# Extract the change maps and export to assets.\n",
        "cmap = ee.Image(result.get('cmap'))\n",
        "smap = ee.Image(result.get('smap'))\n",
        "fmap = ee.Image(result.get('fmap'))\n",
        "bmap = ee.Image(result.get('bmap'))\n",
        "cmaps = ee.Image.cat(cmap, smap, fmap, bmap).rename(['cmap', 'smap', 'fmap']+timestamplist[1:])\n",
        "\n",
        "# EDIT THE ASSET PATH TO POINT TO YOUR ACCOUNT.\n",
        "assetId = 'users/YOUR_USER_NAME/cmaps'\n",
        "\n",
        "assexport = ee.batch.Export.image.toAsset(cmaps,\n",
        "                                          description='assetExportTask',\n",
        "                                          assetId=assetId, scale=10, maxPixels=1e9)\n",
        "\n",
        "# UNCOMMENT THIS TO EXPORT THE MAP TO YOUR ACCOUNT.\n",
        "#assexport.start()"
      ],
      "execution_count": null,
      "outputs": []
    },
    {
      "cell_type": "markdown",
      "metadata": {
        "id": "8eBeTB6sQMbd"
      },
      "source": [
        "The asset  _cmaps_ is shared so we can all access it:"
      ]
    },
    {
      "cell_type": "code",
      "metadata": {
        "id": "qseBmVOH7xPg",
        "colab": {
          "base_uri": "https://localhost:8080/",
          "height": 763
        },
        "outputId": "dda00df2-96fa-45db-f3e1-cd5fcd4e952b"
      },
      "source": [
        "cmaps = ee.Image('projects/earthengine-community/tutorials/detecting-changes-in-sentinel-1-imagery-pt-3/cmaps')\n",
        "cmaps = cmaps.updateMask(cmaps.gt(0))\n",
        "\n",
        "location = aoi.centroid().coordinates().getInfo()[::-1]\n",
        "palette = ['black', 'red', 'cyan', 'yellow']\n",
        "mp = folium.Map(location=location, zoom_start=13)\n",
        "\n",
        "mp.add_ee_layer(cmaps.select('T20191107'), {'min': 0,'max': 3, 'palette': palette}, 'T20191107')\n",
        "mp.add_ee_layer(cmaps.select('T20191113'), {'min': 0,'max': 3, 'palette': palette}, 'T20191113')\n",
        "mp.add_ee_layer(cmaps.select('T20191119'), {'min': 0,'max': 3, 'palette': palette}, 'T20191119')\n",
        "mp.add_ee_layer(cmaps.select('T20191125'), {'min': 0,'max': 3, 'palette': palette}, 'T20191125')\n",
        "mp.add_ee_layer(cmaps.select('T20191201'), {'min': 0,'max': 3, 'palette': palette}, 'T20191201')\n",
        "mp.add_ee_layer(cmaps.select('T20191207'), {'min': 0,'max': 3, 'palette': palette}, 'T20191207')\n",
        "\n",
        "mp.add_child(folium.LayerControl())"
      ],
      "execution_count": null,
      "outputs": [
        {
          "output_type": "execute_result",
          "data": {
            "text/html": [
              "<div style=\"width:100%;\"><div style=\"position:relative;width:100%;height:0;padding-bottom:60%;\"><span style=\"color:#565656\">Make this Notebook Trusted to load map: File -> Trust Notebook</span><iframe src=\"about:blank\" style=\"position:absolute;width:100%;height:100%;left:0;top:0;border:none !important;\" data-html=%3C%21DOCTYPE%20html%3E%0A%3Chead%3E%20%20%20%20%0A%20%20%20%20%3Cmeta%20http-equiv%3D%22content-type%22%20content%3D%22text/html%3B%20charset%3DUTF-8%22%20/%3E%0A%20%20%20%20%3Cscript%3EL_PREFER_CANVAS%3Dfalse%3B%20L_NO_TOUCH%3Dfalse%3B%20L_DISABLE_3D%3Dfalse%3B%3C/script%3E%0A%20%20%20%20%3Cscript%20src%3D%22https%3A//cdn.jsdelivr.net/npm/leaflet%401.4.0/dist/leaflet.js%22%3E%3C/script%3E%0A%20%20%20%20%3Cscript%20src%3D%22https%3A//code.jquery.com/jquery-1.12.4.min.js%22%3E%3C/script%3E%0A%20%20%20%20%3Cscript%20src%3D%22https%3A//maxcdn.bootstrapcdn.com/bootstrap/3.2.0/js/bootstrap.min.js%22%3E%3C/script%3E%0A%20%20%20%20%3Cscript%20src%3D%22https%3A//cdnjs.cloudflare.com/ajax/libs/Leaflet.awesome-markers/2.0.2/leaflet.awesome-markers.js%22%3E%3C/script%3E%0A%20%20%20%20%3Clink%20rel%3D%22stylesheet%22%20href%3D%22https%3A//cdn.jsdelivr.net/npm/leaflet%401.4.0/dist/leaflet.css%22/%3E%0A%20%20%20%20%3Clink%20rel%3D%22stylesheet%22%20href%3D%22https%3A//maxcdn.bootstrapcdn.com/bootstrap/3.2.0/css/bootstrap.min.css%22/%3E%0A%20%20%20%20%3Clink%20rel%3D%22stylesheet%22%20href%3D%22https%3A//maxcdn.bootstrapcdn.com/bootstrap/3.2.0/css/bootstrap-theme.min.css%22/%3E%0A%20%20%20%20%3Clink%20rel%3D%22stylesheet%22%20href%3D%22https%3A//maxcdn.bootstrapcdn.com/font-awesome/4.6.3/css/font-awesome.min.css%22/%3E%0A%20%20%20%20%3Clink%20rel%3D%22stylesheet%22%20href%3D%22https%3A//cdnjs.cloudflare.com/ajax/libs/Leaflet.awesome-markers/2.0.2/leaflet.awesome-markers.css%22/%3E%0A%20%20%20%20%3Clink%20rel%3D%22stylesheet%22%20href%3D%22https%3A//rawcdn.githack.com/python-visualization/folium/master/folium/templates/leaflet.awesome.rotate.css%22/%3E%0A%20%20%20%20%3Cstyle%3Ehtml%2C%20body%20%7Bwidth%3A%20100%25%3Bheight%3A%20100%25%3Bmargin%3A%200%3Bpadding%3A%200%3B%7D%3C/style%3E%0A%20%20%20%20%3Cstyle%3E%23map%20%7Bposition%3Aabsolute%3Btop%3A0%3Bbottom%3A0%3Bright%3A0%3Bleft%3A0%3B%7D%3C/style%3E%0A%20%20%20%20%0A%20%20%20%20%3Cmeta%20name%3D%22viewport%22%20content%3D%22width%3Ddevice-width%2C%0A%20%20%20%20%20%20%20%20initial-scale%3D1.0%2C%20maximum-scale%3D1.0%2C%20user-scalable%3Dno%22%20/%3E%0A%20%20%20%20%3Cstyle%3E%23map_f33f4ff8107e48c78b338dad243dca59%20%7B%0A%20%20%20%20%20%20%20%20position%3A%20relative%3B%0A%20%20%20%20%20%20%20%20width%3A%20100.0%25%3B%0A%20%20%20%20%20%20%20%20height%3A%20100.0%25%3B%0A%20%20%20%20%20%20%20%20left%3A%200.0%25%3B%0A%20%20%20%20%20%20%20%20top%3A%200.0%25%3B%0A%20%20%20%20%20%20%20%20%7D%0A%20%20%20%20%3C/style%3E%0A%3C/head%3E%0A%3Cbody%3E%20%20%20%20%0A%20%20%20%20%0A%20%20%20%20%3Cdiv%20class%3D%22folium-map%22%20id%3D%22map_f33f4ff8107e48c78b338dad243dca59%22%20%3E%3C/div%3E%0A%3C/body%3E%0A%3Cscript%3E%20%20%20%20%0A%20%20%20%20%0A%20%20%20%20%0A%20%20%20%20%20%20%20%20var%20bounds%20%3D%20null%3B%0A%20%20%20%20%0A%0A%20%20%20%20var%20map_f33f4ff8107e48c78b338dad243dca59%20%3D%20L.map%28%0A%20%20%20%20%20%20%20%20%27map_f33f4ff8107e48c78b338dad243dca59%27%2C%20%7B%0A%20%20%20%20%20%20%20%20center%3A%20%5B53.58821484420569%2C%20-1.0708236694338455%5D%2C%0A%20%20%20%20%20%20%20%20zoom%3A%2013%2C%0A%20%20%20%20%20%20%20%20maxBounds%3A%20bounds%2C%0A%20%20%20%20%20%20%20%20layers%3A%20%5B%5D%2C%0A%20%20%20%20%20%20%20%20worldCopyJump%3A%20false%2C%0A%20%20%20%20%20%20%20%20crs%3A%20L.CRS.EPSG3857%2C%0A%20%20%20%20%20%20%20%20zoomControl%3A%20true%2C%0A%20%20%20%20%20%20%20%20%7D%29%3B%0A%0A%0A%20%20%20%20%0A%20%20%20%20var%20tile_layer_95136d69d35f439fbd22a12e7b682d0f%20%3D%20L.tileLayer%28%0A%20%20%20%20%20%20%20%20%27https%3A//%7Bs%7D.tile.openstreetmap.org/%7Bz%7D/%7Bx%7D/%7By%7D.png%27%2C%0A%20%20%20%20%20%20%20%20%7B%0A%20%20%20%20%20%20%20%20%22attribution%22%3A%20null%2C%0A%20%20%20%20%20%20%20%20%22detectRetina%22%3A%20false%2C%0A%20%20%20%20%20%20%20%20%22maxNativeZoom%22%3A%2018%2C%0A%20%20%20%20%20%20%20%20%22maxZoom%22%3A%2018%2C%0A%20%20%20%20%20%20%20%20%22minZoom%22%3A%200%2C%0A%20%20%20%20%20%20%20%20%22noWrap%22%3A%20false%2C%0A%20%20%20%20%20%20%20%20%22opacity%22%3A%201%2C%0A%20%20%20%20%20%20%20%20%22subdomains%22%3A%20%22abc%22%2C%0A%20%20%20%20%20%20%20%20%22tms%22%3A%20false%0A%7D%29.addTo%28map_f33f4ff8107e48c78b338dad243dca59%29%3B%0A%20%20%20%20var%20tile_layer_1bc143e3ee8f4e1cb46f3845ab3a7606%20%3D%20L.tileLayer%28%0A%20%20%20%20%20%20%20%20%27https%3A//earthengine.googleapis.com/v1alpha/projects/earthengine-legacy/maps/fd61d49c470f7f7c857fb3cf0f6be19d-e23ca407cff24ac13bce4ece41bc025a/tiles/%7Bz%7D/%7Bx%7D/%7By%7D%27%2C%0A%20%20%20%20%20%20%20%20%7B%0A%20%20%20%20%20%20%20%20%22attribution%22%3A%20%22Map%20Data%20%26copy%3B%20%3Ca%20href%3D%5C%22https%3A//earthengine.google.com/%5C%22%3EGoogle%20Earth%20Engine%3C/a%3E%22%2C%0A%20%20%20%20%20%20%20%20%22detectRetina%22%3A%20false%2C%0A%20%20%20%20%20%20%20%20%22maxNativeZoom%22%3A%2018%2C%0A%20%20%20%20%20%20%20%20%22maxZoom%22%3A%2018%2C%0A%20%20%20%20%20%20%20%20%22minZoom%22%3A%200%2C%0A%20%20%20%20%20%20%20%20%22noWrap%22%3A%20false%2C%0A%20%20%20%20%20%20%20%20%22opacity%22%3A%201%2C%0A%20%20%20%20%20%20%20%20%22subdomains%22%3A%20%22abc%22%2C%0A%20%20%20%20%20%20%20%20%22tms%22%3A%20false%0A%7D%29.addTo%28map_f33f4ff8107e48c78b338dad243dca59%29%3B%0A%20%20%20%20var%20tile_layer_fe413d233f854f8eaa72f919a6ffd3b7%20%3D%20L.tileLayer%28%0A%20%20%20%20%20%20%20%20%27https%3A//earthengine.googleapis.com/v1alpha/projects/earthengine-legacy/maps/fa241b84b388806abf9b4075546e85ff-f48ddd63480a9b15ba04c5ef2528c12a/tiles/%7Bz%7D/%7Bx%7D/%7By%7D%27%2C%0A%20%20%20%20%20%20%20%20%7B%0A%20%20%20%20%20%20%20%20%22attribution%22%3A%20%22Map%20Data%20%26copy%3B%20%3Ca%20href%3D%5C%22https%3A//earthengine.google.com/%5C%22%3EGoogle%20Earth%20Engine%3C/a%3E%22%2C%0A%20%20%20%20%20%20%20%20%22detectRetina%22%3A%20false%2C%0A%20%20%20%20%20%20%20%20%22maxNativeZoom%22%3A%2018%2C%0A%20%20%20%20%20%20%20%20%22maxZoom%22%3A%2018%2C%0A%20%20%20%20%20%20%20%20%22minZoom%22%3A%200%2C%0A%20%20%20%20%20%20%20%20%22noWrap%22%3A%20false%2C%0A%20%20%20%20%20%20%20%20%22opacity%22%3A%201%2C%0A%20%20%20%20%20%20%20%20%22subdomains%22%3A%20%22abc%22%2C%0A%20%20%20%20%20%20%20%20%22tms%22%3A%20false%0A%7D%29.addTo%28map_f33f4ff8107e48c78b338dad243dca59%29%3B%0A%20%20%20%20var%20tile_layer_b41c5a032fd3468089d1fd95945ee372%20%3D%20L.tileLayer%28%0A%20%20%20%20%20%20%20%20%27https%3A//earthengine.googleapis.com/v1alpha/projects/earthengine-legacy/maps/685cf0bfad757452d740cbb467873b28-807cace139ed9cd9d280a2362fafad0b/tiles/%7Bz%7D/%7Bx%7D/%7By%7D%27%2C%0A%20%20%20%20%20%20%20%20%7B%0A%20%20%20%20%20%20%20%20%22attribution%22%3A%20%22Map%20Data%20%26copy%3B%20%3Ca%20href%3D%5C%22https%3A//earthengine.google.com/%5C%22%3EGoogle%20Earth%20Engine%3C/a%3E%22%2C%0A%20%20%20%20%20%20%20%20%22detectRetina%22%3A%20false%2C%0A%20%20%20%20%20%20%20%20%22maxNativeZoom%22%3A%2018%2C%0A%20%20%20%20%20%20%20%20%22maxZoom%22%3A%2018%2C%0A%20%20%20%20%20%20%20%20%22minZoom%22%3A%200%2C%0A%20%20%20%20%20%20%20%20%22noWrap%22%3A%20false%2C%0A%20%20%20%20%20%20%20%20%22opacity%22%3A%201%2C%0A%20%20%20%20%20%20%20%20%22subdomains%22%3A%20%22abc%22%2C%0A%20%20%20%20%20%20%20%20%22tms%22%3A%20false%0A%7D%29.addTo%28map_f33f4ff8107e48c78b338dad243dca59%29%3B%0A%20%20%20%20var%20tile_layer_a7206e8a64934db6ae1d09470a0abce0%20%3D%20L.tileLayer%28%0A%20%20%20%20%20%20%20%20%27https%3A//earthengine.googleapis.com/v1alpha/projects/earthengine-legacy/maps/945ba2cd10dd9f63e2ea4f43422ae0dc-d4def09ca2442f1d97c9bc488dca6d85/tiles/%7Bz%7D/%7Bx%7D/%7By%7D%27%2C%0A%20%20%20%20%20%20%20%20%7B%0A%20%20%20%20%20%20%20%20%22attribution%22%3A%20%22Map%20Data%20%26copy%3B%20%3Ca%20href%3D%5C%22https%3A//earthengine.google.com/%5C%22%3EGoogle%20Earth%20Engine%3C/a%3E%22%2C%0A%20%20%20%20%20%20%20%20%22detectRetina%22%3A%20false%2C%0A%20%20%20%20%20%20%20%20%22maxNativeZoom%22%3A%2018%2C%0A%20%20%20%20%20%20%20%20%22maxZoom%22%3A%2018%2C%0A%20%20%20%20%20%20%20%20%22minZoom%22%3A%200%2C%0A%20%20%20%20%20%20%20%20%22noWrap%22%3A%20false%2C%0A%20%20%20%20%20%20%20%20%22opacity%22%3A%201%2C%0A%20%20%20%20%20%20%20%20%22subdomains%22%3A%20%22abc%22%2C%0A%20%20%20%20%20%20%20%20%22tms%22%3A%20false%0A%7D%29.addTo%28map_f33f4ff8107e48c78b338dad243dca59%29%3B%0A%20%20%20%20var%20tile_layer_7de5e488a46b4a268519b427679f1c35%20%3D%20L.tileLayer%28%0A%20%20%20%20%20%20%20%20%27https%3A//earthengine.googleapis.com/v1alpha/projects/earthengine-legacy/maps/5c8c5cd427a3fa3482e4019a7b71f373-952ddb3f60de5a5d5a98df80a35e9b75/tiles/%7Bz%7D/%7Bx%7D/%7By%7D%27%2C%0A%20%20%20%20%20%20%20%20%7B%0A%20%20%20%20%20%20%20%20%22attribution%22%3A%20%22Map%20Data%20%26copy%3B%20%3Ca%20href%3D%5C%22https%3A//earthengine.google.com/%5C%22%3EGoogle%20Earth%20Engine%3C/a%3E%22%2C%0A%20%20%20%20%20%20%20%20%22detectRetina%22%3A%20false%2C%0A%20%20%20%20%20%20%20%20%22maxNativeZoom%22%3A%2018%2C%0A%20%20%20%20%20%20%20%20%22maxZoom%22%3A%2018%2C%0A%20%20%20%20%20%20%20%20%22minZoom%22%3A%200%2C%0A%20%20%20%20%20%20%20%20%22noWrap%22%3A%20false%2C%0A%20%20%20%20%20%20%20%20%22opacity%22%3A%201%2C%0A%20%20%20%20%20%20%20%20%22subdomains%22%3A%20%22abc%22%2C%0A%20%20%20%20%20%20%20%20%22tms%22%3A%20false%0A%7D%29.addTo%28map_f33f4ff8107e48c78b338dad243dca59%29%3B%0A%20%20%20%20var%20tile_layer_0c32726cef8948509fe049020bd6c34d%20%3D%20L.tileLayer%28%0A%20%20%20%20%20%20%20%20%27https%3A//earthengine.googleapis.com/v1alpha/projects/earthengine-legacy/maps/ab1b705bec14ef02cb0b0011ff0b1a9c-d1b37e9ac2d73cb38389d56e2d47bcc7/tiles/%7Bz%7D/%7Bx%7D/%7By%7D%27%2C%0A%20%20%20%20%20%20%20%20%7B%0A%20%20%20%20%20%20%20%20%22attribution%22%3A%20%22Map%20Data%20%26copy%3B%20%3Ca%20href%3D%5C%22https%3A//earthengine.google.com/%5C%22%3EGoogle%20Earth%20Engine%3C/a%3E%22%2C%0A%20%20%20%20%20%20%20%20%22detectRetina%22%3A%20false%2C%0A%20%20%20%20%20%20%20%20%22maxNativeZoom%22%3A%2018%2C%0A%20%20%20%20%20%20%20%20%22maxZoom%22%3A%2018%2C%0A%20%20%20%20%20%20%20%20%22minZoom%22%3A%200%2C%0A%20%20%20%20%20%20%20%20%22noWrap%22%3A%20false%2C%0A%20%20%20%20%20%20%20%20%22opacity%22%3A%201%2C%0A%20%20%20%20%20%20%20%20%22subdomains%22%3A%20%22abc%22%2C%0A%20%20%20%20%20%20%20%20%22tms%22%3A%20false%0A%7D%29.addTo%28map_f33f4ff8107e48c78b338dad243dca59%29%3B%0A%20%20%20%20%0A%20%20%20%20%20%20%20%20%20%20%20%20var%20layer_control_c3a116b7829f4901a6ca1f15b714a361%20%3D%20%7B%0A%20%20%20%20%20%20%20%20%20%20%20%20%20%20%20%20base_layers%20%3A%20%7B%20%22openstreetmap%22%20%3A%20tile_layer_95136d69d35f439fbd22a12e7b682d0f%2C%20%7D%2C%0A%20%20%20%20%20%20%20%20%20%20%20%20%20%20%20%20overlays%20%3A%20%7B%20%22T20191107%22%20%3A%20tile_layer_1bc143e3ee8f4e1cb46f3845ab3a7606%2C%22T20191113%22%20%3A%20tile_layer_fe413d233f854f8eaa72f919a6ffd3b7%2C%22T20191119%22%20%3A%20tile_layer_b41c5a032fd3468089d1fd95945ee372%2C%22T20191125%22%20%3A%20tile_layer_a7206e8a64934db6ae1d09470a0abce0%2C%22T20191201%22%20%3A%20tile_layer_7de5e488a46b4a268519b427679f1c35%2C%22T20191207%22%20%3A%20tile_layer_0c32726cef8948509fe049020bd6c34d%2C%20%7D%0A%20%20%20%20%20%20%20%20%20%20%20%20%20%20%20%20%7D%3B%0A%20%20%20%20%20%20%20%20%20%20%20%20L.control.layers%28%0A%20%20%20%20%20%20%20%20%20%20%20%20%20%20%20%20layer_control_c3a116b7829f4901a6ca1f15b714a361.base_layers%2C%0A%20%20%20%20%20%20%20%20%20%20%20%20%20%20%20%20layer_control_c3a116b7829f4901a6ca1f15b714a361.overlays%2C%0A%20%20%20%20%20%20%20%20%20%20%20%20%20%20%20%20%7Bposition%3A%20%27topright%27%2C%0A%20%20%20%20%20%20%20%20%20%20%20%20%20%20%20%20%20collapsed%3A%20true%2C%0A%20%20%20%20%20%20%20%20%20%20%20%20%20%20%20%20%20autoZIndex%3A%20true%0A%20%20%20%20%20%20%20%20%20%20%20%20%20%20%20%20%7D%29.addTo%28map_f33f4ff8107e48c78b338dad243dca59%29%3B%0A%20%20%20%20%20%20%20%20%20%20%20%20%0A%20%20%20%20%20%20%20%20%0A%3C/script%3E onload=\"this.contentDocument.open();this.contentDocument.write(    decodeURIComponent(this.getAttribute('data-html')));this.contentDocument.close();\" allowfullscreen webkitallowfullscreen mozallowfullscreen></iframe></div></div>"
            ],
            "text/plain": [
              "<folium.folium.Map at 0x7fd27c175210>"
            ]
          },
          "metadata": {
            "tags": []
          },
          "execution_count": 25
        }
      ]
    },
    {
      "cell_type": "markdown",
      "metadata": {
        "id": "WFuLna6zQ_zt"
      },
      "source": [
        "Now interpretation is somewhat easier. The negative definite (cyan) changes which appear between Nov. 7 and Nov. 13 correspond to decreases in intensity of _VV_ and _VH_ reflectance and are due to wide-spread flooding. The positive definite changes (red), which gradually overlay the flooded areas in subsequent intervals, correspond to receding flood waters."
      ]
    },
    {
      "cell_type": "markdown",
      "metadata": {
        "id": "-WhBsXEjsZCU"
      },
      "source": [
        "### Outlook\n",
        "\n",
        "Without reliable ground truth we can't really claim that change maps of the kind we have just generated will be helpful for flood damage assessment or control, but their potential usefulness is quite obvious. In the next and final part of the Tutorial we will have a look at some more (possible) applications of sequential change detection with SAR imagery using GEE."
      ]
    }
  ]
}