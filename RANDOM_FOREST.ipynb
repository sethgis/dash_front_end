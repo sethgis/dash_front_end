{
  "nbformat": 4,
  "nbformat_minor": 0,
  "metadata": {
    "colab": {
      "name": "RANDOM_FOREST",
      "provenance": [],
      "mount_file_id": "1aCLJNT1jaKpGNSPPW6EUw2McHInMjDlR",
      "authorship_tag": "ABX9TyP2jbrLDypjmV/3GErQVjKG",
      "include_colab_link": true
    },
    "kernelspec": {
      "display_name": "Python 3",
      "name": "python3"
    },
    "language_info": {
      "name": "python"
    }
  },
  "cells": [
    {
      "cell_type": "markdown",
      "metadata": {
        "id": "view-in-github",
        "colab_type": "text"
      },
      "source": [
        "<a href=\"https://colab.research.google.com/github/sethgis/dash_front_end/blob/main/RANDOM_FOREST.ipynb\" target=\"_parent\"><img src=\"https://colab.research.google.com/assets/colab-badge.svg\" alt=\"Open In Colab\"/></a>"
      ]
    },
    {
      "cell_type": "code",
      "metadata": {
        "id": "cc5HfAaAAtUh"
      },
      "source": [
        "from osgeo import gdal, ogr, gdal_array # I/O image data\n",
        "import numpy as np # math and array handling\n",
        "import matplotlib.pyplot as plt # plot figures\n",
        "from sklearn.ensemble import RandomForestClassifier # classifier\n",
        "import pandas as pd # handling large data as table sheets\n",
        "from sklearn.metrics import classification_report, accuracy_score,confusion_matrix  # calculating measures for accuracy assessment\n",
        "\n",
        "import seaborn as sn\n",
        "\n",
        "import datetime\n",
        "\n",
        "# Tell GDAL to throw Python exceptions, and register all drivers\n",
        "gdal.UseExceptions()\n",
        "gdal.AllRegister()"
      ],
      "execution_count": null,
      "outputs": []
    },
    {
      "cell_type": "code",
      "metadata": {
        "id": "2mC67eC3Ci22"
      },
      "source": [
        "# import plotly.express as px"
      ],
      "execution_count": null,
      "outputs": []
    },
    {
      "cell_type": "code",
      "metadata": {
        "id": "COYQINjvBC8U"
      },
      "source": [
        "# define a number of trees that should be used (default = 500)\n",
        "est = 500\n",
        "\n",
        "# how many cores should be used?\n",
        "# -1 -> all available cores\n",
        "n_cores = -1\n",
        "\n",
        "# the remote sensing image you want to classify\n",
        "img_RS = '/content/drive/MyDrive/VI_20210517.tif'\n",
        "\n",
        "\n",
        "# training and validation as shape files\n",
        "validation = '/content/drive/MyDrive/CHECK.geojson'\n",
        "training = '/content/drive/MyDrive/TRAIN.geojson'\n",
        "\n"
      ],
      "execution_count": null,
      "outputs": []
    },
    {
      "cell_type": "code",
      "metadata": {
        "id": "R5elaIsfCOOS"
      },
      "source": [
        "# what is the attributes name of your classes in the shape file (field name of the classes)?\n",
        "# attribute = 'class'\n",
        "\n",
        "\n",
        "# directory, where the classification image should be saved:\n",
        "classification_image = '/content/drive/MyDrive/classificationLULC_2.tif'\n",
        "\n",
        "# directory, where the all meta results should be saved:\n",
        "# results_txt = 'R:\\\\OwnCloud\\\\WetScapes\\\\2020_04_23_HüMo\\\\results\\\\results_txt_.txt'"
      ],
      "execution_count": null,
      "outputs": []
    },
    {
      "cell_type": "code",
      "metadata": {
        "colab": {
          "base_uri": "https://localhost:8080/"
        },
        "id": "v4aEyfz0E2DN",
        "outputId": "873ea1b9-3242-47b5-ad25-b6dcd70bbb93"
      },
      "source": [
        "!pip install geopandas\n",
        "import geopandas as gpd\n"
      ],
      "execution_count": null,
      "outputs": [
        {
          "output_type": "stream",
          "name": "stdout",
          "text": [
            "Requirement already satisfied: geopandas in /usr/local/lib/python3.7/dist-packages (0.10.2)\n",
            "Requirement already satisfied: fiona>=1.8 in /usr/local/lib/python3.7/dist-packages (from geopandas) (1.8.20)\n",
            "Requirement already satisfied: pyproj>=2.2.0 in /usr/local/lib/python3.7/dist-packages (from geopandas) (3.2.1)\n",
            "Requirement already satisfied: shapely>=1.6 in /usr/local/lib/python3.7/dist-packages (from geopandas) (1.8.0)\n",
            "Requirement already satisfied: pandas>=0.25.0 in /usr/local/lib/python3.7/dist-packages (from geopandas) (1.1.5)\n",
            "Requirement already satisfied: attrs>=17 in /usr/local/lib/python3.7/dist-packages (from fiona>=1.8->geopandas) (21.2.0)\n",
            "Requirement already satisfied: click>=4.0 in /usr/local/lib/python3.7/dist-packages (from fiona>=1.8->geopandas) (7.1.2)\n",
            "Requirement already satisfied: certifi in /usr/local/lib/python3.7/dist-packages (from fiona>=1.8->geopandas) (2021.10.8)\n",
            "Requirement already satisfied: six>=1.7 in /usr/local/lib/python3.7/dist-packages (from fiona>=1.8->geopandas) (1.15.0)\n",
            "Requirement already satisfied: munch in /usr/local/lib/python3.7/dist-packages (from fiona>=1.8->geopandas) (2.5.0)\n",
            "Requirement already satisfied: setuptools in /usr/local/lib/python3.7/dist-packages (from fiona>=1.8->geopandas) (57.4.0)\n",
            "Requirement already satisfied: click-plugins>=1.0 in /usr/local/lib/python3.7/dist-packages (from fiona>=1.8->geopandas) (1.1.1)\n",
            "Requirement already satisfied: cligj>=0.5 in /usr/local/lib/python3.7/dist-packages (from fiona>=1.8->geopandas) (0.7.2)\n",
            "Requirement already satisfied: python-dateutil>=2.7.3 in /usr/local/lib/python3.7/dist-packages (from pandas>=0.25.0->geopandas) (2.8.2)\n",
            "Requirement already satisfied: numpy>=1.15.4 in /usr/local/lib/python3.7/dist-packages (from pandas>=0.25.0->geopandas) (1.19.5)\n",
            "Requirement already satisfied: pytz>=2017.2 in /usr/local/lib/python3.7/dist-packages (from pandas>=0.25.0->geopandas) (2018.9)\n"
          ]
        }
      ]
    },
    {
      "cell_type": "code",
      "metadata": {
        "colab": {
          "base_uri": "https://localhost:8080/",
          "height": 370
        },
        "id": "u-shxTQPNsfe",
        "outputId": "682b9600-8fb5-4460-eb95-e84e807eb68b"
      },
      "source": [
        "import geopandas as gpd\n",
        "shapes = gpd.read_file(training)\n",
        "list(shapes.columns.values)\n",
        "[u'dip', u'dip_dir', u'cosa', u'sina', 'geometry']\n",
        "# first features\n",
        "shapes.head(3)"
      ],
      "execution_count": null,
      "outputs": [
        {
          "output_type": "execute_result",
          "data": {
            "text/html": [
              "<div>\n",
              "<style scoped>\n",
              "    .dataframe tbody tr th:only-of-type {\n",
              "        vertical-align: middle;\n",
              "    }\n",
              "\n",
              "    .dataframe tbody tr th {\n",
              "        vertical-align: top;\n",
              "    }\n",
              "\n",
              "    .dataframe thead th {\n",
              "        text-align: right;\n",
              "    }\n",
              "</style>\n",
              "<table border=\"1\" class=\"dataframe\">\n",
              "  <thead>\n",
              "    <tr style=\"text-align: right;\">\n",
              "      <th></th>\n",
              "      <th>crop</th>\n",
              "      <th>mix</th>\n",
              "      <th>crop2</th>\n",
              "      <th>comments</th>\n",
              "      <th>LULC2020</th>\n",
              "      <th>layer</th>\n",
              "      <th>class</th>\n",
              "      <th>sample_t</th>\n",
              "      <th>lulcnum</th>\n",
              "      <th>LU_num</th>\n",
              "      <th>geometry</th>\n",
              "    </tr>\n",
              "  </thead>\n",
              "  <tbody>\n",
              "    <tr>\n",
              "      <th>0</th>\n",
              "      <td>tea</td>\n",
              "      <td>None</td>\n",
              "      <td>None</td>\n",
              "      <td>None</td>\n",
              "      <td>None</td>\n",
              "      <td>VT_kilimo_2021LR_derrick</td>\n",
              "      <td>tea</td>\n",
              "      <td>0</td>\n",
              "      <td>14</td>\n",
              "      <td>14</td>\n",
              "      <td>MULTIPOLYGON (((34.82352 0.09706, 34.82366 0.0...</td>\n",
              "    </tr>\n",
              "    <tr>\n",
              "      <th>1</th>\n",
              "      <td>tea</td>\n",
              "      <td>None</td>\n",
              "      <td>None</td>\n",
              "      <td>None</td>\n",
              "      <td>None</td>\n",
              "      <td>VT_kilimo_2021LR_derrick</td>\n",
              "      <td>tea</td>\n",
              "      <td>0</td>\n",
              "      <td>14</td>\n",
              "      <td>14</td>\n",
              "      <td>MULTIPOLYGON (((34.76869 0.09285, 34.76865 0.0...</td>\n",
              "    </tr>\n",
              "    <tr>\n",
              "      <th>2</th>\n",
              "      <td>pasture</td>\n",
              "      <td>None</td>\n",
              "      <td>None</td>\n",
              "      <td>None</td>\n",
              "      <td>None</td>\n",
              "      <td>VT_kilimo_2021LR_derrick</td>\n",
              "      <td>pasture</td>\n",
              "      <td>0</td>\n",
              "      <td>11</td>\n",
              "      <td>11</td>\n",
              "      <td>MULTIPOLYGON (((34.76115 0.07885, 34.76151 0.0...</td>\n",
              "    </tr>\n",
              "  </tbody>\n",
              "</table>\n",
              "</div>"
            ],
            "text/plain": [
              "      crop   mix  ... LU_num                                           geometry\n",
              "0      tea  None  ...     14  MULTIPOLYGON (((34.82352 0.09706, 34.82366 0.0...\n",
              "1      tea  None  ...     14  MULTIPOLYGON (((34.76869 0.09285, 34.76865 0.0...\n",
              "2  pasture  None  ...     11  MULTIPOLYGON (((34.76115 0.07885, 34.76151 0.0...\n",
              "\n",
              "[3 rows x 11 columns]"
            ]
          },
          "metadata": {},
          "execution_count": 6
        }
      ]
    },
    {
      "cell_type": "code",
      "metadata": {
        "id": "Q-J1P8rxGGro"
      },
      "source": [
        "# what is the attributes name of your classes in the shape file (field name of the classes)?\n",
        "attribute = 'LU_num'\n",
        "\n",
        "\n",
        "# directory, where the classification image should be saved:\n",
        "# classification_image = 'R:\\\\OwnCloud\\\\WetScapes\\\\2020_04_23_HüMo\\\\results\\\\HueMo2018_14bands_class_.tif'\n",
        "\n",
        "# directory, where the all meta results should be saved:\n",
        "# results_txt = 'R:\\\\OwnCloud\\\\WetScapes\\\\2020_04_23_HüMo\\\\results\\\\results_txt_.txt'"
      ],
      "execution_count": null,
      "outputs": []
    },
    {
      "cell_type": "code",
      "metadata": {
        "colab": {
          "base_uri": "https://localhost:8080/"
        },
        "id": "FPrB52NUR1DL",
        "outputId": "cfd60391-e758-4094-c575-d12f6c7cb2fa"
      },
      "source": [
        "shape_dataset = ogr.Open(training)\n",
        "shape_layer = shape_dataset.GetLayer()\n",
        "\n",
        "# extract the names of all attributes (fieldnames) in the shape file\n",
        "attributes = []\n",
        "ldefn = shape_layer.GetLayerDefn()\n",
        "for n in range(ldefn.GetFieldCount()):\n",
        "    fdefn = ldefn.GetFieldDefn(n)\n",
        "    attributes.append(fdefn.name)\n",
        "    \n",
        "# print the attributes\n",
        "print('Available attributes in the shape file are: {}'.format(attributes))"
      ],
      "execution_count": null,
      "outputs": [
        {
          "output_type": "stream",
          "name": "stdout",
          "text": [
            "Available attributes in the shape file are: ['crop', 'mix', 'crop2', 'comments', 'LULC2020', 'layer', 'class', 'sample_t', 'lulcnum', 'LU_num']\n"
          ]
        }
      ]
    },
    {
      "cell_type": "code",
      "metadata": {
        "id": "Lx0WaqyfK25m"
      },
      "source": [
        "results_txt = '/content/drive/MyDrive/RESULTS_SAVINGS.txt'"
      ],
      "execution_count": null,
      "outputs": []
    },
    {
      "cell_type": "code",
      "metadata": {
        "id": "tGUwvCsfGY0K"
      },
      "source": [
        "print('Random Forest Classification', file=open(results_txt, \"a\"))\n",
        "print('Processing: {}'.format(datetime.datetime.now()), file=open(results_txt, \"a\"))\n",
        "print('-------------------------------------------------', file=open(results_txt, \"a\"))\n",
        "print('PATHS:', file=open(results_txt, \"a\"))\n",
        "print('Image: {}'.format(img_RS), file=open(results_txt, \"a\"))\n",
        "print('Training shape: {}'.format(training) , file=open(results_txt, \"a\"))\n",
        "print('Vaildation shape: {}'.format(validation) , file=open(results_txt, \"a\"))\n",
        "print('      choosen attribute: {}'.format(attribute) , file=open(results_txt, \"a\"))\n",
        "print('Classification image: {}'.format(classification_image) , file=open(results_txt, \"a\"))\n",
        "print('Report text file: {}'.format(results_txt) , file=open(results_txt, \"a\"))\n",
        "print('-------------------------------------------------', file=open(results_txt, \"a\"))"
      ],
      "execution_count": null,
      "outputs": []
    },
    {
      "cell_type": "code",
      "metadata": {
        "id": "hEOV7wjPG0s5"
      },
      "source": [
        "from osgeo import gdal, ogr, gdal_array # I/O image data\n",
        "import numpy as np # math and array handling\n",
        "import matplotlib.pyplot as plt # plot figures\n",
        "from sklearn.ensemble import RandomForestClassifier # classifier\n",
        "import pandas as pd # handling large data as table sheets\n",
        "from sklearn.metrics import classification_report, accuracy_score,confusion_matrix  # calculating measures for accuracy assessment\n",
        "\n",
        "import seaborn as sn\n",
        "\n",
        "import datetime\n",
        "\n",
        "# Tell GDAL to throw Python exceptions, and register all drivers\n",
        "gdal.UseExceptions()\n",
        "gdal.AllRegister()"
      ],
      "execution_count": null,
      "outputs": []
    },
    {
      "cell_type": "code",
      "metadata": {
        "id": "EFdJMbtNGejz"
      },
      "source": [
        "src_ds = gdal.Open(\"/content/drive/MyDrive/VI_20210517.tif\")\n",
        "data = src_ds.ReadAsArray()\n",
        "\n"
      ],
      "execution_count": null,
      "outputs": []
    },
    {
      "cell_type": "code",
      "metadata": {
        "id": "DfxGkmFpKUok"
      },
      "source": [
        "img_ds = gdal.Open(img_RS, gdal.GA_ReadOnly)\n",
        "\n",
        "img = np.zeros((img_ds.RasterYSize, img_ds.RasterXSize, img_ds.RasterCount),\n",
        "               gdal_array.GDALTypeCodeToNumericTypeCode(img_ds.GetRasterBand(1).DataType))\n",
        "for b in range(img.shape[2]):\n",
        "    img[:, :, b] = img_ds.GetRasterBand(b + 1).ReadAsArray()"
      ],
      "execution_count": null,
      "outputs": []
    },
    {
      "cell_type": "code",
      "metadata": {
        "id": "_5BxMI6PKn-V",
        "colab": {
          "base_uri": "https://localhost:8080/"
        },
        "outputId": "2395a047-97dd-4959-fd9c-160bc316ebf2"
      },
      "source": [
        "row = img_ds.RasterYSize\n",
        "col = img_ds.RasterXSize\n",
        "band_number = img_ds.RasterCount\n",
        "\n",
        "print('Image extent: {} x {} (row x col)'.format(row, col))\n",
        "print('Number of Bands: {}'.format(band_number))\n",
        "\n",
        "\n",
        "print('Image extent: {} x {} (row x col)'.format(row, col), file=open(results_txt, \"a\"))\n",
        "print('Number of Bands: {}'.format(band_number), file=open(results_txt, \"a\"))\n",
        "print('---------------------------------------', file=open(results_txt, \"a\"))\n",
        "print('TRAINING', file=open(results_txt, \"a\"))\n",
        "print('Number of Trees: {}'.format(est), file=open(results_txt, \"a\"))"
      ],
      "execution_count": null,
      "outputs": [
        {
          "output_type": "stream",
          "name": "stdout",
          "text": [
            "Image extent: 4868 x 7493 (row x col)\n",
            "Number of Bands: 4\n"
          ]
        }
      ]
    },
    {
      "cell_type": "code",
      "metadata": {
        "id": "KesZlIewMmkx"
      },
      "source": [
        "# laod training data from shape file\n",
        "\n",
        "#model_dataset = gdal.Open(model_raster_fname)\n",
        "shape_dataset = ogr.Open(training)\n",
        "shape_layer = shape_dataset.GetLayer()\n",
        "\n",
        "mem_drv = gdal.GetDriverByName('MEM')\n",
        "mem_raster = mem_drv.Create('',img_ds.RasterXSize,img_ds.RasterYSize,1,gdal.GDT_UInt16)\n",
        "mem_raster.SetProjection(img_ds.GetProjection())\n",
        "mem_raster.SetGeoTransform(img_ds.GetGeoTransform())\n",
        "mem_band = mem_raster.GetRasterBand(1)\n",
        "mem_band.Fill(0)\n",
        "mem_band.SetNoDataValue(0)\n",
        "\n",
        "att_ = 'ATTRIBUTE='+attribute\n",
        "# http://gdal.org/gdal__alg_8h.html#adfe5e5d287d6c184aab03acbfa567cb1\n",
        "# http://gis.stackexchange.com/questions/31568/gdal-rasterizelayer-doesnt-burn-all-polygons-to-raster\n",
        "err = gdal.RasterizeLayer(mem_raster, [1], shape_layer, None, None, [1],  [att_,\"ALL_TOUCHED=TRUE\"])\n",
        "assert err == gdal.CE_None\n",
        "\n",
        "roi = mem_raster.ReadAsArray()"
      ],
      "execution_count": null,
      "outputs": []
    },
    {
      "cell_type": "code",
      "metadata": {
        "id": "pt8WeAYoMq2L",
        "colab": {
          "base_uri": "https://localhost:8080/",
          "height": 232
        },
        "outputId": "73af9c92-c60c-4e89-d181-77702eb65652"
      },
      "source": [
        "# Display images\n",
        "plt.subplot(121)\n",
        "plt.imshow(img[:, :, 0], cmap=plt.cm.Greys_r)\n",
        "plt.title('RS image - first band')\n",
        "\n",
        "plt.subplot(122)\n",
        "plt.imshow(roi, cmap=plt.cm.Spectral)\n",
        "plt.title('Training Image')\n",
        "\n",
        "plt.show()\n",
        "\n",
        "# Number of training pixels:\n",
        "n_samples = (roi > 0).sum()\n",
        "print('{n} training samples'.format(n=n_samples))\n",
        "print('{n} training samples'.format(n=n_samples), file=open(results_txt, \"a\"))\n",
        "\n",
        "# What are our classification labels?\n",
        "labels = np.unique(roi[roi > 0])\n",
        "print('training data include {n} classes: {classes}'.format(n=labels.size, classes=labels))\n",
        "print('training data include {n} classes: {classes}'.format(n=labels.size, classes=labels), file=open(results_txt, \"a\"))\n",
        "\n",
        "# Subset the image dataset with the training image = X\n",
        "# Mask the classes on the training dataset = y\n",
        "# These will have n_samples rows\n",
        "X = img[roi > 0, :]\n",
        "y = roi[roi > 0]\n",
        "\n",
        "print('Our X matrix is sized: {sz}'.format(sz=X.shape))\n",
        "print('Our y array is sized: {sz}'.format(sz=y.shape))"
      ],
      "execution_count": null,
      "outputs": [
        {
          "output_type": "display_data",
          "data": {
            "image/png": "[encoded data removed]",
            "text/plain": [
              "<Figure size 432x288 with 2 Axes>"
            ]
          },
          "metadata": {
            "needs_background": "light"
          }
        },
        {
          "output_type": "stream",
          "name": "stdout",
          "text": [
            "25452 training samples\n",
            "training data include 17 classes: [ 1  2  3  4  5  6  7  8  9 10 11 12 13 14 15 16 17]\n",
            "Our X matrix is sized: (25452, 4)\n",
            "Our y array is sized: (25452,)\n"
          ]
        }
      ]
    },
    {
      "cell_type": "code",
      "metadata": {
        "id": "d1KTJxjGMxF_",
        "colab": {
          "base_uri": "https://localhost:8080/"
        },
        "outputId": "4a8248ca-c0eb-4499-9b52-85e728609879"
      },
      "source": [
        "rf = RandomForestClassifier(n_estimators=est, oob_score=True, verbose=1, n_jobs=n_cores)\n",
        "\n",
        "# verbose = 2 -> prints out every tree progression\n",
        "# rf = RandomForestClassifier(n_estimators=est, oob_score=True, verbose=2, n_jobs=n_cores)\n",
        "\n",
        "\n",
        "\n",
        "X = np.nan_to_num(X)\n",
        "rf2 = rf.fit(X, y)"
      ],
      "execution_count": null,
      "outputs": [
        {
          "output_type": "stream",
          "name": "stderr",
          "text": [
            "[Parallel(n_jobs=-1)]: Using backend ThreadingBackend with 2 concurrent workers.\n",
            "[Parallel(n_jobs=-1)]: Done  46 tasks      | elapsed:    1.7s\n",
            "[Parallel(n_jobs=-1)]: Done 196 tasks      | elapsed:    7.0s\n",
            "[Parallel(n_jobs=-1)]: Done 446 tasks      | elapsed:   15.9s\n",
            "[Parallel(n_jobs=-1)]: Done 500 out of 500 | elapsed:   17.8s finished\n"
          ]
        }
      ]
    },
    {
      "cell_type": "code",
      "metadata": {
        "id": "7jWDHDEvM0px",
        "colab": {
          "base_uri": "https://localhost:8080/"
        },
        "outputId": "0663fa0d-99b9-4e33-ade4-8d0c0133fa45"
      },
      "source": [
        "print('--------------------------------', file=open(results_txt, \"a\"))\n",
        "print('TRAINING and RF Model Diagnostics:', file=open(results_txt, \"a\"))\n",
        "print('OOB prediction of accuracy is: {oob}%'.format(oob=rf.oob_score_ * 100))\n",
        "print('OOB prediction of accuracy is: {oob}%'.format(oob=rf.oob_score_ * 100), file=open(results_txt, \"a\"))\n",
        "\n",
        "\n",
        "# we can show the band importance:\n",
        "bands = range(1,img_ds.RasterCount+1)\n",
        "\n",
        "for b, imp in zip(bands, rf2.feature_importances_):\n",
        "    print('Band {b} importance: {imp}'.format(b=b, imp=imp))\n",
        "    print('Band {b} importance: {imp}'.format(b=b, imp=imp), file=open(results_txt, \"a\"))\n",
        "\n",
        "    \n",
        "# Let's look at a crosstabulation to see the class confusion. \n",
        "# To do so, we will import the Pandas library for some help:\n",
        "# Setup a dataframe -- just like R\n",
        "# Exception Handling because of possible Memory Error\n",
        "\n",
        "try:\n",
        "    df = pd.DataFrame()\n",
        "    df['truth'] = y\n",
        "    df['predict'] = rf.predict(X)\n",
        "\n",
        "except MemoryError:\n",
        "    print('Crosstab not available ')\n",
        "\n",
        "else:\n",
        "    # Cross-tabulate predictions\n",
        "    print(pd.crosstab(df['truth'], df['predict'], margins=True))\n",
        "    print(pd.crosstab(df['truth'], df['predict'], margins=True), file=open(results_txt, \"a\"))"
      ],
      "execution_count": null,
      "outputs": [
        {
          "output_type": "stream",
          "name": "stdout",
          "text": [
            "OOB prediction of accuracy is: 57.51610875373252%\n",
            "Band 1 importance: 0.2351856744937702\n",
            "Band 2 importance: 0.26353286611129223\n",
            "Band 3 importance: 0.22905290664422304\n",
            "Band 4 importance: 0.2722285527507145\n"
          ]
        },
        {
          "output_type": "stream",
          "name": "stderr",
          "text": [
            "[Parallel(n_jobs=2)]: Using backend ThreadingBackend with 2 concurrent workers.\n",
            "[Parallel(n_jobs=2)]: Done  46 tasks      | elapsed:    0.3s\n",
            "[Parallel(n_jobs=2)]: Done 196 tasks      | elapsed:    1.1s\n",
            "[Parallel(n_jobs=2)]: Done 446 tasks      | elapsed:    2.5s\n",
            "[Parallel(n_jobs=2)]: Done 500 out of 500 | elapsed:    2.8s finished\n"
          ]
        },
        {
          "output_type": "stream",
          "name": "stdout",
          "text": [
            "predict    1    2    3     4    5     6  ...   13    14    15  16   17    All\n",
            "truth                                    ...                                 \n",
            "1        147    0    0     0    0     0  ...    0     0     0   0    0    147\n",
            "2          0  196    0     0    0     0  ...    0     0     0   0    0    196\n",
            "3          0    0  546     0    0     0  ...    0     0     0   0    0    546\n",
            "4          0    0    0  3303    0     0  ...    0     0     0   0    0   3303\n",
            "5          0    0    0     0  901     0  ...    0     0     0   0    0    901\n",
            "6          0    0    0     0    0  8344  ...    0     0     0   0    0   8344\n",
            "7          0    0    0     0    0     0  ...    0     0     0   0    0     38\n",
            "8          0    0    0     0    0     1  ...    0     0     0   0    0   2347\n",
            "9          0    0    0     0    0     0  ...    0     0     0   0    0     83\n",
            "10         0    0    0     0    0     0  ...    0     0     0   0    0    144\n",
            "11         0    0    0     0    0     0  ...    0     0     0   0    0   3461\n",
            "12         0    0    0     0    0     0  ...    0     0     0   0    0    482\n",
            "13         0    0    0     0    0     0  ...  911     0     0   0    0    911\n",
            "14         0    0    0     0    0     0  ...    0  2913     0   0    0   2913\n",
            "15         0    0    0     0    0     0  ...    0     0  1297   0    0   1297\n",
            "16         0    0    0     0    0     0  ...    0     0     0  80    0     80\n",
            "17         0    0    0     0    0     0  ...    0     0     0   0  259    259\n",
            "All      147  196  546  3303  901  8345  ...  911  2913  1297  80  259  25452\n",
            "\n",
            "[18 rows x 18 columns]\n"
          ]
        }
      ]
    },
    {
      "cell_type": "code",
      "metadata": {
        "id": "AKq6xrxjM3uj",
        "colab": {
          "base_uri": "https://localhost:8080/",
          "height": 528
        },
        "outputId": "1a03effc-7e63-4113-a9d0-7f7bc3c13184"
      },
      "source": [
        "cm = confusion_matrix(y,rf.predict(X))\n",
        "plt.figure(figsize=(10,7))\n",
        "sn.heatmap(cm, annot=True, fmt='g')\n",
        "plt.xlabel('classes - predicted')\n",
        "plt.ylabel('classes - truth')\n",
        "plt.show()"
      ],
      "execution_count": null,
      "outputs": [
        {
          "output_type": "stream",
          "name": "stderr",
          "text": [
            "[Parallel(n_jobs=2)]: Using backend ThreadingBackend with 2 concurrent workers.\n",
            "[Parallel(n_jobs=2)]: Done  46 tasks      | elapsed:    0.3s\n",
            "[Parallel(n_jobs=2)]: Done 196 tasks      | elapsed:    1.1s\n",
            "[Parallel(n_jobs=2)]: Done 446 tasks      | elapsed:    2.5s\n",
            "[Parallel(n_jobs=2)]: Done 500 out of 500 | elapsed:    2.8s finished\n"
          ]
        },
        {
          "output_type": "display_data",
          "data": {
            "image/png": "[encoded data removed]",
            "text/plain": [
              "<Figure size 720x504 with 2 Axes>"
            ]
          },
          "metadata": {
            "needs_background": "light"
          }
        }
      ]
    },
    {
      "cell_type": "code",
      "metadata": {
        "id": "Q7StSfJEou1n"
      },
      "source": [
        "# from osgeo import gdal, ogr, gdal_array # I/O image data\n",
        "# import numpy as np # math and array handling\n",
        "# import matplotlib.pyplot as plt # plot figures\n",
        "# from sklearn.ensemble import RandomForestClassifier # classifier\n",
        "# import pandas as pd # handling large data as table sheets\n",
        "# from sklearn.metrics import classification_report, accuracy_score,confusion_matrix  # calculating measures for accuracy assessment\n",
        "\n",
        "# import seaborn as sn\n",
        "\n",
        "# import datetime\n",
        "\n",
        "# # Tell GDAL to throw Python exceptions, and register all drivers\n",
        "# gdal.UseExceptions()\n",
        "# gdal.AllRegister()"
      ],
      "execution_count": null,
      "outputs": []
    },
    {
      "cell_type": "code",
      "metadata": {
        "id": "-ksmgAE9oeRP"
      },
      "source": [
        "# n_cores = -1\n",
        "# est = 500\n",
        "# rf = RandomForestClassifier(n_estimators=est, oob_score=True, verbose=1, n_jobs=n_cores)\n",
        "\n",
        "# # verbose = 2 -> prints out every tree progression\n",
        "# # rf = RandomForestClassifier(n_estimators=est, oob_score=True, verbose=2, n_jobs=n_cores)\n",
        "\n",
        "\n",
        "\n",
        "# X = np.nan_to_num(X)\n",
        "# rf2 = rf.fit(X, y)"
      ],
      "execution_count": null,
      "outputs": []
    },
    {
      "cell_type": "code",
      "metadata": {
        "id": "qgORZP_tM54U",
        "colab": {
          "base_uri": "https://localhost:8080/"
        },
        "outputId": "266f589b-207b-4673-ee8d-3806ec4a7c0b"
      },
      "source": [
        "# Predicting the rest of the image\n",
        "\n",
        "# Take our full image and reshape into long 2d array (nrow * ncol, nband) for classification\n",
        "new_shape = (img.shape[0] * img.shape[1], img.shape[2])\n",
        "img_as_array = img[:, :, :np.int(img.shape[2])].reshape(new_shape)\n",
        "\n",
        "print('Reshaped from {o} to {n}'.format(o=img.shape, n=img_as_array.shape))\n",
        "\n",
        "# img_as_array = np.nan_to_num(img_as_array)"
      ],
      "execution_count": null,
      "outputs": [
        {
          "output_type": "stream",
          "name": "stdout",
          "text": [
            "Reshaped from (4868, 7493, 4) to (36475924, 4)\n"
          ]
        }
      ]
    },
    {
      "cell_type": "code",
      "metadata": {
        "id": "Q1RcLaol9iCj"
      },
      "source": [
        "# a = []\n",
        "# while 1:\n",
        "#     a.append(\"1\")"
      ],
      "execution_count": null,
      "outputs": []
    },
    {
      "cell_type": "code",
      "metadata": {
        "colab": {
          "base_uri": "https://localhost:8080/"
        },
        "id": "6XrtAZ8gM8ZN",
        "outputId": "44c51836-4880-45dd-8588-bd755ead6b24"
      },
      "source": [
        "# Now predict for each pixel\n",
        "# first prediction will be tried on the entire image\n",
        "# if not enough RAM, the dataset will be sliced\n",
        "try:\n",
        "    class_prediction = rf.predict(img_as_array)\n",
        "except MemoryError:\n",
        "    slices = int(round(len(img_as_array)/2))\n",
        "\n",
        "    test = True\n",
        "    \n",
        "    while test == True:\n",
        "        try:\n",
        "            class_preds = list()\n",
        "            \n",
        "            temp = rf.predict(img_as_array[0:slices+1,:])\n",
        "            class_preds.append(temp)\n",
        "            \n",
        "            for i in range(slices,len(img_as_array),slices):\n",
        "                print('{} %, derzeit: {}'.format((i*100)/(len(img_as_array)), i))\n",
        "                temp = rf.predict(img_as_array[i+1:i+(slices+1),:])                \n",
        "                class_preds.append(temp)\n",
        "            \n",
        "        except MemoryError as error:\n",
        "            slices = slices/2\n",
        "            print('Not enought RAM, new slices = {}'.format(slices))\n",
        "            \n",
        "        else:\n",
        "            test = False\n",
        "else:\n",
        "    print('Class prediction was successful without slicing!')"
      ],
      "execution_count": null,
      "outputs": [
        {
          "output_type": "stream",
          "name": "stderr",
          "text": [
            "[Parallel(n_jobs=2)]: Using backend ThreadingBackend with 2 concurrent workers.\n"
          ]
        }
      ]
    },
    {
      "cell_type": "code",
      "metadata": {
        "id": "mr6ScOO-M_Qf"
      },
      "source": [
        "# concatenate all slices and re-shape it to the original extend\n",
        "try:\n",
        "    class_prediction = np.concatenate(class_preds,axis = 0)\n",
        "except NameError:\n",
        "    print('No slicing was necessary!')\n",
        "    \n",
        "class_prediction = class_prediction.reshape(img[:, :, 0].shape)\n",
        "print('Reshaped back to {}'.format(class_prediction.shape))"
      ],
      "execution_count": null,
      "outputs": []
    },
    {
      "cell_type": "code",
      "metadata": {
        "id": "ZPzaeVt3NCG5"
      },
      "source": [
        "# generate mask image from red band\n",
        "mask = np.copy(img[:,:,0])\n",
        "mask[mask > 0.0] = 0.0 # all actual pixels have a value of 1.0\n",
        "\n",
        "# plot mask\n",
        "\n",
        "plt.imshow(mask)"
      ],
      "execution_count": null,
      "outputs": []
    },
    {
      "cell_type": "code",
      "metadata": {
        "id": "S9so0FNCNErC"
      },
      "source": [
        "# mask classification an plot\n",
        "\n",
        "class_prediction.astype(np.float16)\n",
        "class_prediction_ = class_prediction*mask\n",
        "\n",
        "plt.subplot(121)\n",
        "plt.imshow(class_prediction, cmap=plt.cm.Spectral)\n",
        "plt.title('classification unmasked')\n",
        "\n",
        "plt.subplot(122)\n",
        "plt.imshow(class_prediction_, cmap=plt.cm.Spectral)\n",
        "plt.title('classification masked')\n",
        "\n",
        "plt.show()"
      ],
      "execution_count": null,
      "outputs": []
    },
    {
      "cell_type": "code",
      "metadata": {
        "id": "HP4r5pDENIi8"
      },
      "source": [
        "cols = img.shape[1]\n",
        "rows = img.shape[0]\n",
        "\n",
        "class_prediction_.astype(np.float16)\n",
        "\n",
        "driver = gdal.GetDriverByName(\"gtiff\")\n",
        "outdata = driver.Create(classification_image, cols, rows, 1, gdal.GDT_UInt16)\n",
        "outdata.SetGeoTransform(img_ds.GetGeoTransform())##sets same geotransform as input\n",
        "outdata.SetProjection(img_ds.GetProjection())##sets same projection as input\n",
        "outdata.GetRasterBand(1).WriteArray(class_prediction_)\n",
        "outdata.FlushCache() ##saves to disk!!\n",
        "print('Image saved to: {}'.format(classification_image))"
      ],
      "execution_count": null,
      "outputs": []
    },
    {
      "cell_type": "code",
      "metadata": {
        "id": "iKjt-7VCNP4Y"
      },
      "source": [
        "\n",
        "# validation / accuracy assessment\n",
        "\n",
        "# preparing ttxt file\n",
        "\n",
        "print('------------------------------------', file=open(results_txt, \"a\"))\n",
        "print('VALIDATION', file=open(results_txt, \"a\"))\n",
        "\n",
        "# laod training data from shape file\n",
        "shape_dataset_v = ogr.Open(validation)\n",
        "shape_layer_v = shape_dataset_v.GetLayer()\n",
        "mem_drv_v = gdal.GetDriverByName('MEM')\n",
        "mem_raster_v = mem_drv_v.Create('',img_ds.RasterXSize,img_ds.RasterYSize,1,gdal.GDT_UInt16)\n",
        "mem_raster_v.SetProjection(img_ds.GetProjection())\n",
        "mem_raster_v.SetGeoTransform(img_ds.GetGeoTransform())\n",
        "mem_band_v = mem_raster_v.GetRasterBand(1)\n",
        "mem_band_v.Fill(0)\n",
        "mem_band_v.SetNoDataValue(0)\n",
        "\n",
        "# http://gdal.org/gdal__alg_8h.html#adfe5e5d287d6c184aab03acbfa567cb1\n",
        "# http://gis.stackexchange.com/questions/31568/gdal-rasterizelayer-doesnt-burn-all-polygons-to-raster\n",
        "err_v = gdal.RasterizeLayer(mem_raster_v, [1], shape_layer_v, None, None, [1],  [att_,\"ALL_TOUCHED=TRUE\"])\n",
        "assert err_v == gdal.CE_None\n",
        "\n",
        "roi_v = mem_raster_v.ReadAsArray()\n",
        "\n",
        "\n",
        "\n",
        "# vizualise\n",
        "plt.subplot(221)\n",
        "plt.imshow(img[:, :, 0], cmap=plt.cm.Greys_r)\n",
        "plt.title('RS_Image - first band')\n",
        "\n",
        "plt.subplot(222)\n",
        "plt.imshow(class_prediction, cmap=plt.cm.Spectral)\n",
        "plt.title('Classification result')\n",
        "\n",
        "\n",
        "plt.subplot(223)\n",
        "plt.imshow(roi, cmap=plt.cm.Spectral)\n",
        "plt.title('Training Data')\n",
        "\n",
        "plt.subplot(224)\n",
        "plt.imshow(roi_v, cmap=plt.cm.Spectral)\n",
        "plt.title('Validation Data')\n",
        "\n",
        "plt.show()\n",
        "\n",
        "\n",
        "# Find how many non-zero entries we have -- i.e. how many validation data samples?\n",
        "n_val = (roi_v > 0).sum()\n",
        "print('{n} validation pixels'.format(n=n_val))\n",
        "print('{n} validation pixels'.format(n=n_val), file=open(results_txt, \"a\"))\n",
        "\n",
        "# What are our validation labels?\n",
        "labels_v = np.unique(roi_v[roi_v > 0])\n",
        "print('validation data include {n} classes: {classes}'.format(n=labels_v.size, classes=labels_v))\n",
        "print('validation data include {n} classes: {classes}'.format(n=labels_v.size, classes=labels_v), file=open(results_txt, \"a\"))\n",
        "# Subset the classification image with the validation image = X\n",
        "# Mask the classes on the validation dataset = y\n",
        "# These will have n_samples rows\n",
        "X_v = class_prediction[roi_v > 0]\n",
        "y_v = roi_v[roi_v > 0]\n",
        "\n",
        "print('Our X matrix is sized: {sz_v}'.format(sz_v=X_v.shape))\n",
        "print('Our y array is sized: {sz_v}'.format(sz_v=y_v.shape))\n",
        "\n",
        "# Cross-tabulate predictions\n",
        "# confusion matrix\n",
        "convolution_mat = pd.crosstab(y_v, X_v, margins=True)\n",
        "print(convolution_mat)\n",
        "print(convolution_mat, file=open(results_txt, \"a\"))\n",
        "# if you want to save the confusion matrix as a CSV file:\n",
        "#savename = 'C:\\\\save\\\\to\\\\folder\\\\conf_matrix_' + str(est) + '.csv'\n",
        "#convolution_mat.to_csv(savename, sep=';', decimal = '.')\n",
        "\n",
        "# information about precision, recall, f1_score, and support:\n",
        "# http://scikit-learn.org/stable/modules/generated/sklearn.metrics.precision_recall_fscore_support.html\n",
        "#sklearn.metrics.precision_recall_fscore_support\n",
        "target_names = list()\n",
        "for name in range(1,(labels.size)+1):\n",
        "    target_names.append(str(name))\n",
        "sum_mat = classification_report(y_v,X_v,target_names=target_names)\n",
        "print(sum_mat)\n",
        "print(sum_mat, file=open(results_txt, \"a\"))\n",
        "\n",
        "# Overall Accuracy (OAA)\n",
        "print('OAA = {} %'.format(accuracy_score(y_v,X_v)*100))\n",
        "print('OAA = {} %'.format(accuracy_score(y_v,X_v)*100), file=open(results_txt, \"a\"))"
      ],
      "execution_count": null,
      "outputs": []
    },
    {
      "cell_type": "code",
      "metadata": {
        "id": "ex92D8XcNSMi"
      },
      "source": [
        "cm_val = confusion_matrix(roi_v[roi_v > 0],class_prediction[roi_v > 0])\n",
        "plt.figure(figsize=(10,7))\n",
        "sn.heatmap(cm_val, annot=True, fmt='g')\n",
        "plt.xlabel('classes - predicted')\n",
        "plt.ylabel('classes - truth')\n",
        "plt.show()"
      ],
      "execution_count": null,
      "outputs": []
    },
    {
      "cell_type": "code",
      "metadata": {
        "id": "CxF9mbfYJbrW"
      },
      "source": [
        "from google.colab import drive\n",
        "drive.mount('/content/drive')"
      ],
      "execution_count": null,
      "outputs": []
    },
    {
      "cell_type": "code",
      "metadata": {
        "id": "v-TMA69CDJwl"
      },
      "source": [
        "# # laod training data and show all shape attributes\n",
        "# #model_dataset = gdal.Open(model_raster_fname)\n",
        "# shape_dataset = ogr.Open(validation)\n",
        "# shape_dataset = ogr.Open(training)\n",
        "# shape_dataset\n",
        "# shape_layer = shape_dataset.CreateLayer()\n",
        "\n",
        "# # extract the names of all attributes (fieldnames) in the shape file\n",
        "# attributes = []\n",
        "# ldefn = shape_layer.GetLayerDefn()\n",
        "# for n in range(ldefn.GetFieldCount()):\n",
        "#     fdefn = ldefn.GetFieldDefn(n)\n",
        "#     attributes.append(fdefn.name)\n",
        "    \n",
        "# # print the attributes\n",
        "# print('Available attributes in the shape file are: {}'.format(attributes))"
      ],
      "execution_count": null,
      "outputs": []
    },
    {
      "cell_type": "code",
      "metadata": {
        "id": "n3jL36kGPN7W"
      },
      "source": [
        "# shape_dataset = ogr.Open(training)\n",
        "# shape_layer = shape_dataset.GetLayer()\n",
        "\n",
        "# # extract the names of all attributes (fieldnames) in the shape file\n",
        "# attributes = []\n",
        "# ldefn = shape_layer.GetLayerDefn()\n",
        "# for n in range(ldefn.GetFieldCount()):\n",
        "#     fdefn = ldefn.GetFieldDefn(n)\n",
        "#     attributes.append(fdefn.name)\n",
        "    \n",
        "# # print the attributes\n",
        "# print('Available attributes in the shape file are: {}'.format(attributes))"
      ],
      "execution_count": null,
      "outputs": []
    },
    {
      "cell_type": "code",
      "metadata": {
        "id": "-iRIdxd-FmAO"
      },
      "source": [
        "# shp = gpd.read_file('/content/VT_KILIMO_2021-all_clean_classification_247_checking.shp')"
      ],
      "execution_count": null,
      "outputs": []
    },
    {
      "cell_type": "markdown",
      "metadata": {
        "id": "HKo0sF9FA_uM"
      },
      "source": [
        ""
      ]
    }
  ]
}