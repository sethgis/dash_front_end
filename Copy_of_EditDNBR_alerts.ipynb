{
  "nbformat": 4,
  "nbformat_minor": 0,
  "metadata": {
    "colab": {
      "name": "Copy of EditDNBR_alerts.ipynb",
      "provenance": [],
      "collapsed_sections": [],
      "include_colab_link": true
    },
    "kernelspec": {
      "display_name": "Python 3",
      "name": "python3"
    },
    "language_info": {
      "name": "python"
    }
  },
  "cells": [
    {
      "cell_type": "markdown",
      "metadata": {
        "id": "view-in-github",
        "colab_type": "text"
      },
      "source": [
        "<a href=\"https://colab.research.google.com/github/sethgis/dash_front_end/blob/main/Copy_of_EditDNBR_alerts.ipynb\" target=\"_parent\"><img src=\"https://colab.research.google.com/assets/colab-badge.svg\" alt=\"Open In Colab\"/></a>"
      ]
    },
    {
      "cell_type": "markdown",
      "metadata": {
        "id": "8Ag1X4zwMX8l"
      },
      "source": [
        " **Install Packages and Import them**"
      ]
    },
    {
      "cell_type": "code",
      "metadata": {
        "id": "1Bch_D3cDvnS"
      },
      "source": [
        "# Installs geemap package\n",
        "import subprocess\n",
        " \n",
        "try:\n",
        "    import geemap\n",
        "    import geopandas as gpd\n",
        "    import numpy as np\n",
        "    import folium\n",
        "    import rasterio\n",
        "    import tensorflow\n",
        "except ImportError:\n",
        "    print('geemap package not installed. Installing ...')\n",
        "    subprocess.check_call([\"python\", '-m', 'pip', 'install', 'geemap'])\n",
        "    subprocess.check_call([\"python\", '-m', 'pip', 'install', 'geopandas'])\n",
        "    subprocess.check_call([\"python\", '-m', 'pip', 'install', 'folium'])\n",
        "    subprocess.check_call([\"python\", '-m', 'pip', 'install', \"rasterio\"])\n",
        "    subprocess.check_call([\"python\", '-m', 'pip', 'install', \"tensorflow\"])\n",
        "\n",
        "    \n",
        " \n",
        "# Checks whether this notebook is running on Google Colab\n",
        "try:\n",
        "    import google.colab\n",
        "    import geemap.eefolium as geemap\n",
        "except:\n",
        "    import geemap\n",
        " \n",
        "# Authenticates and initializes Earth Engine\n",
        "import ee\n",
        "import matplotlib.pyplot as plt\n",
        "import numpy as np\n",
        "from scipy.stats import norm, gamma, f, chi2\n",
        "import IPython.display as disp\n",
        "import geopandas as gpd\n",
        "from shapely.geometry import Point, Polygon\n",
        "from geemap import geojson_to_ee, ee_to_geojson\n",
        "from geopandas import GeoSeries\n",
        "import json\n",
        "import pandas as pd\n",
        "%matplotlib inline "
      ],
      "execution_count": null,
      "outputs": []
    },
    {
      "cell_type": "code",
      "metadata": {
        "id": "_SRV0kv_lz1p"
      },
      "source": [
        "def authenticate():\n",
        "  try:\n",
        "    ee.Initialize()\n",
        "  except Exception as e:\n",
        "    ee.Authenticate()\n",
        "    ee.Initialize()"
      ],
      "execution_count": null,
      "outputs": []
    },
    {
      "cell_type": "code",
      "metadata": {
        "id": "gQ9a_TBml4y2"
      },
      "source": [
        "authenticate()"
      ],
      "execution_count": null,
      "outputs": []
    },
    {
      "cell_type": "code",
      "metadata": {
        "id": "ozPInJKT-8Yd"
      },
      "source": [
        "AOI = ee.FeatureCollection('users/snyawacha/Il_NgwesiConservancy')\n",
        "AOI = AOI\n",
        "START_DATE = '2019-04-01'\n",
        "END_DATE = '2019-09-01'\n",
        "START_DATE2 = '2020-04-01'\n",
        "END_DATE2 = '2020-09-01'\n",
        "CLOUD_FILTER = 60\n",
        "CLD_PRB_THRESH = 40\n",
        "NIR_DRK_THRESH = 0.15\n",
        "CLD_PRJ_DIST = 2\n",
        "BUFFER = 100\n"
      ],
      "execution_count": null,
      "outputs": []
    },
    {
      "cell_type": "code",
      "metadata": {
        "id": "1k-EM6f0AqwZ"
      },
      "source": [
        "#Area of interest\n",
        "ROI = ee.FeatureCollection(\"users/collinsasegaca/TROFMIS_Forest_specific_AOI\");\n",
        "LOOKS = 5 \n",
        "BASE_PERIOD = ['2020-01-01' ,'2020-03-15']\n",
        "BASE_PERIOD = ['2020-01-01' ,'2020-03-15']\n",
        "BASE_PERIOD = ['2020-01-01' ,'2020-03-15']\n",
        " # The before Image Date\n",
        "ANALYSIS_PERIOD = ['2020-03-16' ,'2020-06-29'] # The after Image Date\n",
        "COUNTRIES = [\"KENYA\"]#, \"UGANDA\"] #countries of interest\n",
        "ALL_COUNTRIES = \"IGAD\""
      ],
      "execution_count": null,
      "outputs": []
    },
    {
      "cell_type": "code",
      "metadata": {
        "id": "MSi6LzQp-ptL"
      },
      "source": [
        "def get_s2_sr_cld_col(aoi, start_date):\n",
        "    # Import and filter S2 SR.\n",
        "    s2_sr_col = (ee.ImageCollection('COPERNICUS/S2_SR')\n",
        "        .filterBounds(aoi)\n",
        "        .filterDate(start_date)\n",
        "        .filter(ee.Filter.lte('CLOUDY_PIXEL_PERCENTAGE', CLOUD_FILTER)))\n",
        "\n",
        "    # Import and filter s2cloudless.\n",
        "    s2_cloudless_col = (ee.ImageCollection('COPERNICUS/S2_CLOUD_PROBABILITY')\n",
        "        .filterBounds(aoi)\n",
        "        .filterDate(start_date))\n",
        "\n",
        "    # Join the filtered s2cloudless collection to the SR collection by the 'system:index' property.\n",
        "    return ee.ImageCollection(ee.Join.saveFirst('s2cloudless').apply(**{\n",
        "        'primary': s2_sr_col,\n",
        "        'secondary': s2_cloudless_col,\n",
        "        'condition': ee.Filter.equals(**{\n",
        "            'leftField': 'system:index',\n",
        "            'rightField': 'system:index'\n",
        "        })\n",
        "    }))\n",
        "\n",
        "s2_sr_cld_col_eval = get_s2_sr_cld_col(AOI, BASE_PERIOD)\n",
        "s2_sr_cld_col_eval2 = get_s2_sr_cld_col(AOI, ANALYSIS_PERIOD )\n",
        "\n",
        "\n",
        "def add_cloud_bands(img):\n",
        "    # Get s2cloudless image, subset the probability band.\n",
        "    cld_prb = ee.Image(img.get('s2cloudless')).select('probability')\n",
        "\n",
        "    # Condition s2cloudless by the probability threshold value.\n",
        "    is_cloud = cld_prb.gt(CLD_PRB_THRESH).rename('clouds')\n",
        "\n",
        "    # Add the cloud probability layer and cloud mask as image bands.\n",
        "    return img.addBands(ee.Image([cld_prb, is_cloud]))\n",
        "\n",
        "def add_shadow_bands(img):\n",
        "    # Identify water pixels from the SCL band.\n",
        "    not_water = img.select('SCL').neq(6)\n",
        "\n",
        "    # Identify dark NIR pixels that are not water (potential cloud shadow pixels).\n",
        "    SR_BAND_SCALE = 1e4\n",
        "    dark_pixels = img.select('B8').lt(NIR_DRK_THRESH*SR_BAND_SCALE).multiply(not_water).rename('dark_pixels')\n",
        "\n",
        "    # Determine the direction to project cloud shadow from clouds (assumes UTM projection).\n",
        "    shadow_azimuth = ee.Number(90).subtract(ee.Number(img.get('MEAN_SOLAR_AZIMUTH_ANGLE')));\n",
        "\n",
        "    # Project shadows from clouds for the distance specified by the CLD_PRJ_DIST input.\n",
        "    cld_proj = (img.select('clouds').directionalDistanceTransform(shadow_azimuth, CLD_PRJ_DIST*10)\n",
        "        .reproject(**{'crs': img.select(0).projection(), 'scale': 100})\n",
        "        .select('distance')\n",
        "        .mask()\n",
        "        .rename('cloud_transform'))\n",
        "\n",
        "    # Identify the intersection of dark pixels with cloud shadow projection.\n",
        "    shadows = cld_proj.multiply(dark_pixels).rename('shadows')\n",
        "\n",
        "    # Add dark pixels, cloud projection, and identified shadows as image bands.\n",
        "    return img.addBands(ee.Image([dark_pixels, cld_proj, shadows]))\n",
        "\n",
        "def add_cld_shdw_mask(img):\n",
        "    # Add cloud component bands.\n",
        "    img_cloud = add_cloud_bands(img)\n",
        "\n",
        "    # Add cloud shadow component bands.\n",
        "    img_cloud_shadow = add_shadow_bands(img_cloud)\n",
        "\n",
        "    # Combine cloud and shadow mask, set cloud and shadow as value 1, else 0.\n",
        "    is_cld_shdw = img_cloud_shadow.select('clouds').add(img_cloud_shadow.select('shadows')).gt(0)\n",
        "\n",
        "    # Remove small cloud-shadow patches and dilate remaining pixels by BUFFER input.\n",
        "    # 20 m scale is for speed, and assumes clouds don't require 10 m precision.\n",
        "    is_cld_shdw = (is_cld_shdw.focal_min(2).focal_max(BUFFER*2/20)\n",
        "        .reproject(**{'crs': img.select([0]).projection(), 'scale': 20})\n",
        "        .rename('cloudmask'))\n",
        "\n",
        "    # Add the final cloud-shadow mask to the image.\n",
        "    return img_cloud_shadow.addBands(is_cld_shdw)\n",
        "\n",
        "\n",
        "def display_cloud_layers(col):\n",
        "    # Mosaic the image collection.\n",
        "    img = col.mosaic()\n",
        "\n",
        "    # Subset layers and prepare them for display.\n",
        "    clouds = img.select('clouds').selfMask()\n",
        "    shadows = img.select('shadows').selfMask()\n",
        "    dark_pixels = img.select('dark_pixels').selfMask()\n",
        "    probability = img.select('probability')\n",
        "    cloudmask = img.select('cloudmask').selfMask()\n",
        "    cloud_transform = img.select('cloud_transform')\n",
        "\n",
        "    image = s2_sr_cld_col_eval.map(add_cld_shdw_mask)\n",
        "    image2 = s2_sr_cld_col_eval2.map(add_cld_shdw_mask)"
      ],
      "execution_count": null,
      "outputs": []
    },
    {
      "cell_type": "code",
      "metadata": {
        "id": "Ef3IsmisBJuK"
      },
      "source": [
        ""
      ],
      "execution_count": null,
      "outputs": []
    },
    {
      "cell_type": "code",
      "metadata": {
        "id": "M9r2Tq0_5qhu"
      },
      "source": [
        "kernel_size = 4;\n",
        "min_disturbances = 0.05;\n",
        "kernel_clean_size = 10;\n",
        "threshold_conservative = 0.04;"
      ],
      "execution_count": null,
      "outputs": []
    },
    {
      "cell_type": "markdown",
      "metadata": {
        "id": "ybFMzeJhNJeD"
      },
      "source": [
        "**Image Analysis **"
      ]
    },
    {
      "cell_type": "code",
      "metadata": {
        "id": "afcAp2ZQD0fL"
      },
      "source": [
        "def _get_radar_alert(aoi):\n",
        "  \"\"\"# Function takes in Region of interest base period and comparison period and returns two products loss and gain products\n",
        "  \"\"\"\n",
        "  #  Obtain the Image Collection  In the Descending orbit Pass\n",
        "  collection = (ee.ImageCollection('COPERNICUS/S2')\n",
        "                 .filter(ee.Filter.lt(\"CLOUDY_PIXEL_PERCENTAGE\", 20)) filters on the metadata for pixels less than 10% cloud\n",
        "                 .map(maskS2clouds)//... chooses only pixels between the dates you define here\n",
        "                 .filterBounds(table);\n",
        "                 .filterBounds(ROI))\n",
        "  \n",
        "  #filter before and after collection according to the defined Dates \n",
        "  before_collection = collection.filterDate(BASE_PERIOD[0], BASE_PERIOD[1])\n",
        "  after_collection = collection.filterDate(ANALYSIS_PERIOD[0], ANALYSIS_PERIOD[1])\n",
        "\n",
        "  #getting before and after image as well as Clipping\n",
        "\n",
        "  im1 = before_collection.mosaic().clip(aoi) #.resample('bicubic')\n",
        "  im2 = after_collection.mosaic().clip(aoi) #.resample('bicubic') \n",
        "\n",
        "\n",
        "  # Apply speckle a filter\n",
        "  def smoothen(image1, image2):\n",
        "    smoothing_radius = 30;\n",
        "    im1 = image1.focal_median(smoothing_radius, 'circle', 'meters')\n",
        "    im2 = image2.focal_median(smoothing_radius, 'circle', 'meters')\n",
        "    return im1, im2\n",
        "\n",
        "  im1_smooth = smoothen(im1,im2)\n",
        "  im1 = im1_smooth[0]\n",
        "  im2 = im1_smooth[1]\n",
        "\n",
        "  #  Likelihood and Statistical Testing.\n",
        "\n",
        "  def det(im):\n",
        "    return im.expression('b(0) * b(1)')\n",
        "\n",
        "  # Number of looks.\n",
        "  m = LOOKS\n",
        "  # aoi = roi\n",
        "\n",
        "  m2logQ = det(im1).log().add(det(im2).log()).subtract(\n",
        "      det(im1.add(im2)).log().multiply(2)).add(4*np.log(2)).multiply(-2*m)\n",
        "\n",
        "\n",
        "  def chi2cdf(chi2, df):\n",
        "    ''' Chi square cumulative distribution function for df degrees of freedom\n",
        "        using the built-in incomplete gamma function gammainc() '''\n",
        "    return ee.Image(chi2.divide(2)).gammainc(ee.Number(df).divide(2))\n",
        "\n",
        "  # The observed test statistic image -2logq.\n",
        "  m2logq = det(im1).log().add(det(im2).log()).subtract(\n",
        "      det(im1.add(im2)).log().multiply(2)).add(4*np.log(2)).multiply(-2*m)\n",
        "\n",
        "  # The P value image prob(m2logQ > m2logq) = 1 - prob(m2logQ < m2logq).\n",
        "  p_value = ee.Image.constant(1).subtract(chi2cdf(m2logq, 2))\n",
        "\n",
        "  c_map1 = p_value.multiply(0).where(p_value.lt(0.05), 1)\n",
        "  diff = im2.subtract(im1)\n",
        "  d_map = c_map1.multiply(0)                    # Initialize the direction map to zero.\n",
        "  d_map = d_map.where(det(diff).gt(0), 2)      # All pos or neg def diffs are now labeled 2.\n",
        "  d_map = d_map.where(diff.select(0).gt(0), 3) # Re-label pos def (and label some indef) to 3.\n",
        "  d_map = d_map.where(det(diff).lt(0), 1)      # Label all indef to 1.\n",
        "  c_map1 = c_map1.multiply(d_map)                # Re-label the c_map, 0*X = 0, 1*1 = 1, 1*2= 2, 1*3 = 3.\n",
        "\n",
        "  c_map_loss = c_map1.updateMask(c_map1.eq(2)).rename('loss') #loss\n",
        "  c_map_gain = c_map1.updateMask(c_map1.eq(3)).rename('gain') #gain\n",
        "\n",
        "  return [c_map_loss, c_map_gain]\n"
      ],
      "execution_count": null,
      "outputs": []
    },
    {
      "cell_type": "code",
      "metadata": {
        "id": "lMBk5rUtw-KI"
      },
      "source": [
        "def compute_regional_radar_alert(return_url=False):\n",
        "  \"\"\"\n",
        "  Get radar alerts at regional level\n",
        "  genre\"\"\"\n",
        "  return compute_country_radar_alert(country_name=ALL_COUNTRIES, return_url=return_url)\n"
      ],
      "execution_count": null,
      "outputs": []
    },
    {
      "cell_type": "code",
      "metadata": {
        "id": "fmG3BkqI_4ZS"
      },
      "source": [
        "def compute_country_radar_alert(country_name, return_url=True):\n",
        "  \"\"\"\n",
        "  Get radar alerts at country level\n",
        "  Returns a  of (alert, loss_url, gain_url)\n",
        "  \"\"\"\n",
        "  aoi = filter_region(country_name=country_name)\n",
        "  alerts = _get_radar_alert(aoi=aoi)\n",
        "  if return_url:\n",
        "    return (alerts, \n",
        "            get_url(alert=alerts[0],\n",
        "                      file_name=generate_file_name(country_name, \"loss\"), \n",
        "                      vector=aoi), #loss url\n",
        "            get_url(alert=alerts[1],\n",
        "                      file_name=generate_file_name(country_name, \"gain\"), \n",
        "                      vector=aoi) #gain url\n",
        "           )\n",
        "  return (alert, None, None)"
      ],
      "execution_count": null,
      "outputs": []
    },
    {
      "cell_type": "markdown",
      "metadata": {
        "id": "5OC0cArJ79wR"
      },
      "source": [
        "Funtion for generation of alerts per country and their Urls, \n",
        "# `*Note: the scale is high therefore the image resolution is redused *`"
      ]
    },
    {
      "cell_type": "code",
      "metadata": {
        "id": "ANNMLsLV0rsZ"
      },
      "source": [
        "def alert_url_generator(country_name, activity):\n",
        "  \"\"\"\n",
        "  If you need a url at regional level, pass country_name=ALL_COUNTRIES\n",
        "  \"\"\"\n",
        "  country_alert = country_radar_alert(country)  \n",
        "  country_url = get_url(alert=country_alert[0] if activity.title()==\"Loss\" else country_alert[1],\n",
        "                         file_name=generate_file_name(country_name, activity),\n",
        "                         vector=country.geometry())\n",
        "  return country_url "
      ],
      "execution_count": null,
      "outputs": []
    },
    {
      "cell_type": "code",
      "metadata": {
        "id": "rBNHOL4i24X-"
      },
      "source": [
        "def generate_file_name(country_name, activity):\n",
        "  return \"%s_to_%s_%s_%s.tif\" % (BASE_PERIOD[0], ANALYSIS_PERIOD[1],\n",
        "                                   country_name, activity)"
      ],
      "execution_count": null,
      "outputs": []
    },
    {
      "cell_type": "code",
      "metadata": {
        "id": "n7c9t9BFz01c"
      },
      "source": [
        "def get_url(alert, file_name, vector):\n",
        "  \"\"\"\n",
        "  Will export a tif and return the url\n",
        "  \"\"\"\n",
        "  # exported_img = geemap.ee_export_image(\n",
        "  #                     ee_object=alert,\n",
        "  #                     # country_alert[0] if activity.title()==\"Loss\" else country_alert[1], \n",
        "  #                     filename=file_name, \n",
        "  #                     scale=200,\n",
        "  #                     region = vector.geometry(),\n",
        "  #                     file_per_band=False)\n",
        "  url = alert.getDownloadUrl({\n",
        "\t\t\t\t'scale': 200, \t\t\t\n",
        "\t\t\t\t'crs': 'EPSG:4326', \n",
        "\t\t\t\t'region': vector.geometry()\n",
        "\t\t\t}) \n",
        "  return url"
      ],
      "execution_count": null,
      "outputs": []
    },
    {
      "cell_type": "code",
      "metadata": {
        "id": "2hlctzBN9cyz"
      },
      "source": [
        "# All_url = alert_Url_generator(ROI, 'IGAD', 'Loss', BASE_PERIOD, ANALYSIS_PERIOD)\n",
        "# regional_url = alert_url_generator(country_name=ALL_COUNTRIES) # Url for entire region"
      ],
      "execution_count": null,
      "outputs": []
    },
    {
      "cell_type": "markdown",
      "metadata": {
        "id": "-1XsK1xNQlet"
      },
      "source": [
        "**Plot the Map of the Products **"
      ]
    },
    {
      "cell_type": "code",
      "metadata": {
        "id": "GwoE48Zq7z0V"
      },
      "source": [
        "# call the function for the entire trofmis AoI\n",
        "# Trofmis_alert = regional_radar_alert(ROI, BASE_PERIOD,ANALYSIS_PERIOD)"
      ],
      "execution_count": null,
      "outputs": []
    },
    {
      "cell_type": "code",
      "metadata": {
        "id": "GnYVUBxEr3u-"
      },
      "source": [
        "def filter_region(country_name):\n",
        "  \"\"\"Filter regional vector by country\"\"\"\n",
        "  if country_name != ALL_COUNTRIES:\n",
        "    return ROI.filter(ee.Filter.eq('COUNTRY', country_name.upper()))\n",
        "  return ROI"
      ],
      "execution_count": null,
      "outputs": []
    },
    {
      "cell_type": "code",
      "metadata": {
        "colab": {
          "base_uri": "https://localhost:8080/",
          "height": 921
        },
        "id": "XvkcgT3Xi30r",
        "outputId": "e67fcdf3-27e7-4fc0-f301-2e9e727c6ca7"
      },
      "source": [
        "# Get alerts for the countries of interest\n",
        "country_alerts = []\n",
        "for i, cntry in enumerate(COUNTRIES): \n",
        "  country_alerts.append(compute_country_radar_alert(cntry))# Appends a tuple of ((loss, gain), loss_url, gain_url)\n",
        "\n",
        "print (\"Country urls: \", [list(x)[1:] for x in country_alerts])"
      ],
      "execution_count": null,
      "outputs": [
        {
          "output_type": "stream",
          "text": [
            "\n",
            "PYDEV DEBUGGER WARNING:\n",
            "sys.settrace() should not be used when the debugger is being used.\n",
            "This may cause the debugger to stop working correctly.\n",
            "If this is needed, please check: \n",
            "http://pydev.blogspot.com/2007/06/why-cant-pydev-debugger-work-with.html\n",
            "to see how to restore the debug tracing back correctly.\n",
            "Call Location:\n",
            "  File \"/usr/lib/python3.7/bdb.py\", line 332, in set_trace\n",
            "    sys.settrace(self.trace_dispatch)\n",
            "\n"
          ],
          "name": "stderr"
        },
        {
          "output_type": "stream",
          "text": [
            "> <ipython-input-22-f4bb50d261b1>(18)get_url()\n",
            "-> return url\n",
            "(Pdb) alert.bandNames\n",
            "<bound method ApiFunction.importApi.<locals>.MakeBoundFunction.<locals>.<lambda> of <ee.image.Image object at 0x7f3e65dd7250>>\n",
            "(Pdb) vector\n",
            "<ee.featurecollection.FeatureCollection object at 0x7f3e66150f10>\n",
            "(Pdb) url = alert.getDownloadUrl({ \t\t\t\t'scale': 200, \t\t\t \t\t\t\t'crs': 'EPSG:4326', })\n",
            "*** ee.ee_exception.EEException: Pixel grid dimensions (200376x100188) must be less than or equal to 10000.\n",
            "(Pdb) q\n"
          ],
          "name": "stdout"
        },
        {
          "output_type": "stream",
          "text": [
            "\n",
            "PYDEV DEBUGGER WARNING:\n",
            "sys.settrace() should not be used when the debugger is being used.\n",
            "This may cause the debugger to stop working correctly.\n",
            "If this is needed, please check: \n",
            "http://pydev.blogspot.com/2007/06/why-cant-pydev-debugger-work-with.html\n",
            "to see how to restore the debug tracing back correctly.\n",
            "Call Location:\n",
            "  File \"/usr/lib/python3.7/bdb.py\", line 357, in set_quit\n",
            "    sys.settrace(None)\n",
            "\n"
          ],
          "name": "stderr"
        },
        {
          "output_type": "error",
          "ename": "BdbQuit",
          "evalue": "ignored",
          "traceback": [
            "\u001b[0;31m---------------------------------------------------------------------------\u001b[0m",
            "\u001b[0;31mBdbQuit\u001b[0m                                   Traceback (most recent call last)",
            "\u001b[0;32m<ipython-input-23-399b84fa7f84>\u001b[0m in \u001b[0;36m<module>\u001b[0;34m()\u001b[0m\n\u001b[1;32m      2\u001b[0m \u001b[0mcountry_alerts\u001b[0m \u001b[0;34m=\u001b[0m \u001b[0;34m[\u001b[0m\u001b[0;34m]\u001b[0m\u001b[0;34m\u001b[0m\u001b[0;34m\u001b[0m\u001b[0m\n\u001b[1;32m      3\u001b[0m \u001b[0;32mfor\u001b[0m \u001b[0mi\u001b[0m\u001b[0;34m,\u001b[0m \u001b[0mcntry\u001b[0m \u001b[0;32min\u001b[0m \u001b[0menumerate\u001b[0m\u001b[0;34m(\u001b[0m\u001b[0mCOUNTRIES\u001b[0m\u001b[0;34m)\u001b[0m\u001b[0;34m:\u001b[0m\u001b[0;34m\u001b[0m\u001b[0;34m\u001b[0m\u001b[0m\n\u001b[0;32m----> 4\u001b[0;31m   \u001b[0mcountry_alerts\u001b[0m\u001b[0;34m.\u001b[0m\u001b[0mappend\u001b[0m\u001b[0;34m(\u001b[0m\u001b[0mcompute_country_radar_alert\u001b[0m\u001b[0;34m(\u001b[0m\u001b[0mcntry\u001b[0m\u001b[0;34m)\u001b[0m\u001b[0;34m)\u001b[0m\u001b[0;31m# Appends a tuple of ((loss, gain), loss_url, gain_url)\u001b[0m\u001b[0;34m\u001b[0m\u001b[0;34m\u001b[0m\u001b[0m\n\u001b[0m\u001b[1;32m      5\u001b[0m \u001b[0;34m\u001b[0m\u001b[0m\n\u001b[1;32m      6\u001b[0m \u001b[0mprint\u001b[0m \u001b[0;34m(\u001b[0m\u001b[0;34m\"Country urls: \"\u001b[0m\u001b[0;34m,\u001b[0m \u001b[0;34m[\u001b[0m\u001b[0mlist\u001b[0m\u001b[0;34m(\u001b[0m\u001b[0mx\u001b[0m\u001b[0;34m)\u001b[0m\u001b[0;34m[\u001b[0m\u001b[0;36m1\u001b[0m\u001b[0;34m:\u001b[0m\u001b[0;34m]\u001b[0m \u001b[0;32mfor\u001b[0m \u001b[0mx\u001b[0m \u001b[0;32min\u001b[0m \u001b[0mcountry_alerts\u001b[0m\u001b[0;34m]\u001b[0m\u001b[0;34m)\u001b[0m\u001b[0;34m\u001b[0m\u001b[0;34m\u001b[0m\u001b[0m\n",
            "\u001b[0;32m<ipython-input-7-f1b1bbcd05e1>\u001b[0m in \u001b[0;36mcompute_country_radar_alert\u001b[0;34m(country_name, return_url)\u001b[0m\n\u001b[1;32m     10\u001b[0m             get_url(alert=alerts[0],\n\u001b[1;32m     11\u001b[0m                       \u001b[0mfile_name\u001b[0m\u001b[0;34m=\u001b[0m\u001b[0mgenerate_file_name\u001b[0m\u001b[0;34m(\u001b[0m\u001b[0mcountry_name\u001b[0m\u001b[0;34m,\u001b[0m \u001b[0;34m\"loss\"\u001b[0m\u001b[0;34m)\u001b[0m\u001b[0;34m,\u001b[0m\u001b[0;34m\u001b[0m\u001b[0;34m\u001b[0m\u001b[0m\n\u001b[0;32m---> 12\u001b[0;31m                       vector=aoi), #loss url\n\u001b[0m\u001b[1;32m     13\u001b[0m             get_url(alert=alerts[1],\n\u001b[1;32m     14\u001b[0m                       \u001b[0mfile_name\u001b[0m\u001b[0;34m=\u001b[0m\u001b[0mgenerate_file_name\u001b[0m\u001b[0;34m(\u001b[0m\u001b[0mcountry_name\u001b[0m\u001b[0;34m,\u001b[0m \u001b[0;34m\"gain\"\u001b[0m\u001b[0;34m)\u001b[0m\u001b[0;34m,\u001b[0m\u001b[0;34m\u001b[0m\u001b[0;34m\u001b[0m\u001b[0m\n",
            "\u001b[0;32m<ipython-input-22-f4bb50d261b1>\u001b[0m in \u001b[0;36mget_url\u001b[0;34m(alert, file_name, vector)\u001b[0m\n\u001b[1;32m     16\u001b[0m \t\t\t}) \n\u001b[1;32m     17\u001b[0m   \u001b[0;32mimport\u001b[0m \u001b[0mpdb\u001b[0m\u001b[0;34m;\u001b[0m \u001b[0mpdb\u001b[0m\u001b[0;34m.\u001b[0m\u001b[0mset_trace\u001b[0m\u001b[0;34m(\u001b[0m\u001b[0;34m)\u001b[0m\u001b[0;34m\u001b[0m\u001b[0;34m\u001b[0m\u001b[0m\n\u001b[0;32m---> 18\u001b[0;31m   \u001b[0;32mreturn\u001b[0m \u001b[0murl\u001b[0m\u001b[0;34m\u001b[0m\u001b[0;34m\u001b[0m\u001b[0m\n\u001b[0m",
            "\u001b[0;32m<ipython-input-22-f4bb50d261b1>\u001b[0m in \u001b[0;36mget_url\u001b[0;34m(alert, file_name, vector)\u001b[0m\n\u001b[1;32m     16\u001b[0m \t\t\t}) \n\u001b[1;32m     17\u001b[0m   \u001b[0;32mimport\u001b[0m \u001b[0mpdb\u001b[0m\u001b[0;34m;\u001b[0m \u001b[0mpdb\u001b[0m\u001b[0;34m.\u001b[0m\u001b[0mset_trace\u001b[0m\u001b[0;34m(\u001b[0m\u001b[0;34m)\u001b[0m\u001b[0;34m\u001b[0m\u001b[0;34m\u001b[0m\u001b[0m\n\u001b[0;32m---> 18\u001b[0;31m   \u001b[0;32mreturn\u001b[0m \u001b[0murl\u001b[0m\u001b[0;34m\u001b[0m\u001b[0;34m\u001b[0m\u001b[0m\n\u001b[0m",
            "\u001b[0;32m/usr/lib/python3.7/bdb.py\u001b[0m in \u001b[0;36mtrace_dispatch\u001b[0;34m(self, frame, event, arg)\u001b[0m\n\u001b[1;32m     86\u001b[0m             \u001b[0;32mreturn\u001b[0m \u001b[0;31m# None\u001b[0m\u001b[0;34m\u001b[0m\u001b[0;34m\u001b[0m\u001b[0m\n\u001b[1;32m     87\u001b[0m         \u001b[0;32mif\u001b[0m \u001b[0mevent\u001b[0m \u001b[0;34m==\u001b[0m \u001b[0;34m'line'\u001b[0m\u001b[0;34m:\u001b[0m\u001b[0;34m\u001b[0m\u001b[0;34m\u001b[0m\u001b[0m\n\u001b[0;32m---> 88\u001b[0;31m             \u001b[0;32mreturn\u001b[0m \u001b[0mself\u001b[0m\u001b[0;34m.\u001b[0m\u001b[0mdispatch_line\u001b[0m\u001b[0;34m(\u001b[0m\u001b[0mframe\u001b[0m\u001b[0;34m)\u001b[0m\u001b[0;34m\u001b[0m\u001b[0;34m\u001b[0m\u001b[0m\n\u001b[0m\u001b[1;32m     89\u001b[0m         \u001b[0;32mif\u001b[0m \u001b[0mevent\u001b[0m \u001b[0;34m==\u001b[0m \u001b[0;34m'call'\u001b[0m\u001b[0;34m:\u001b[0m\u001b[0;34m\u001b[0m\u001b[0;34m\u001b[0m\u001b[0m\n\u001b[1;32m     90\u001b[0m             \u001b[0;32mreturn\u001b[0m \u001b[0mself\u001b[0m\u001b[0;34m.\u001b[0m\u001b[0mdispatch_call\u001b[0m\u001b[0;34m(\u001b[0m\u001b[0mframe\u001b[0m\u001b[0;34m,\u001b[0m \u001b[0marg\u001b[0m\u001b[0;34m)\u001b[0m\u001b[0;34m\u001b[0m\u001b[0;34m\u001b[0m\u001b[0m\n",
            "\u001b[0;32m/usr/lib/python3.7/bdb.py\u001b[0m in \u001b[0;36mdispatch_line\u001b[0;34m(self, frame)\u001b[0m\n\u001b[1;32m    111\u001b[0m         \u001b[0;32mif\u001b[0m \u001b[0mself\u001b[0m\u001b[0;34m.\u001b[0m\u001b[0mstop_here\u001b[0m\u001b[0;34m(\u001b[0m\u001b[0mframe\u001b[0m\u001b[0;34m)\u001b[0m \u001b[0;32mor\u001b[0m \u001b[0mself\u001b[0m\u001b[0;34m.\u001b[0m\u001b[0mbreak_here\u001b[0m\u001b[0;34m(\u001b[0m\u001b[0mframe\u001b[0m\u001b[0;34m)\u001b[0m\u001b[0;34m:\u001b[0m\u001b[0;34m\u001b[0m\u001b[0;34m\u001b[0m\u001b[0m\n\u001b[1;32m    112\u001b[0m             \u001b[0mself\u001b[0m\u001b[0;34m.\u001b[0m\u001b[0muser_line\u001b[0m\u001b[0;34m(\u001b[0m\u001b[0mframe\u001b[0m\u001b[0;34m)\u001b[0m\u001b[0;34m\u001b[0m\u001b[0;34m\u001b[0m\u001b[0m\n\u001b[0;32m--> 113\u001b[0;31m             \u001b[0;32mif\u001b[0m \u001b[0mself\u001b[0m\u001b[0;34m.\u001b[0m\u001b[0mquitting\u001b[0m\u001b[0;34m:\u001b[0m \u001b[0;32mraise\u001b[0m \u001b[0mBdbQuit\u001b[0m\u001b[0;34m\u001b[0m\u001b[0;34m\u001b[0m\u001b[0m\n\u001b[0m\u001b[1;32m    114\u001b[0m         \u001b[0;32mreturn\u001b[0m \u001b[0mself\u001b[0m\u001b[0;34m.\u001b[0m\u001b[0mtrace_dispatch\u001b[0m\u001b[0;34m\u001b[0m\u001b[0;34m\u001b[0m\u001b[0m\n\u001b[1;32m    115\u001b[0m \u001b[0;34m\u001b[0m\u001b[0m\n",
            "\u001b[0;31mBdbQuit\u001b[0m: "
          ]
        }
      ]
    },
    {
      "cell_type": "code",
      "metadata": {
        "colab": {
          "base_uri": "https://localhost:8080/"
        },
        "id": "zJ-xaKlKWj_h",
        "outputId": "ab93bcbc-974b-40b5-a90b-fba4d9b7d332"
      },
      "source": [
        "country_alerts"
      ],
      "execution_count": null,
      "outputs": [
        {
          "output_type": "execute_result",
          "data": {
            "text/plain": [
              "[([<ee.image.Image at 0x7f3e66235310>, <ee.image.Image at 0x7f3e6621cd50>],\n",
              "  'https://earthengine.googleapis.com/v1alpha/projects/earthengine-legacy/thumbnails/476ecac66bf3d62bda3691c136624589-9cfbf32d2a7a5c88fe18f30e2bfa1aa4:getPixels',\n",
              "  'https://earthengine.googleapis.com/v1alpha/projects/earthengine-legacy/thumbnails/1ccc15a2e42e5e7b3f3340e3aab48f7a-031f1bb19c0d99f31948d2b6a9323fbb:getPixels')]"
            ]
          },
          "metadata": {
            "tags": []
          },
          "execution_count": 15
        }
      ]
    },
    {
      "cell_type": "code",
      "metadata": {
        "id": "glrc-fnjq55c",
        "colab": {
          "base_uri": "https://localhost:8080/",
          "height": 244
        },
        "outputId": "d0458713-a465-41b0-deea-29489414d218"
      },
      "source": [
        "Map = geemap.Map()\n",
        "\n",
        "Map.add_basemap('SATELLITE')\n",
        "Map.centerObject(ROI, 12)\n",
        "\n",
        "# for alert in country_alerts:\n",
        "Map.addLayer(s2_sr_cld_col_eval_disp,{'min': 0,'max': 1, 'palette': ['red']}, 'loss')\n",
        "Map.addLayer(s2_sr_cld_col_eval_disp2,{'min': 0,'max': 1, 'palette': ['blue']}, 'gain')\n",
        "Map\n",
        "\n",
        "# Map = geemap.Map()\n",
        "\n",
        "# Map.add_basemap('SATELLITE')\n",
        "# Map.centerObject(roi,12)\n",
        "\n",
        "# Map.addLayer(Trofmis_alert[0],{'min': 0,'max': 1, 'palette': ['red']}, 'loss')\n",
        "# Map.addLayer(Trofmis_alert[1],{'min': 0,'max': 1, 'palette': ['blue']}, 'gain')\n",
        "# Map"
      ],
      "execution_count": null,
      "outputs": [
        {
          "output_type": "error",
          "ename": "NameError",
          "evalue": "ignored",
          "traceback": [
            "\u001b[0;31m---------------------------------------------------------------------------\u001b[0m",
            "\u001b[0;31mNameError\u001b[0m                                 Traceback (most recent call last)",
            "\u001b[0;32m<ipython-input-37-2f8b72353a1d>\u001b[0m in \u001b[0;36m<module>\u001b[0;34m()\u001b[0m\n\u001b[1;32m      5\u001b[0m \u001b[0;34m\u001b[0m\u001b[0m\n\u001b[1;32m      6\u001b[0m \u001b[0;31m# for alert in country_alerts:\u001b[0m\u001b[0;34m\u001b[0m\u001b[0;34m\u001b[0m\u001b[0;34m\u001b[0m\u001b[0m\n\u001b[0;32m----> 7\u001b[0;31m \u001b[0mMap\u001b[0m\u001b[0;34m.\u001b[0m\u001b[0maddLayer\u001b[0m\u001b[0;34m(\u001b[0m\u001b[0ms2_sr_cld_col_eval_disp\u001b[0m\u001b[0;34m,\u001b[0m\u001b[0;34m{\u001b[0m\u001b[0;34m'min'\u001b[0m\u001b[0;34m:\u001b[0m \u001b[0;36m0\u001b[0m\u001b[0;34m,\u001b[0m\u001b[0;34m'max'\u001b[0m\u001b[0;34m:\u001b[0m \u001b[0;36m1\u001b[0m\u001b[0;34m,\u001b[0m \u001b[0;34m'palette'\u001b[0m\u001b[0;34m:\u001b[0m \u001b[0;34m[\u001b[0m\u001b[0;34m'red'\u001b[0m\u001b[0;34m]\u001b[0m\u001b[0;34m}\u001b[0m\u001b[0;34m,\u001b[0m \u001b[0;34m'loss'\u001b[0m\u001b[0;34m)\u001b[0m\u001b[0;34m\u001b[0m\u001b[0;34m\u001b[0m\u001b[0m\n\u001b[0m\u001b[1;32m      8\u001b[0m \u001b[0mMap\u001b[0m\u001b[0;34m.\u001b[0m\u001b[0maddLayer\u001b[0m\u001b[0;34m(\u001b[0m\u001b[0ms2_sr_cld_col_eval_disp2\u001b[0m\u001b[0;34m,\u001b[0m\u001b[0;34m{\u001b[0m\u001b[0;34m'min'\u001b[0m\u001b[0;34m:\u001b[0m \u001b[0;36m0\u001b[0m\u001b[0;34m,\u001b[0m\u001b[0;34m'max'\u001b[0m\u001b[0;34m:\u001b[0m \u001b[0;36m1\u001b[0m\u001b[0;34m,\u001b[0m \u001b[0;34m'palette'\u001b[0m\u001b[0;34m:\u001b[0m \u001b[0;34m[\u001b[0m\u001b[0;34m'blue'\u001b[0m\u001b[0;34m]\u001b[0m\u001b[0;34m}\u001b[0m\u001b[0;34m,\u001b[0m \u001b[0;34m'gain'\u001b[0m\u001b[0;34m)\u001b[0m\u001b[0;34m\u001b[0m\u001b[0;34m\u001b[0m\u001b[0m\n\u001b[1;32m      9\u001b[0m \u001b[0mMap\u001b[0m\u001b[0;34m\u001b[0m\u001b[0;34m\u001b[0m\u001b[0m\n",
            "\u001b[0;31mNameError\u001b[0m: name 's2_sr_cld_col_eval_disp' is not defined"
          ]
        }
      ]
    },
    {
      "cell_type": "code",
      "metadata": {
        "id": "VzyksHZEhrTq"
      },
      "source": [
        "# task = ee.batch.Export.image.toDrive(image=c_map_gain,  # an ee.Image object.\n",
        "#                                      region=roi.geometry(),  # an ee.Geometry object.\n",
        "#                                      description='Kakamega_radar',\n",
        "#                                      folder='Radar_changes',\n",
        "#                                      fileNamePrefix='Kakamega_Gain_Feb_March_Image',\n",
        "#                                      scale=10,\n",
        "#                                      crs='EPSG:4326')"
      ],
      "execution_count": null,
      "outputs": []
    },
    {
      "cell_type": "code",
      "metadata": {
        "id": "ysv_h4rMiPTJ"
      },
      "source": [
        "# task.start()"
      ],
      "execution_count": null,
      "outputs": []
    },
    {
      "cell_type": "code",
      "metadata": {
        "id": "84bZ7ra-iWYU"
      },
      "source": [
        "# task.status()"
      ],
      "execution_count": null,
      "outputs": []
    },
    {
      "cell_type": "code",
      "metadata": {
        "id": "YRX91SnShVGZ"
      },
      "source": [
        "# geemap.ee_export_image(c_map_loss, filename='Kakamega_loss_radar.tif',scale=10, region= AOI.geometry(),file_per_band=False)"
      ],
      "execution_count": null,
      "outputs": []
    }
  ]
}